{
  "nbformat": 4,
  "nbformat_minor": 0,
  "metadata": {
    "colab": {
      "name": "ADsP_2과목.ipynb",
      "provenance": [],
      "collapsed_sections": [],
      "toc_visible": true,
      "include_colab_link": true
    },
    "kernelspec": {
      "name": "python3",
      "display_name": "Python 3"
    }
  },
  "cells": [
    {
      "cell_type": "markdown",
      "metadata": {
        "id": "view-in-github",
        "colab_type": "text"
      },
      "source": [
        "<a href=\"https://colab.research.google.com/github/hsh890112/Ai-Study/blob/main/ADsP_2%EA%B3%BC%EB%AA%A9.ipynb\" target=\"_parent\"><img src=\"https://colab.research.google.com/assets/colab-badge.svg\" alt=\"Open In Colab\"/></a>"
      ]
    },
    {
      "cell_type": "markdown",
      "metadata": {
        "id": "cHrZQRs3cntJ"
      },
      "source": [
        "### ADsP 2과목 : 데이터의 분석 기획"
      ]
    },
    {
      "cell_type": "markdown",
      "metadata": {
        "id": "2DTzFfwEhZno"
      },
      "source": [
        "### 01 분석의 4가지 유형\n",
        "**분석 대상을 알면 OS 모르면 ID 로 암기하자**\n",
        "- 최적화(Optimization) : 분석 대상 및 분석 방법을 이해하고 현 문제를 최적화의 형태로 수행함\n",
        "- 솔루션(Solution) : 분석 대상 알고, 분석의 방법을 모르는 경우 솔루션을 찾는 방식으로 과제 수행\n",
        "- 통찰(Insight)\n",
        "   - 분석의 대상(WHAT)을 모르고 하는 분석 방법(HOW)의 경우 분석 방향 (16회)\n",
        "   - 분석 대상을 모르나 기존 분석 방식을 활용해 분석 (18회)\n",
        "- 발견(Discovery) : 분석 대상을 모르고, 분석 방법도 모르는 경우 발견을 통해 대상을 새로 선정하는 것\n",
        "\n",
        "\n"
      ]
    },
    {
      "cell_type": "markdown",
      "metadata": {
        "id": "2NXKkB26his5"
      },
      "source": [
        "![image.png](data:image/png;base64,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)"
      ]
    },
    {
      "cell_type": "code",
      "metadata": {
        "id": "wgabxHdWcest"
      },
      "source": [
        "Insight를 찾는 객관식  (17회)\n",
        "통찰, 발견을 찾는 객관식 (18회)\n",
        "Solution찾는 객관식 (21회)"
      ],
      "execution_count": null,
      "outputs": []
    },
    {
      "cell_type": "markdown",
      "metadata": {
        "id": "oUPNp5lApzr6"
      },
      "source": [
        "### 02 목표 시점별 분석기획 방안\n",
        "- 과제 중심적인 접근 방식의 특징\n",
        "  - 목표 시점별로 당면한 과제를 빠르게 해결하는 방식\n",
        "  - Speed & Test\n",
        "  - Quick - Win\n",
        "  - Problem Solving\n",
        "- 마스터플랜 단위\n",
        "  - 지속적 분석 문화 내재화\n",
        "  - Accuracy & Deploy\n",
        "  - Long Term View\n",
        "  - Problem Definition"
      ]
    },
    {
      "cell_type": "code",
      "metadata": {
        "id": "MvpGelgJqIOP"
      },
      "source": [
        "과제 중심적 접근 방식의 특징 아닌 것 (19회)\n",
        "- Accuracy * Deploy는 분석 마스터플랜"
      ],
      "execution_count": null,
      "outputs": []
    },
    {
      "cell_type": "markdown",
      "metadata": {
        "id": "bOguf8mrnCqA"
      },
      "source": [
        "### 03 분석 기획 시 고려사항\n",
        "- 가용한 데이터 (Available Data)\n",
        "   - 데이터 유형에 따라 적용 가능한 솔루션 및 분석 방법이 다르기 때문에 유형에 대한 분석이 선행적으로 이루어져야 함\n",
        "   - 예) 정형, 비정형, 반정형 데이터\n",
        "- 적절한 유스케이스(Proper Use-Case) 탐색\n",
        "   - 유사 분석 시나리오 및 솔루션이 있다면 이를 최대한 활용해야 함\n",
        "- 장애요소들에 대한 사전 계획 수립 (Low Barrier of Execution)\n",
        "   - 장애요소들에 대한 사전 계획 수립 필요\n",
        "   - 일회성 분석으로 그치지 않고 조직의 역량을 내재화하기 위해서는 충분하고 계속적인 교육 및 활용방안 등의 변화관리(Change Management)가 고려되어야 함\n",
        "\n",
        "\n"
      ]
    },
    {
      "cell_type": "code",
      "metadata": {
        "id": "zRydNwkVnzxO"
      },
      "source": [
        "장애 요소에 대한 부적절 설명 찾기 (18회)\n",
        "- 복잡하고 정교한 모형이 효과적이라해서 틀림\n",
        "분석 과제 기획 시 고려요소 아닌 것 고르기 (19회)\n",
        "- 데이터 분석을 위해 데이터 정형화 필수라고 해서 틀림"
      ],
      "execution_count": null,
      "outputs": []
    },
    {
      "cell_type": "markdown",
      "metadata": {
        "id": "KRDeKWofqmkc"
      },
      "source": [
        "### 04 데이터의 종류\n",
        "- 정형 : CRM Transaction data, ERP, Demand Forecast\n",
        "- 반정형 : sensor, machine data, Competitor pricing\n",
        "- 비정형 : Email, SNS, voice, IoT, 보고서, news"
      ]
    },
    {
      "cell_type": "code",
      "metadata": {
        "id": "TgNBR9N_qo49"
      },
      "source": [
        "정형, 반정형, 비정형의 예 고르기 (18회)\n",
        "다른 종류 고르기 (21회)\n",
        "- ERP, CRM, Demand Forecast는 정형"
      ],
      "execution_count": null,
      "outputs": []
    },
    {
      "cell_type": "markdown",
      "metadata": {
        "id": "CA0XjIa_CvM2"
      },
      "source": [
        "### 05 분석방법론의 구성요소 (절방도템)\n",
        "- 절차\n",
        "- 방법\n",
        "- 도구와 기법\n",
        "- 템플릿"
      ]
    },
    {
      "cell_type": "code",
      "metadata": {
        "id": "Q_oTThm-CwNp"
      },
      "source": [
        "구성요소가 아닌 것 고르기 (20회, 22회)"
      ],
      "execution_count": null,
      "outputs": []
    },
    {
      "cell_type": "markdown",
      "metadata": {
        "id": "mDdsdk6JtFYH"
      },
      "source": [
        "### 06 분석 방법론의 모델 3가지\n",
        "- 폭포수모델 : 단계를 순차적으로 진행, 이전단계가 완료되어야 다음 단계로 순차 진행하는 하향식 진행, 문제점이 발견되면 전단계로 돌아가는 피드백 수행\n",
        "- **나선형모델** : 반복을 통하여 점증적으로 개발, 처음 시도하는 프로젝트에 적용이 용이하지만, 반복에 대한 관리체계를 효과적으로 갖추지 못한 경우 복잡도가 상승하여 프로젝트 진행이 어려울 수 있음\n",
        "- 프로토타입모델 \n",
        "   - 사용자가 **요구사항이나 데이터를 정확히 규정하기 어렵고 데이터 소스도 명확히 파악하기 어려운 상황**에서 일단 분석을 시도해보고 그 결과를 확인해가면서 반복적으로 개선해 나가는 방법\n",
        "   - 사용자들이 이렇게 만들면 편하게 사용할거야 라는 가설을 생성하게 된다\n",
        "   - 특정 가설을 갖고 서비스를 설계하고 디자인에 대한 실험도 실행한다\n",
        "   - 프로토타입을 보고 완성시킨 결과물을 통해 가설을 확인할 수 있다\n",
        "   - 신속하게 해결책 모형제시, **상향식 접근방법**이다\n",
        "   - 시제품이 나오기 전의 제품의 원형으로 개발 검증과 양산 검증을 거쳐야 시제품이 될 수 있다\n",
        "   - '정보시스템의 미완성 버전 또는 중요한 기능들이 포함되어 있는 시스템의 초기모델' 이다\n"
      ]
    },
    {
      "cell_type": "code",
      "metadata": {
        "id": "2kxDNyXstAH9"
      },
      "source": [
        "나선형 모델링 - 주관식 문항으로 출제 (19회)\n",
        "프로토타이핑 - 틀린 것 찾는 객관식 (17회)\n",
        "프로토타이핑 - 적절한 설명 찾기, 적절하지 않은 설명 찾기(18회, 23회) "
      ],
      "execution_count": null,
      "outputs": []
    },
    {
      "cell_type": "markdown",
      "metadata": {
        "id": "Iz4_aP28xFId"
      },
      "source": [
        "### 07 KDD 분석\n",
        "-  분석 대상의 비즈니스 도메인에 대한 이해와 프로젝트 목표를 정확하게 설정\n",
        "- 데이터셋 선택\n",
        "- **데이터 전처리** : 데이터 셋트에 포함되어있는 잡음(Noise)과 이상값(Outlier), 결측치(Missing Value)를 식별하고 필요시 제거하거나 의미 있는 데이터로 처리하는 데이터 세트 정제작업 단계\n",
        "- 데이터 변환 : 분석 목적에 맞는 변수 선택, 데이터의 차원 축소\n",
        "- **데이터 마이닝** : 데이터의 패턴을 찾거나 데이터를 분류 또는 예측 등의 마이닝 작업 시행\n",
        "- 데이터 마이닝 결과 평가\n"
      ]
    },
    {
      "cell_type": "code",
      "metadata": {
        "id": "fGUGi2xwxs67"
      },
      "source": [
        "설명을 써주고 '데이터 전처리' 찾기 (23회)"
      ],
      "execution_count": null,
      "outputs": []
    },
    {
      "cell_type": "markdown",
      "metadata": {
        "id": "wAWljrLdyXxQ"
      },
      "source": [
        "### 08 CRISP-DM 분석\n",
        "- 업무 이해(Business Understanding) \n",
        "   - **주요구성 : 업무 목적 파악 - 상황 파악 - 데이터 마이닝 목표 설정 - 프로젝트 계획 수립**\n",
        "- 데이터 이해\n",
        "- 데이터 준비\n",
        "   - **KDD의 데이터 전처리 == CRISP-DM 분석 방법론의 데이터 준비** \n",
        "- 모델링(Modeling) \n",
        "   - **데이터 분석 방법론, 머신러닝을 이용한 수행 모델을 만들거나 데이터를 분할하는 부분** (단답형 지문)\n",
        "   - **모델링 기법 선택, 모델링 작성, 모델 평가**\n",
        "- 평가(Evaluation)\n",
        "   - 분석 결과 평가, 모델링 과정 평가, 모델 적용성 평가\n",
        "- 전개"
      ]
    },
    {
      "cell_type": "code",
      "metadata": {
        "id": "XltEE6p7y_SH"
      },
      "source": [
        "KDD의 데이터 전처리와 유사항 CRISP-DM 분석을 주관식으로 (16회)\n",
        "업무 이해에 대한 - 주요 구성 찾기 (21회)\n",
        "구성 내용 아닌 것 찾기 (21회)\n",
        "- 모델 적용성 평가가 ... 아닌 것이었음 (-.-)\n",
        "모델링 주관식 문제로 출제 (18회)"
      ],
      "execution_count": null,
      "outputs": []
    },
    {
      "cell_type": "markdown",
      "metadata": {
        "id": "CUOC4o251wIP"
      },
      "source": [
        "### 09 분석기획(Planning) 단계의 Task\n",
        "- **비즈니스 이해 및 범위 설정 -> 프로젝트 정의 및 계획 수립 -> 프로젝트 위험계획 수립**\n",
        "- 비즈니스 이해 및 범위 설정 : SOW(statement of work) 작성\n",
        "- 프로젝트 정의 및 계획 수립 : WBS(work breakdown structure) 작성\n",
        "- 프로젝트 위험 계획 수립 : \n",
        "   - 위험에 대한 대응 방법: **회피(avoid), 전이(Transfer), 완화(Mitigate), 수용(Accept)**"
      ]
    },
    {
      "cell_type": "code",
      "metadata": {
        "id": "abLvpAxk2Uoh"
      },
      "source": [
        "분석기획 단계의 순서 찾기 객관식 (17회)\n",
        "빅데이터 분석 기획 단계에서의  Task 아닌 것 (20회, 22회)\n",
        "프로젝트 위험 계획 수립시 위험에 대한 대응 방법 아닌 것 고르기 (20회, 22회)\n",
        "- 관리(Management)라는 것 틀림"
      ],
      "execution_count": null,
      "outputs": []
    },
    {
      "cell_type": "markdown",
      "metadata": {
        "id": "X0ikqMV017kx"
      },
      "source": [
        "### 10 SOW : 작업기술서 또는 업무기술서\n",
        "- SOW를 통해 프로젝트의 목적달성을 위해서 해야 할 일에 대해 이해할 수 있음\n",
        "- 일정, 원가, 품질에 대한 요구 사항 및 고객, 사용자들을 명시한 포괄적인 문서\n",
        "- WBS(Work Breakdown Structure) 범위 기술서에 정의된 high level의 정보를 바탕으로 구체적인 업무 범위를 설정하는 것"
      ]
    },
    {
      "cell_type": "markdown",
      "metadata": {
        "id": "h7CwGZTp3wf3"
      },
      "source": [
        "### 11 데이터 준비 단계\n",
        "- 필요 데이터 정의\n",
        "- 데이터 스토어 설계\n",
        "- 데이터 수집 및 정합성 점검"
      ]
    },
    {
      "cell_type": "markdown",
      "metadata": {
        "id": "N25LpIh--gn2"
      },
      "source": [
        "### 12 데이터 분석 단계\n",
        "- 분석용 데이터 준비\n",
        "- 텍스트 분석\n",
        "- 탐색적 분석(EDA)\n",
        "- 모델링\n",
        "- 모델 평가 및 검증\n",
        "> 추가적인 데이터 확보가 필요한 경우 반복적인 피드백을 수행하는 구간\n",
        ">> 데이터 준비 ~ 데이터 분석"
      ]
    },
    {
      "cell_type": "code",
      "metadata": {
        "id": "4Gr55ZOnMKtb"
      },
      "source": [
        "데이터 분석 주관식 문제로 출제 (18회) => ??"
      ],
      "execution_count": null,
      "outputs": []
    },
    {
      "cell_type": "markdown",
      "metadata": {
        "id": "lTFiPELzCllR"
      },
      "source": [
        "### 13 하향식 접근 모델\n",
        "- 하향식 접근법의 데이터 분석 기획 단계\n",
        "  - Problem Discovery -> Problem Definition -> Solution Search -> Feasibility Study\n",
        "  - 문제탐색 -> 문제정의 -> 해결방안탐색 -> 타당도검토\n",
        "- 하향식 접근방식의 문제 탐색 단계(Problem Discovery)\n",
        "  - **비즈니스 모델 기반 문제 탐색** : 비즈니스 모델 틀을 활용하여 가치가 창출될 문제를 누락없이 도출할 수 있다\n",
        "  > 비즈니스 모델 관점에서는 해당 기업의 사업 모델을 도식화한 비즈니스 모델 캔버스 블록을 단순화하여 **업무, 제품, 고객 단위**로 문제를 발굴하고 이를 관리하는 **지원 인프라, 규제와 감사 영역에 대한 기회를 추가로 도출**하는 작업 수행\n",
        "\n",
        "  - **분석 기회 발굴의 범위 확장** : 환경과 경쟁구도의 변화, 역량의 재해석을 통해 분석 기회를 추가 도출한다\n",
        "> - 거시적 관심의 요인: 사회, 기술, 경제, 환경, 정치 영역\n",
        "> - **경쟁자 확대 관점: 대체재 영역, 경쟁자 영역, 신규진입자 영역**\n",
        "> - 시장의 니즈 탐색: 고객(소비자)영역, 채널 영역, 영향자들 영역 \n",
        "> - 역량의 재해석 관점: 내부역량 영역, 파트너 네트워크 영역\n",
        "\n",
        "  - **외부 참조 모델 기반 문제 탐색**\n",
        "  - **분석 유즈 케이스(Analytics Use Case)기반 문제 탐색**\n",
        "> 현재의 비즈니스 모델 및 유사, 동종사례 탐색을 통해서 빠짐없이 도출한 분석기회들을 구체적인 과제로 만들기 전에 **분석 유즈 케이스**로 표기하는 것이 필요하다. 풀어야 할 문제에 대한 상세서명 및 해당 문제를 해결했을 때 발생하는 효과를 명시함으로써 향후 데이터 분석 문제로의 전환 및 적합성 평가에 분석 유즈 케이스를 활용하도록 한다 \n",
        "- 문제 탐색의 도구\n",
        "  - 비즈니스 모델 기반 문제 탐색, 외부 참조 모델 기반 문제 탐색, 분석 유즈 케이스 "
      ]
    },
    {
      "cell_type": "code",
      "metadata": {
        "id": "GdfTngt0Co70"
      },
      "source": [
        "하향식 분석 기획 단계 올바른 것 찾기 (20회, 22회)\n",
        "하향식 접근 방식의 문제 탐색 단계 설명 아닌 것 고르기 (18회)\n",
        "분석 유즈 케이스 단답형 (23회)\n",
        "비즈니스 모델 관점 구성단위 찾는 객관식 문항 (17회, 22회)\n",
        "문제 탐색의 도구가 아닌 것 찾기 (19회)\n",
        "- 탐색적 문제 발견이라해서 틀림\n",
        "틀린 것 고르기 (16회, 20회)\n",
        "- 소비자(Comsumer)영역은 '시장 니즈 탐색 관점의 영역'이다\n",
        "- 경쟁자 관점은 '대체제', '신규진입자', '경쟁자' 영역등이 있다"
      ],
      "execution_count": null,
      "outputs": []
    },
    {
      "cell_type": "markdown",
      "metadata": {
        "id": "7b7gUw4hv55z"
      },
      "source": [
        "### 14 상향식 접근 모델\n",
        "- 디자인 싱킹의 발산 단계에 해당함\n",
        "- 인사이트 도출 후 반복적인 시행착오를 통해 수정하며 문제를 도출하는 일련의 과정\n",
        "- 문제의 정의 자체가 어려운 경우 상향식 접근 방식 사용\n",
        "- 데이터를 기반으로 문제의 재정의 및 해결방안을 탐색하고 이를 지속적으로 개선하는 방식\n",
        "- 일반적으로 상향식 접근 방식의 데이터 분석은 비지도학습(Unsupervised Learning) 방법에 의해 수행됨\n"
      ]
    },
    {
      "cell_type": "code",
      "metadata": {
        "id": "ZaWhJ075v7nt"
      },
      "source": [
        "상향식 접근방식의 특징으로 올바른 것 찾기 (23회)"
      ],
      "execution_count": null,
      "outputs": []
    },
    {
      "cell_type": "markdown",
      "metadata": {
        "id": "_Vl75_szz3t6"
      },
      "source": [
        "### 15 분석 과제 접근 방법\n",
        "- **하향식** 접근 방식\n",
        "  - **문제가 확실할 때** 사용함\n",
        "  - 문제가 주어지고 해법을 찾기 위해 사용함\n",
        "- **상향식** 접근 방식\n",
        "  - **문제의 정의 자체가 어려운 경우** 사용함\n",
        "- **디자인 사고(Design Thinking)**\n",
        "   - 상향식과 하향식을 반복적으로 사용하기 쉬움\n",
        "   - 기존의 논리적인 단계별 접근법에 기반한 문제해결 방식은 최근 복잡하고 다양한 환경에서 발생하는 문제에 적합하지 않을 수 있다, 이를 해결하기 위해 \"디자인 사고\" 접근법을 통해 전통적인 분석적 사고를 극복하려고 한다\n",
        "   - 상향식 방식의 발산(Diverge)단계와 도출된 옵션을 분석하고 검증하는 하향식 접근 방식의 수렴단계를 반복하여 과제를 발굴한다"
      ]
    },
    {
      "cell_type": "code",
      "metadata": {
        "id": "CHJsVx5Yz3U9"
      },
      "source": [
        "틀린 것 고르는 객관식 (16회)\n",
        "- 문제가 확실할 때 하향식인데 상향식으로 써서 틀림!\n",
        "디자인 사고(Design Thinking) (21회)\n",
        "- 주관식 문제"
      ],
      "execution_count": null,
      "outputs": []
    },
    {
      "cell_type": "markdown",
      "metadata": {
        "id": "_8Soo49u3_E9"
      },
      "source": [
        "### 16 분석 프로젝트의 일반적인 특징\n",
        "- 분석 프로젝트는 다른 프로젝트 유형처럼 범위, 일정, 품질, 리스크, 의사소통 등 영역별 관리가 수행되어야 한다\n",
        "- 또한 다양한 데이터에 기반한 분석 기법을 적용하는 특성 때문에 5가지 주요 특성을 고려하여 추가적 관리가 필요하다\n",
        "- 분석 과제 주요 특성으로 Data Size, Data Complexity, speed, Analytic Complexity, Accuracy, Precision 등이 있다 (18회)\n",
        "   - Accuracy : 분석의 활용적인 측면 (모델과 실제값의 차이)\n",
        "   - Precision: 안정성 측면 (모델을 반복했을 때의 편차)\n",
        "   - **Accuracy, Precision은 트레이드 오프 경우가 많다**\n",
        "   - 정확도와 복잡도는 트레이드 오프관계가 존재한다   \n",
        "- 분석 프로젝트는 도출된 결과의 재해석을 통한 지속적인 반복 및 정규화가 수행되기도 한다\n",
        "- 분석 프로젝트의 경우 관리 영역에서 일반 프로젝트와 다르게 의유해야 할 요소가 존재한다 \n",
        "   - 분석 프로젝트 관리 영역 10개 : 시간, 범위, 품질, 통합, 이해관계자, 자원, 원가, 리스크, 조달, 의사소통\n",
        "- 분석 결과를 도출하였을 때 이를 활용하는 시나리오 측면에서 속도를 고려해야 함   "
      ]
    },
    {
      "cell_type": "code",
      "metadata": {
        "id": "xmh7HCBe3-RB"
      },
      "source": [
        "틀린 것 찾는 객관식 (17회)\n",
        "- 분석 프로젝트가 다른 유형과 다르고 추가적 관리사항이 필요없다로 틀림\n",
        "분석 과제 수행시 고려하는 5요소 아닌 것 찾기 (18회)\n",
        "- 5요소 기억 : 데이터 크기, 데이터 복잡성, 스피드, 분석 복잡도, accuracy & precision\n",
        "분석 프로젝트 관리의 영역이 아닌 것 찾기 (19회)\n",
        "- 영역별 주요 관리 항목 10가지 암기 필요\n",
        "적절하지 않음 설명 찾기(21회)\n",
        "- 일정계획을 지속적인 철저한 통제와 관리로 일정 관리 진행이라해서 틀림\n",
        "적절하지 않은 설명 찾기(21회)\n",
        "- Accuracy, Precision 관계가 트레이드 오프 되지 않는다 해서 틀림"
      ],
      "execution_count": null,
      "outputs": []
    },
    {
      "cell_type": "markdown",
      "metadata": {
        "id": "caTYo2ew1C9I"
      },
      "source": [
        "### 17 분석 과제 관리 프로세스\n",
        "- 분석 과제 관리 프로세스는 크게 과제발굴과 (과제수행) 및 모니터링으로 나누어진다.\n",
        "- 과제발굴 단계에서는 개별 조직이나 개인이 도출한 분석 아이디어를 발굴한다\n",
        "- 분석 과제 확정 후 과제 제안자는 (팀구성)을 하고 (분석과제실행)시 지속적인 모니터링과 과제 결과를 공유하고 개선하는 절차를 수행한다"
      ]
    },
    {
      "cell_type": "code",
      "metadata": {
        "id": "nLhQ2pOw1KWb"
      },
      "source": [
        "괄호 채우기 주관식 (21회)"
      ],
      "execution_count": null,
      "outputs": []
    },
    {
      "cell_type": "markdown",
      "metadata": {
        "id": "MtYpMAbz8KSY"
      },
      "source": [
        "### 18 분석 마스터 플랜\n",
        "- 데이터 분석 구현을 위한 적용 우선순위 평가 고려사항\n",
        "   - 전략적 중요도\n",
        "   - 실행 용이성\n",
        "   - 비즈니스 성과/ROI(투자자본수익률)\n",
        "- 적용 범위 및 방식의 고려요소\n",
        "   - 업무 내재화 적용 수준\n",
        "   - 분석 데이터 적용 수준\n",
        "   - 기술 적용 수준\n",
        "- 중장기적 마스터 플랜 수립을 위해서는 분석 과제를 대상으로 다양한 기준을 고려해 적용할 우선순위를 설정할 필요가 있음\n",
        "- 분석 과제의 적용 범위 및 방식에 대해서도 종합적으로 고려하여 결정함\n",
        "- 분석 과제 수행의 **선후행 관계를 고려하여 우선순위를 조정**해 나간다\n",
        "- 일반적인 IT 프로젝트의 우선순위로는 전략적 중요도와 실행 용이성이 있다"
      ]
    },
    {
      "cell_type": "code",
      "metadata": {
        "id": "_6tWwDV78qNu"
      },
      "source": [
        "우선순위 평가 시 고려요소 아닌 것 고르기 객관식 (16회)\n",
        "마스터 플랜 설명 틀린 것 찾기 (17회)\n",
        "- 분석 과제 수행의 선후관계 분석을 통해 전체 과제를 반복적이고 순환적으로 작성한다 해서 틀림\n",
        "마스터 플랜 수립시 적용 범위 및 방식의 고려요소 아닌 것 찾기 (20회, 22회)\n",
        "- 투자 비용 수준이 있어서 틀림"
      ],
      "execution_count": null,
      "outputs": []
    },
    {
      "cell_type": "markdown",
      "metadata": {
        "id": "hQ3mFlcYMWKK"
      },
      "source": [
        "### 19 분석 과제의 우선순위 선정 기법\n",
        "- 포트폴리오 사분면을 통한 과제 우선순위 선정\n",
        "> \n",
        "![image.png](data:image/png;base64,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)\n",
        "  - 3사분면 : 일반적으로 가장 먼저 하는 것\n",
        "  - 우선순위를 '시급성'에 둔다면 Ⅲ - Ⅳ - Ⅱ순서 진행\n",
        "  - 우선순위를 '난이도'에 둔다면 Ⅲ - Ⅰ - Ⅱ순서 진행\n",
        "- **시급성**의 판단 기준은 **전략적 중요도**가 핵심\n",
        "- **난이도**는 현시점에서 과제를 추진하는 것이 **비용과 범위 측면**에서 쉬운(Easy) 것인지 어려운(Difficulty)것인지에 대한 판단 기준\n",
        "- 시급성이 높고 난이도가 높은 영역은 경영진 또는 실무 담당자의 의사결정에 따라 적용 우선순위를 조정할 수 있음\n",
        "\n"
      ]
    },
    {
      "cell_type": "code",
      "metadata": {
        "id": "z4A47d96NqoP"
      },
      "source": [
        "일반적으로 가장 먼저 하는 것 : 3사분면 (19회)\n",
        "우선 순위를 '시급성'에 둔다면 결정해야 할 우선 순위는?  (20회, 22회)\n",
        "- 3 -> 4 -> 2 순서\n",
        "우선 순위를 '난이도'에 둔다면 결정해야 할 우선 순위는?\n",
        "- 3 -> 1 -> 2 순서\n",
        "우선 순위를 '시급성'과 '난이도' 모두 둘때는? (23회)\n",
        "- 시급성 - 현재, 난이도 - Easy (3)\n",
        "적절하지 않은 설명 (16회, 21회)\n",
        "- 시급성에 비용측면 없음"
      ],
      "execution_count": null,
      "outputs": []
    },
    {
      "cell_type": "markdown",
      "metadata": {
        "id": "FkX85EJQdP-O"
      },
      "source": [
        "### 20 데이터 분석을 위한 조직 구조\n",
        "- 집중형 조직 구조\n",
        "   - 조직내에 별도의 독립적인 분석 전담조직이 구성하고 회사의 **모든 분석 업무를 전담 조직에서 담당**함\n",
        "   - 일부 협업 부서와 분석 업무가 **중복 또는 이원화될 가능성**이 있음\n",
        "- 기능중심 조직 구조\n",
        "   - 별도로 분석 조직을 구성하지 않고 각 해당 업무부서에서 직접 분석하는 형태임\n",
        "   - 일반적인 분석 수행구조, 전사적 핵심 분석이 어려움\n",
        "- 분산 조직구조\n",
        "   - 조직의 인력들을 협업부서에 배치가 되어 **신속한 업무에 적합**\n",
        "   - 전사 차원의 우선순위 수행, 부서 분석업무와 역할 분담 명확히 해야함"
      ]
    },
    {
      "cell_type": "code",
      "metadata": {
        "id": "tPkbnJBpdTUd"
      },
      "source": [
        "틀린 것 찾기 (17회)\n",
        "- 분산된 조직 구조를 신속한 업무에 적합하지 않다고 함 (WRONG)\n",
        "집중구조 설명 써놓고 찾기 (19회, 21회)\n",
        "분산구조 설명 써놓고 찾기 (23회)"
      ],
      "execution_count": null,
      "outputs": []
    },
    {
      "cell_type": "markdown",
      "metadata": {
        "id": "MUkuhG8AmdXX"
      },
      "source": [
        "### 21 빅데이터 거버넌스의 특징\n",
        "- 기업이 가진 과거 및 현재의 모든 데이터를 분석하여 비즈니스 인사이트를 찾는 노력은 비용면에서 효율적이지 못함 -> **분석 대상 및 목적을 명확히 정의**하고, 필요한 데이터를 수집, 분석하여 점진적으로 확대해 나가는 것이 좋음\n",
        "- 빅데이터 분석에서 품질관리도 중요하지만, **데이터 수명주기 관리방안을 수립**하지 않으면 데이터 가용성 및 관리 비용 증대 문제에 직면할 수 있음\n",
        "- ERD는 운영 중인 데이터베이스와 일치하기 위해 **계속해서 변경사항을 관리**하여야 함\n",
        "- 산업 분야별, 데이터 유형별, 정보 거버넌스 **요소별로 구분하여 작성**함\n",
        "- 적합한 분석 업무를 도출하고 가치를 높여줄 수 있도록 분석 조직 및 인력에 대해 **지속적인 교육과 훈련을 실시**함\n",
        "- 빅데이터 거버넌스와 비교할 때 데이터 거버넌스와의 차이점\n",
        "  - 데이터 생명주기 관리, 개인정보보호 및 보안, 데이터 품질기준, 변경관리\n",
        "  - **데이터 백업 주기 변경은 차이점 아님**"
      ]
    },
    {
      "cell_type": "code",
      "metadata": {
        "id": "_XIB_jlumiyJ"
      },
      "source": [
        "거버넌스(governance)\n",
        "- \"공통의 목표를 달성하기 위해 정부, 시민사회, 기업 등 관련 이해관계자가 함께 의사결정을 해나가는 과정\""
      ],
      "execution_count": null,
      "outputs": []
    },
    {
      "cell_type": "code",
      "metadata": {
        "id": "KQh4ddDGmn8K"
      },
      "source": [
        "빅데이터 거버넌스의 특징 올바른 것 찾기 (19회, 23회)\n",
        "빅데이터 거버넌스, 데이터 거버넌스의 차이점에 해당하지 않는 것 찾기 (23회)\n",
        "- 데이터 백업 주기 변경"
      ],
      "execution_count": null,
      "outputs": []
    },
    {
      "cell_type": "markdown",
      "metadata": {
        "id": "SdESiPfZp9rK"
      },
      "source": [
        "### 22 데이터 거버넌스\n",
        "- 데이터 거버넌스에서 데이터 저장소 관리\n",
        "  - 메타데이터 및 표준 데이터를 관리하기 위한 전사 차원의 저장소를 구성함\n",
        "  - 저장소는 데이터 관리 체계 지원을 위한 워크프로우 및 관리용 응용 소프트웨어를 지원하고 관리 대상 시스템과의 인터페이스를 통한 통제가 이루어져야 함\n",
        "  - 데이터 구조 변경에 따른 **\"사전영향평가\"**도 수행되어야 효율적인 활용이 가능함 (단답형)\n",
        "\n",
        "- 데이터 거버넌스 체계요소\n",
        "  - **데이터 표준화: 데이터 표준용어 설정, 명명규칙 수립, 메타 데이터 구축, 데이터 사전 구축**\n",
        "  - 데이터 관리체계: 메타데이터와 데이터 사전의 관리 원칙 수립\n",
        "  - 데이터 저장소 관리: 메타데이터 및 표준 데이터를 관리하기 위한 **전사 차원의 저장소를 구성**\n",
        "  - 표준화 활동: 데이터 거버넌스 체계 구축 후, 표준 준수 여부를 주기적으로 점검, 모니터링\n"
      ]
    },
    {
      "cell_type": "code",
      "metadata": {
        "id": "GH9ZBo0YqCqX"
      },
      "source": [
        "사전영향평가 주관식 문항 (20회)\n",
        "데이터 표준화를 고르는 객관식 문제 (16회, 18회)\n",
        "데이터 표준화의 특징으로 바른 것 찾기 문제 (19회)"
      ],
      "execution_count": null,
      "outputs": []
    },
    {
      "cell_type": "markdown",
      "metadata": {
        "id": "5rjhtCv1rX9H"
      },
      "source": [
        "### 23 데이터 분석 준비도 프레임워크\n",
        "- 분석 업무 파악에 관한 항목\n",
        "   - 최적화 분석 업무, 시뮬레이션 분석 업무, 예측 분석 업무\n",
        "- 분석기법 영역\n",
        "   - 분석 기법 라이브러리"
      ]
    },
    {
      "cell_type": "code",
      "metadata": {
        "id": "yUK9QkEWykt6"
      },
      "source": [
        "분석업무파악에 관한 항목 아닌 것 고르기 (17회)"
      ],
      "execution_count": null,
      "outputs": []
    },
    {
      "cell_type": "markdown",
      "metadata": {
        "id": "E1IZok--4ZNT"
      },
      "source": [
        "### 24 분석 거버넌스 체제 고려 사항\n",
        "- 분석 기획/관리 및 추진 조직\n",
        "- 분석 프로세스\n",
        "- 과제 기획/운영 프로세스\n",
        "- IT 기술과 마인드 육성체계\n",
        "- 분석 시스템\n",
        "- 데이터 거버넌스"
      ]
    },
    {
      "cell_type": "code",
      "metadata": {
        "id": "r7A1Zg1j4bDS"
      },
      "source": [
        "분석 거버넌스 체제 고려사항 아닌 것 고르기 (16회, 22회)\n",
        "- 분석 비용 및 예산 아님!!"
      ],
      "execution_count": null,
      "outputs": []
    },
    {
      "cell_type": "markdown",
      "metadata": {
        "id": "za0ZlYLP4eBd"
      },
      "source": [
        "### 25 분석 성숙도 모델\n",
        "- 분석 수준 진단 방법 중 조직의 분석 및 활용을 위한 역량 수준을 파악하기 위해 도입 -> (활용) -> 확산 -> 최적화의 분석 성숙도 단계 포지셔닝을 파악하게 된다"
      ]
    },
    {
      "cell_type": "code",
      "metadata": {
        "id": "VU9C3-5l4lnV"
      },
      "source": [
        "활용 : 주관식 괄호 채우기 (23회)"
      ],
      "execution_count": null,
      "outputs": []
    },
    {
      "cell_type": "markdown",
      "metadata": {
        "id": "lImQnTGuyqae"
      },
      "source": [
        "### 26 관련 용어\n",
        "- Servitization : 제품과 서비스의 결합을 나타내는 용어\n",
        "- CoE (Center of Excellence)\n",
        "  - 구성원들이 비즈니스 역량, IT 역량 및 분석 역량을 고루 갖추어야 하며, 협업부서 및 IT 부서와의 지속적인 커뮤니케이션을 수행하는 조직 내 분석 전문조직을 말함\n",
        "- 정보전략계획(ISP)\n",
        "   - 기업의 경영목표 달성에 필요한 전략적 주요 정보를 포착하고, 주요 정보를 지원하기 위해 전사적 관점의 정보 구조를 도축하며, 이를 수행하기 위한 전략 및 실행 계획을 수립하는 전사적인 종합추진 계획  \n",
        "- 프레이밍 효과(Framing Effect)\n",
        "  - 동일한 사안이라고 해도 제시되는 방법에 따라 그에 관한 해석이나 의사결정이 달라지는 왜곡 현상\n"
      ]
    },
    {
      "cell_type": "code",
      "metadata": {
        "id": "Wc9w9_hQyxK5"
      },
      "source": [
        "Servitization ; 용어의 뜻을 써주고 찾는 문제 (23회)\n",
        "CoE : 주관식 문제 출제 (22회)\n",
        "ISP : 주관식 문항으로 출제됨 (19회, 22회)\n",
        "프레이밍 효과 : 주관식 문항으로 출제 (20회)"
      ],
      "execution_count": null,
      "outputs": []
    }
  ]
}