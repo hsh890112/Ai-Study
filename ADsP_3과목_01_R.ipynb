{
  "nbformat": 4,
  "nbformat_minor": 0,
  "metadata": {
    "colab": {
      "name": "ADsP_3과목_01_R.ipynb",
      "provenance": [],
      "collapsed_sections": [],
      "include_colab_link": true
    },
    "kernelspec": {
      "name": "python3",
      "display_name": "Python 3"
    }
  },
  "cells": [
    {
      "cell_type": "markdown",
      "metadata": {
        "id": "view-in-github",
        "colab_type": "text"
      },
      "source": [
        "<a href=\"https://colab.research.google.com/github/hsh890112/Ai-Study/blob/main/ADsP_3%EA%B3%BC%EB%AA%A9_01_R.ipynb\" target=\"_parent\"><img src=\"https://colab.research.google.com/assets/colab-badge.svg\" alt=\"Open In Colab\"/></a>"
      ]
    },
    {
      "cell_type": "markdown",
      "metadata": {
        "id": "UuD9QPVn-z_6"
      },
      "source": [
        "### ADsP 3과목 01-R언어"
      ]
    },
    {
      "cell_type": "markdown",
      "metadata": {
        "id": "x3wZRKPxbNE2"
      },
      "source": [
        "### 01 R의 특징\n",
        "- R은 다양한 플랫폼을 지원한다\n",
        "- R은 S 언어 기반의 프로그래밍 언어이다\n",
        "- 다양한 형태의 데이터 구조를 지원한다\n",
        "- 무료 소프트웨어이면서 복잡한 통계분석 기법이 가능하다"
      ]
    },
    {
      "cell_type": "code",
      "metadata": {
        "id": "6nTu5mX3baGJ"
      },
      "source": [
        "특징으로 옳지 않은 것 찾기 (23회)"
      ],
      "execution_count": null,
      "outputs": []
    },
    {
      "cell_type": "markdown",
      "metadata": {
        "id": "OUjqU-qxnGiT"
      },
      "source": [
        "### 02 데이터 타입 \n",
        "- 데이터 프레임 :각 열이 서로 다른 타입의 데이터 구조가 가능한 것\n",
        "- 벡터\n",
        "- 행렬\n",
        "- 스칼라\n",
        "- 리스트 : 타입이 다른 데이터 타입을 하나의 객체로 묶는 구조"
      ]
    },
    {
      "cell_type": "code",
      "metadata": {
        "id": "d-_KBF3gnMD9"
      },
      "source": [
        "각 열이 서로 다른 타입의 데이터 구조로 데이터 프레임 찾기(18회)\n",
        "리스트 찾기 (20회)"
      ],
      "execution_count": null,
      "outputs": []
    },
    {
      "cell_type": "markdown",
      "metadata": {
        "id": "3bLijwiDx-tH"
      },
      "source": [
        "### 03 R의 벡터\n",
        "1.   R에서 벡터는 하나 또는 하나 이상의 스칼라 원소들을 갖는 집합이다\n",
        "2. 합치는 벡터에 **문자형 벡터가 포함되면** 합쳐지는 벡터는 **문자형 벡터형**을 갖는다\n",
        "3. 논리연산자 벡터를 숫자형 벡터처럼 사용하는 경우 자동적으로 **TRUE는 1값**을 갖는다\n",
        "4. R은 **대소문자를 구분**한다\n",
        "5. dist변수의 벡터를 추출하기 위해서는 cars$dist를 실행 한다\n",
        "6. 벡터의 곱셈 : y=c(1, 2, 3,NA)일 때 3*y = 3, 6, 9, NA 이다"
      ]
    },
    {
      "cell_type": "code",
      "metadata": {
        "id": "45ISwzI_xqoB"
      },
      "source": [
        "옳은 벡터 설명 찾기, 1번만 옳은 설명으로 나옴 (16회) \n",
        "2번에 대한 내용 (22회)"
      ],
      "execution_count": null,
      "outputs": []
    },
    {
      "cell_type": "code",
      "metadata": {
        "id": "uVE7jcR5mchL"
      },
      "source": [
        "matrix 설명에서 as.vector(mx) 는 1행부터라고해서 틀림 (18회)"
      ],
      "execution_count": null,
      "outputs": []
    },
    {
      "cell_type": "markdown",
      "metadata": {
        "id": "m8D8UphkmD0C"
      },
      "source": [
        "### 04 R 데이터의 형 변환\n",
        "- mx <- matrix( c(23,41,12,35,67,1, 24, 7,53), nrow=3)\n",
        "   - as.vector(mx) 적용시 데이터는 1열부터 차례로 생성됨\n",
        "- as.integer(3.14)의 값은 3\n",
        "- as.numeric(FALSE)의 값은 0\n",
        "- as.logical(0.45)의 값은 TRUE"
      ]
    },
    {
      "cell_type": "markdown",
      "metadata": {
        "id": "LeUJNnqGxtMk"
      },
      "source": [
        "### 05 summary 함수는?\n",
        "- summary : 최소값, 1사분위수, 중위수, 3사분위수, 최대값, 평균값을 구할 수 있는 함수 \n",
        "- Min, 1st Qu. Median, Mean, 3rd Qu, Max"
      ]
    },
    {
      "cell_type": "code",
      "metadata": {
        "id": "vlaC91sVwLhB"
      },
      "source": [
        "summary : 최소값, 1사분위수, 중위수, 3사분위수, 최대값, 평균값을 구할 수 있는 함수 (16회)"
      ],
      "execution_count": null,
      "outputs": []
    },
    {
      "cell_type": "markdown",
      "metadata": {
        "id": "0l77YjvtRGhW"
      },
      "source": [
        "![image.png](data:image/png;base64,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)"
      ]
    },
    {
      "cell_type": "code",
      "metadata": {
        "id": "F39FJB7PRVbj"
      },
      "source": [
        "표를 보고 설명 적절하지 않은 것 찾기 (17회, 19회)\n",
        "- 17회 범주형 데이터 타입이라고 해서 틀림\n",
        "- 19회 speed의 제 3사분위수 알수 없다했는데... 나와 있어서 틀림"
      ],
      "execution_count": null,
      "outputs": []
    },
    {
      "cell_type": "code",
      "metadata": {
        "id": "1fBQHkKYt5z1"
      },
      "source": [
        "그림 보고 설명이 틀린 것 찾기 (17회)"
      ],
      "execution_count": null,
      "outputs": []
    },
    {
      "cell_type": "markdown",
      "metadata": {
        "id": "gDQRZnuU6QYa"
      },
      "source": [
        "###  06 R의 패키지 & 함수\n",
        "- plyr : apply 함수와 multi-core 사용 함수를 이용하면 for loop를 사용하지 않고 매우 간단하게 처리할 수 있고, apply 함수에 기반해 데이터와 출력변수를 동시에 배열로 치환하여 처리하는 패키지\n",
        "- ldply 함수 : plyr 함수 중 입력데이터는 리스트이고, 출력 데이터 형태는 데이터 프레임인 함수\n"
      ]
    },
    {
      "cell_type": "code",
      "metadata": {
        "id": "R4EdAWAZOrb0"
      },
      "source": [
        "plyr 묻는 객관식 문한 (20회)"
      ],
      "execution_count": null,
      "outputs": []
    },
    {
      "cell_type": "markdown",
      "metadata": {
        "id": "kx-RZEZh7yvY"
      },
      "source": [
        "### 07 R 패키지 -1\n",
        "- data.table에서 **dataframe으로 변경되면 ddply를 사용**할 수 있다\n",
        "- data.table은 데이터프레임과 유사하지만 보다 빠른 grouping이 가능함\n",
        "- ply() 함수는 앞에 두 개의 문자를 접두사로 가지는데, 첫 번째 문자는 입력하는 데이터 형태를 나타내고, 두 번째 문자는 출력하는 데이터 형태를 나타낸다\n",
        "- reshape 패키지의 주요 기능은 melt()와 cast()가 있다"
      ]
    },
    {
      "cell_type": "code",
      "metadata": {
        "id": "fX90F4zO8LR-"
      },
      "source": [
        "틀린 설명 찾기 (18회)\n",
        "- data.table에서 리스트로 변경되는 ddply를 사용이라해서 틀림"
      ],
      "execution_count": null,
      "outputs": []
    },
    {
      "cell_type": "markdown",
      "metadata": {
        "id": "msXJY4ApIfHQ"
      },
      "source": [
        "### 08 R의 패키지 설치 및 로드\n",
        "``` \n",
        "install.package(\"패키지명), library(\"패키지명\")\n",
        "install.package(\"패키지명), library(패키지명)\n",
        "```\n",
        "\n"
      ]
    },
    {
      "cell_type": "code",
      "metadata": {
        "id": "Qtfhbb8vIsrW"
      },
      "source": [
        "알맞은 것 찾기 (답이 2개였음) (19회)"
      ],
      "execution_count": null,
      "outputs": []
    },
    {
      "cell_type": "markdown",
      "metadata": {
        "id": "Da-9p-_LpDop"
      },
      "source": [
        "### 09 R 코딩의 결과\n",
        "\n",
        "\n"
      ]
    },
    {
      "cell_type": "code",
      "metadata": {
        "id": "8CYbuzRPAmdA"
      },
      "source": [
        "x <- 1:5\n",
        "y <-seq(10,50,10,)\n",
        "결과 <- rbind(x, y)\n",
        "- 2 * 5 행렬\n",
        "- 결과 [1,] 은 x와 같다\n",
        "- 데이터 프레임 타입의 자료구조"
      ],
      "execution_count": null,
      "outputs": []
    },
    {
      "cell_type": "code",
      "metadata": {
        "id": "fdjzImhGpL1k"
      },
      "source": [
        "(20회)\n",
        "DF <-c(\"Monday\", \"Tuesday\", \"Wednesday\")\n",
        "substr(DF, 1, 2)\n",
        "Out : \"Mo\", \"Tu\", \"We\""
      ],
      "execution_count": null,
      "outputs": []
    },
    {
      "cell_type": "code",
      "metadata": {
        "id": "2lCBVtK7pZVW"
      },
      "source": [
        "(20회)\n",
        "x<-c(1, 2, 3, 4)\n",
        "y<-c(\"apple\", \"banana\", \"orange\")\n",
        "xy<-c(x,y)"
      ],
      "execution_count": null,
      "outputs": []
    },
    {
      "cell_type": "code",
      "metadata": {
        "id": "9nbR3CR9pl9S"
      },
      "source": [
        "- xy는 문자형이다\n",
        "- 결과값은 \"1\", \"2\", \"3\", \"4\", \"apple\", \"banana\", \"orange\"\n",
        "- xy[1] + xy[2]의 결과는 \"12\" 이다\n",
        "- xy[c(5,7)], y[c(1,3)]의 결과값은 서로 같다\n",
        "  \"apple\", \"banana\", \"orange\"\n",
        "  "
      ],
      "execution_count": null,
      "outputs": []
    },
    {
      "cell_type": "code",
      "metadata": {
        "id": "rhpRaLzFs1_t"
      },
      "source": [
        "(20회)\n",
        "fruit <- c(5, 10, 1, 2)\n",
        "names(fruit) <- c(\"orange\", \"banana\", \"apple\", \"peach\")"
      ],
      "execution_count": null,
      "outputs": []
    },
    {
      "cell_type": "code",
      "metadata": {
        "id": "89dnaT35s98J"
      },
      "source": [
        "다음은 모두 같은 결과이다\n",
        "fruit[c(\"apple\", \"banana\")]\n",
        "fruit[3:2]\n",
        "fruit[c(3,2)]"
      ],
      "execution_count": null,
      "outputs": []
    },
    {
      "cell_type": "code",
      "metadata": {
        "id": "9qjQmR_rNmDW"
      },
      "source": [
        "(22회)\n",
        "m <- matrix(c(1,2,3,4,5,6), ncol=2, byrow=TRUE)\n",
        "m\n",
        "m[1,]"
      ],
      "execution_count": null,
      "outputs": []
    },
    {
      "cell_type": "code",
      "metadata": {
        "id": "bs1HjCEbNtMl"
      },
      "source": [
        "OUT :\n",
        "1 2"
      ],
      "execution_count": null,
      "outputs": []
    },
    {
      "cell_type": "code",
      "metadata": {
        "id": "thmk0wDjk76b"
      },
      "source": [
        "(23회)\n",
        "\"2013-08-13\" 을 문자열로 변환하는 R 코딩 방법\n",
        "as.Date(\"08/13/2013\", \"%m/%d/%Y\")"
      ],
      "execution_count": null,
      "outputs": []
    }
  ]
}