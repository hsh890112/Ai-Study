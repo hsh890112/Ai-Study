{
  "nbformat": 4,
  "nbformat_minor": 0,
  "metadata": {
    "colab": {
      "name": "ADsP_3과목_03.ipynb",
      "provenance": [],
      "collapsed_sections": [],
      "toc_visible": true,
      "include_colab_link": true
    },
    "kernelspec": {
      "name": "python3",
      "display_name": "Python 3"
    }
  },
  "cells": [
    {
      "cell_type": "markdown",
      "metadata": {
        "id": "view-in-github",
        "colab_type": "text"
      },
      "source": [
        "<a href=\"https://colab.research.google.com/github/hsh890112/Ai-Study/blob/main/ADsP_3%EA%B3%BC%EB%AA%A9_03.ipynb\" target=\"_parent\"><img src=\"https://colab.research.google.com/assets/colab-badge.svg\" alt=\"Open In Colab\"/></a>"
      ]
    },
    {
      "cell_type": "markdown",
      "metadata": {
        "id": "j5M3ZMEn6ubt"
      },
      "source": [
        "## 3과목 - 3. 정형 데이터 마이닝"
      ]
    },
    {
      "cell_type": "markdown",
      "metadata": {
        "id": "OMRWjNN4wtMR"
      },
      "source": [
        "### 01.데이터마이닝\n",
        "- 기업이 보유하고 있는 일일 거래 데이터, 고객 데이터, 상품 데이터 혹은 각종 마케팅 활동에 있어서의 고객 반응 데이터 등과 이외의 외부 데이터를 포함하는 **모든 사용가능한 원천 데이터를 기반으로 감춰진 지식, 기대하지 못했던 경향 또는 새로운 규칙 등을 발견하고 이를 실제 비즈니스 의사결정 등에 유용한 정보로 활용하는 일련의 작업**\n",
        "- 데이터마이닝 5단계\n",
        "   - 목적 정의 : 데이터 마이닝 도입 목적을 명확하게 함\n",
        "   - **데이터 준비** : **데이터 정제(Cleaning)를 통해 데이터의 품질 확보까지 포함**\n",
        "   > 필요시 데이터 양 충분하게 확보\n",
        "   - **데이터 가공** : **목적 변수를 정의하고, 필요한 데이터를 데이터 마이닝 소프트웨어에 적용할 수 있게 가공 및 준비하는 단계**\n",
        "> 충분한 CPU와 메모리, 디스크 공간 등 개발환경 구축이 선행\n",
        "   - 데이터 마이닝 기법 적용 : 모델을 목적에 맞게 선택하고 소프트웨어를 사용하는 데 필요한 값 지정\n",
        "   - 검증 : 결과에 대한 검증 시행\n"
      ]
    },
    {
      "cell_type": "code",
      "metadata": {
        "id": "twELsDmuwuUU"
      },
      "source": [
        "잘못된 설명 찾기(18회 2문제)\n",
        "- 선형 회귀에 대한 설명 : 종속변수 값을 예측하는 선형모형 추출 방법이다\n",
        "- tv 광고와 매출액의 상관관계가 크면 당연히 인과관계도 있다고 할 수 있다. (NO!)"
      ],
      "execution_count": null,
      "outputs": []
    },
    {
      "cell_type": "markdown",
      "metadata": {
        "id": "QanVH1Uewvrn"
      },
      "source": [
        "### 02.데이터마이닝 기법\n",
        "- 분류(Classification)\n",
        "  - 새롭게 나타난 현상을 검토하여 기존의 분류, 정의된 집합에 배정하는 것\n",
        "  - 의사결정나무, memory-based reasoning 등  (질의에 따른 성격 분류)\n",
        "- 추정(Estimation)\n",
        "  - 주어진 입력 데이터를 사용하여 알려지지 않은 결과의 값을 추정하는 것\n",
        "  - 연속된 변수의 값을 추정, 신경망 모형 (학습의 결과로 요인/관계 분석)\n",
        "- **연관분석(Association Analysis)**\n",
        "  - '같이 팔리는 물건＇ 같이 아이템의 연관성을 파악하는 분석\n",
        "  - **카탈로그 배열 및 교차판매, 공격적 판촉행사 등의 마케팅 계획**\n",
        "  - 조건 - 결과(if-then) 유형의 패턴을 발견하는데 사용하는 데이터마이닝 기법\n",
        "- 예측(Prediction) \n",
        "  - 미래에 대한 것을 예측, 추정하는 것을 제외하면 분류나 추정과 동일한 의미\n",
        "  - 장바구니 분석, 의사결정나무, 신경망 모형\n",
        "- 군집(Clustering)\n",
        "  - 미리 정의된 기준이나 예시에 의해서가 아닌 레코드 자체가 가진 다른 레코드와의 유사성에 의해 그룹화되고 이질성에 의해 세분화 됨\n",
        "  - 데이터 마이닝이나 모델링의 준비단계로서 사용됨\n",
        "- **기술(Description)**\n",
        "  - **데이터가 가진 특징 및 의미를 단순하게 설명하는 것**, 데이터가 암시하는 바에 대해 설명 및 그에 대한 답을 찾아 낼 수 있어야 함\n",
        "  - **사람, 상품에 관한 이해를 증가시키기 위한 것으로 데이터의 특징 및 의미를 표현 및 설명하는 기능**"
      ]
    },
    {
      "cell_type": "code",
      "metadata": {
        "id": "QeXadFjvw0D1"
      },
      "source": [
        "분석 방법이 올바른 것 - 연관분석 (20회)\n",
        "데이터마이닝의 목적 중 기술 찾기 (20회)"
      ],
      "execution_count": null,
      "outputs": []
    },
    {
      "cell_type": "markdown",
      "metadata": {
        "id": "ncfj-Ddw7BUP"
      },
      "source": [
        "## A.지도학습\n",
        "- 로지스틱 회귀분석\n",
        "- 신경망\n",
        "- 의사결정나무"
      ]
    },
    {
      "cell_type": "code",
      "metadata": {
        "id": "mhlfPMHTsQ64"
      },
      "source": [
        "SOM과 함께 섞어 놓은 뒤 '기법 활용 분야'가 다른 것 찾기 (18회)\n",
        "- SOM은 비지도학습!\n",
        "신용카드 고객 파산여부를 예측하는 모형이 아닌 것 찾기 (20회)\n",
        "- 선형회귀분석은 안됨 (로지스틱회귀분석, 의사결정나무, 앙상블모형됨)\n",
        "- 파산은 범주형 데이터 유형\n",
        "- 선형회귀분석은 독집변수, 종속변수 모두 연속형일 때 사용한다"
      ],
      "execution_count": null,
      "outputs": []
    },
    {
      "cell_type": "markdown",
      "metadata": {
        "id": "AWi0dyvD7YrC"
      },
      "source": [
        "### 03.로지스틱 회귀분석\n",
        "- 종속변수가 성공 또는 실패인 **이항변수**로 되어 있을 때 종속변수와 독립변수 간의 관계식을 이용하여 두 집단 또는 그 이상의 **집단을 분류**하고자 할 때 사용되는 분석기법\n",
        "- **반응변수가 범주형인 경우 적용되는 회귀분석 모형**\n",
        "- 로지스틱 회귀모형에서 exp(x1)의 의미는 나머지 변수가 주어질 때 x1이 한 단위 증가할 때마다 성공(Y=1)의  **오즈(odds)**가 몇 배 증가하는지를 나타낸다`\n",
        "- 오즈(odds)\n",
        "   - = 성공률 / 실패율 = Pi / (1-Pi) 단, Pi 성공률\n",
        "   - 일어날 가능성이 높은 경우는 1.0 보다 큰 값\n",
        "   - 실패가 일어날 가능성이 높은 경우 1.0보다 작은 값을 갖음\n"
      ]
    },
    {
      "cell_type": "code",
      "metadata": {
        "id": "UgzPA1Nr8QyL"
      },
      "source": [
        "오즈(odds) (16회)\n",
        "로지스틱 회귀분석 찾는 문제 (20회, 22회)"
      ],
      "execution_count": null,
      "outputs": []
    },
    {
      "cell_type": "markdown",
      "metadata": {
        "id": "mGxgAFmd8Zy4"
      },
      "source": [
        "### 04.로지스틱 회귀계수의 해석\n",
        "```\n",
        "> coef(b)\n",
        "  (Intercept) Sepal.Length\n",
        "  -27.831451   5.140336 (회귀계수)\n",
        "# 로지스틱 회귀계수 값은 exp(5.140336)의 값이므로 약 170이 된다.\n",
        "```  \n",
        "  "
      ]
    },
    {
      "cell_type": "markdown",
      "metadata": {
        "id": "cpQSMx8N7rjX"
      },
      "source": [
        "### 05.선형회귀분석 vs 로지스틱 회귀분석\n",
        "![image.png](data:image/png;base64,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)"
      ]
    },
    {
      "cell_type": "code",
      "metadata": {
        "id": "nGAUGDx48IoF"
      },
      "source": [
        "최소자승법 : 단순회귀분석의 최소제곱추정량 (18회)"
      ],
      "execution_count": null,
      "outputs": []
    },
    {
      "cell_type": "code",
      "metadata": {
        "id": "Dpa4ea2wHmdE"
      },
      "source": [
        ""
      ],
      "execution_count": null,
      "outputs": []
    },
    {
      "cell_type": "markdown",
      "metadata": {
        "id": "Oe3_-f8aHm23"
      },
      "source": [
        "### 06.나이즈 베이즈 분류\n",
        "- 베이즈 추론을 기반으로 한 방법론의 정확도는 일반적으로 머신러닝의 대표적인 방법인 랜덤 포레스트나 트리분류 방법보다도 높다고 평가받고 있다. 베이지안 추론을 활용한 대표적 분류 방법 알고리즘\n",
        "\n"
      ]
    },
    {
      "cell_type": "code",
      "metadata": {
        "id": "KWa2xfVdHm23"
      },
      "source": [
        "주관식 문제 (16회)"
      ],
      "execution_count": null,
      "outputs": []
    },
    {
      "cell_type": "markdown",
      "metadata": {
        "id": "7mTkQlvaIQIj"
      },
      "source": [
        "### 07.클래스 불균형\n",
        "- 분류모형에서 일부 범주형의 관측치가 현저히 부족하여 모형이 학습하기 힘든 문제"
      ]
    },
    {
      "cell_type": "code",
      "metadata": {
        "id": "3ZzACdZCIQIj"
      },
      "source": [
        "주관식 문제로 출제 (21회)"
      ],
      "execution_count": null,
      "outputs": []
    },
    {
      "cell_type": "markdown",
      "metadata": {
        "id": "WJPv_i6vMFLG"
      },
      "source": [
        "### 07.의사결정나무(Decision Tree)\n",
        "- 의사결정나무의 종류(구분)\n",
        "   - 목표변수가 이산형인 경우의 분류나무(classification tree)\n",
        "   - 목표변수가 연속형인 경우의 회귀나무(regression tree)\n",
        "   - 이때, 회귀나무는 분류기준으로 분산의감소량, F-통계량의 p-값 사용\n",
        "- 의사결정나무의 목적은 새로운 데이터를 분류(classification)하거나 해당 범주의 값을 예측(Prediction)하는 것이다\n",
        "- 분리 변수 P차원 공간에 대한 현재 분할은 이전 분할에 영향을 받는다\n",
        "- 부모마디보다 자식마디의 순수도가 증가하도록 분류나무를 형성해 나간다 \n",
        "(불순도가 감소한다)\n",
        "- 최종마디가 너무 많으면 모형이 과대적합(Overfitting)된 상태로 현실 문제에 적용할 수 있는 적절한 규칙이 나오지 않게 되며, 이를 해결하기 위해 가지치기를 한다.\n",
        "- 의사결정나무를 위한 알고리즘은 CHAID, CART, ID2, C5.0, C4.5가 있으며 **하향식 접근 방법**을 이용한다\n",
        "- 장점\n",
        "  - 구조가 단순하여 해석이 용이하다\n",
        "  - 선형성, 정규성, 등분산성 등의 수학적 가정이 불필요한 비모수적 모형이다\n",
        "  - 수치형 또는 범주형 변수를 모두 사용할 수 있다\n",
        "- 단점\n",
        "  - 분류기준값의 경계선 부근의 자료값에 대해서는 오차가 크다(비연속성)\n",
        "  - 로지스틱회귀와 같이 각 예측변수의 효과를 파악하기 어렵다\n",
        "  - 새로운 자료에 대한 예측이 불안정할 수 있다\n",
        "\n"
      ]
    },
    {
      "cell_type": "markdown",
      "metadata": {
        "id": "3cNKunXkGJoj"
      },
      "source": [
        "### 08.의사결정나무 모형의 분리 기준\n",
        "- **정지규칙**이란 더 이상 분리가 일어나지 않고 현재의 마디가 최종마디가 되도록 하는 여러 가지 규칙으로 **지니 지수, 엔트로피 지수, 카이제곱통계량** 등이 있다\n",
        "- 지니지수\n",
        "  - 불순도를 측정하는 지수이므로 값이 **작을수록 순수도가 높다**\n",
        "  - **지니지수 구하기**\n",
        "  - 1 - 합((각 도형별수/전체수)^2)\n",
        "  >![image.png](data:image/png;base64,iVBORw0KGgoAAAANSUhEUgAAAI0AAAA5CAYAAAALBajGAAACgElEQVR4Ae2aUY6DIBBAuY/n8aO38Tyex/uwwQ06EpAZXdBNXxMj2GEHH8/Rdus8LwgYCThjPOEQ8EiDBGYCSGNGxgCkwQEzAaQxI2MA0uCAmQDSmJExAGlwwEwAaczIGFCU5vP5eDYY5C6RU2lyAzj2PQRC0ci9kCZHhWMrAaRBBDMBpDEjYwDS4ICZANKYkTEAaXDATABpzMgYgDQ4YCaANGZkDEAaHDATQBozMgYgDQ6YCbxLmmXyg3N+mBbziagH9Mihnsz/DHyPNGExh8kHXeaxkTgNcizT4J1z6u3KBdEjh0Xfd0izLebip2HwodAEUFcAF0++UY4wz3EuZj2+MY+XzqlHjuNEz3vPS7Mt5uzH7Yr9Y3Ea5uixoD1ynGtyfPdZabKLuZf6cAUHYLcqTuMcckHDbTV7q4ql6A8qTascRy3Oe89JU1nMCP+WOB1yIM0uWNtf7s2jd+tDr7wlFa5S59ZnBnPF6ZHD/1bCvZAUzmEPuFQ1e4i5L3299WylWWGei3O70jTO0WNBe+Soq7JHPCdNmEOlGtwSJp5j4xw9FrRHjohLs39WmjDD7HMHn57k4klp5PFs++LDdvZvFQ4+L02Y2CYO39Pk1glpclQO4vCNcIooSBM/TWr2t76iSJNn+u+oNHFioeLwv6dI47X7d0nzWkxMTBJAGkmDtooA0qgwESQJII2kQVtFAGlUmAiSBJBG0qCtIoA0KkwESQJII2nQVhFAGhUmgiQBpJE0aKsIII0KE0GSANJIGrRVBJBGhYkgSeCSNGEQ23czkBLFdvGH5TGAPQRSAkiTEqFfJYA0VUQEpASQJiVCv0oAaaqICEgJIE1KhH6VwA9cbUpuGG1pnQAAAABJRU5ErkJggg==)\n",
        "- 엔트로피 지수(Entropy measure)\n",
        "  - 엔트로피 지수가 가장 작은 예측 변수와 이때의 최적 분리에 의해 자식 마디를 형성함\n",
        "  - p=0.5일 때 이질성이 가장 크다\n",
        "- 카이제곱 통계량의 유의 확률\n",
        "  - 카이제곱 검정에 기반을 둔 것으로 **목표변수가 범주형일 때**  Pearson의 카이제곱 통계량을 분리기준으로 사용함\n",
        "  - p-value 는 그 값이 **작을수록 자식 노드 내의 불확실성(이질성)이 크다**   \n",
        "\n",
        "\n",
        "\n"
      ]
    },
    {
      "cell_type": "markdown",
      "metadata": {
        "id": "zq-7WQqNNrBU"
      },
      "source": [
        "### 09.의사결정나무의 결정규칙\n",
        "- 분할규칙(Splitting rule)\n",
        "  - 새 가지를 어디서부터 나오게 할까?\n",
        "- **정지규칙(Stopping rule)**\n",
        "  - 더 이상 분리가 일어나지 않고 현재의 마디가 최종마디가 되도록 하는 여러 가지 규칙으로 지니 지수, 엔트로피 지수, 카이제곱통계량 등이 있음\n",
        "  - '불순도 감소량’이 아주 작을 때 정지함\n",
        "- **가지치기 규칙(Pruning rule)**\n",
        "  - 어느 가지를 쳐내야 예측력이 좋은 나무가 될까?\n",
        "  - **최종노드가 너무 많으면 Overfitting 가능성이 커짐, 이를 해결하기 위해 사용**\n",
        "  - 가지치기 규칙은 별도 규칙을 제공하거나 경험에 의해 실행할 수 있음\n",
        "  - 가지치기의 비용함수(Cost Function)을 최소로 하는 분기를 찾아내도록 학습\n",
        "  - Information Gain이란 어떤 속성을 선택함으로 인해 데이터를 더 잘 구분하게 되는 것을 의미함\n",
        "- 알고리즘 별 분리기준변수 선택법\n",
        "  - CART : 이산형 목표변수 - 지니지수, 연속형 목표변수 - 분산 감소량\n",
        "  - C5.0 : 이산형 목표변수 - 엔트로피지수\n",
        "  - CHAID : 이산형 목표변수 - Pearson의 카이제곱통계량, 연속형 목표변수 - ANOVA F-통계량의 p-값\n",
        "  "
      ]
    },
    {
      "cell_type": "code",
      "metadata": {
        "id": "3OAxzNTeDg8y"
      },
      "source": [
        "지니지수 구하기 문제 (21회, 22회)\n",
        "정지규칙 주관식 문제 (21회)\n",
        "지니값, 카이제곱, 엔트로피 지수 설명으로 틀린 것 (23회)\n",
        "- 지니지수는 작을 수록 순수도가 높다!  (근데 떨어진다해서 틀림)"
      ],
      "execution_count": null,
      "outputs": []
    },
    {
      "cell_type": "code",
      "metadata": {
        "id": "2bbcTJhiDnP8"
      },
      "source": [
        "CART 찾기 문제 (20회)\n",
        "의사결정나무 알고리즘 내용으로 틀린 것 찾기 (22회)\n",
        "- 가지치기의 비용함수를 최대로 하는!!  이라고 해서 틀림\n",
        "목표변수가 연속형인 경우 회귀나무의 분류기준 찾기 (23회)"
      ],
      "execution_count": null,
      "outputs": []
    },
    {
      "cell_type": "code",
      "metadata": {
        "id": "MANWp9QmgbfM"
      },
      "source": [
        ""
      ],
      "execution_count": null,
      "outputs": []
    },
    {
      "cell_type": "code",
      "metadata": {
        "id": "PQzZwhDCEfsT"
      },
      "source": [
        ""
      ],
      "execution_count": null,
      "outputs": []
    },
    {
      "cell_type": "markdown",
      "metadata": {
        "id": "rBFq4O1ApZZ9"
      },
      "source": [
        "### 10.오분류표(confusion matrix)를 활용한 평가지표\n",
        "![image.png](data:image/png;base64,iVBORw0KGgoAAAANSUhEUgAAAygAAAEjCAYAAADZrCUbAAAgAElEQVR4Ae1dPZLcLBCdozifS/gSk39H8BEm3GNsPCdw6HyDTca5s61y7Jyv+GkECFBLAg2g56r1aCRomteN6DcN0kXgHxAAAkAACAABIAAEgAAQAAJAoBEELo3oATWAABAAAkAACAABIAAEgAAQAAICBAVOAASAABAAAkAACAABIAAEgEAzCICgNGMKKAIEgAAQAAJAAAgAASAABIAACAp8AAgAASAABIAAEAACQAAIAIFmEABBacYUUAQIAAEgAASAABAAAkAACAABEBT4ABAAAkAACAABIAAEgAAQAALNIOARlMvlIvAHDOAD8AH4AHwAPgAfgA/MfaCZ6A2KAIHBEZgRlMH7i+4BgW4QkMEB/gEBIAAEgEAbCOCe3IYdoMU5EPAiIAy+cxgdvewDAYzHPuwELYEAEDgHArgnn8PO6GUbCICgtGEHaAEEZghgMpxBghNAAAgAgZchgHvyy6BHwydEAATlhEZHl/tAAJNhH3aClkAACJwDAdyTz2Fn9LINBEBQ2rADtAACMwQwGc4gwQkgAASAwMsQwD35ZdCj4RMiAIJyQqOjy30ggMmwDztBSyAABM6BAO7J57AzetkGAiAobdgBWgCBGQKYDGeQ4AQQAAJA4GUI4J78MujR8AkRAEE5odHR5T4QwGTYh52G1/Jx0+/Hut7FUwjxuOl3Q1zv8lvq30PcIu/VytdJyUqcD/RKlMJpIFAMAdyTi0EJQUBgEQEQlEWIUAAIvAYBTIavwf10rT4f4n692pf0Xm8PRUQsDgERqEpQqK0IuZHjQepm/1FZQ5zseRwAgUoI4J5cCViIBQIRBEBQIqDgFBBoAQFMhi1YYXQd4pmOixv0B0SAR1A24kZtJQhKTq+NLaIaEGAjgHsyGyoUBAK7EQBB2Q0hBACBOghgMqyDK6ROCDzvlDm5iYdcsfWcCItNVhBpYCzxIvIifTf352VCJnWSRyTXWyIW6JWsjAtAoBACuCcXAhJigAADARAUBkgoAgRegQAmw1egfqY2n+J+ne8nmUhLQDIKEpSLZT8MvJ93cVWE5yq8bS9EUFwytEYuo2kUAQIuArgnu2jgGAjURQAEpS6+kA4ENiOAyXAzdKjIQoCyJUHgbwnBeoIim30+n+rv8XiIx/0ubrerIRhS3k3cHw/xzO2vd3V3Mjpe9kSWAUFxkcLxAQjgnnwAyGgCCBgEQFDgCkCgUQQwGTZqmFHUskTkJpyt5zLyN0/gMueJCGQzKFM2Rvqt93d1CUpwLZPxeD5uE7EJN+5LGwR6jWIW9KNdBHBPbtc20Gw8BEBQxrMpejQIApgMBzFkq90oSlDo8cNXcb3exO1+F4/H038amHiK5+Mh7vebuJqnhs2yIhIrmTUxS8/kGJg9VYzwBEEhJPB5EAK4Jx8ENJoBAkIIEBS4ARBoFAFMho0aZhi1KFOSWuK1JoNSAhT5uGM3w3IVN7VzPyEbBCUBDE7XQgD35FrIQi4QmCMAgjLHBGeAQBMIYDJswgwDKzEty3IzGWs3ydMTtqS/bv2j9rWsq7jdg3exxKwAghJDBecqIoB7ckVwIRoIBAiAoASA4CsQaAUBTIatWGJcPSYyMn/M8IxsJPaglCQo4yKNno2AAO7JI1gRfegFARCUXiwFPU+HACbD05n8BR2mZV5h9sPZOB9kKoiQUNajhtLUht1DTzrYE7Tn5SKcUzVUgUwgYBHAPdlCgQMgUB0BEJTqEKMBILANAUyG23BDrZUIPOXeD3ph40VcriabQmKIHCQyKFTMPlWLudTrevefHWblqAd0acJkyQfpYE+AoLh44fgYBHBPPgZntAIEJAIgKPADINAoApgMGzXM2dQiclCYoFyMvBiclEGRY8D7swRlyvzUzOTEdMO58yKAe/J5bY+eH48ACMrxmKNFIMBCAJMhCyYUqo0Al6Aw9bD7XvYQFNJJERhnORpTBxQDAlsQwD15C2qoAwS2IQCCsg031AIC1RHAZFgdYjTAQYDIwFIGhSNLvubkbpaTMQjKlDC56UyKPOG8v+Ue6MZUAcWAwCYEcE/eBBsqAYFNCICgbIINlYBAfQQwGdbHGC0wEAhIAC2/2rq0ag1BkWPA/5veSk/khfSRe2fuT0Z/UAQIbEQA9+SNwKEaENiAAAjKBtDCKk/5ZmSaSGnWDAvt/K4ndfnisp2CTlB9FKwwGZ7AWTvsIhGCmgTFkhi6r5rP601mX8IXOD7FQ53HUq8O3akrlXFP7spcULZzBDolKE/xkKTAe+uw+aUts2ygiq3o10WaSKswiOmFapcq8qsg8yKh42CFyfBFLoRmgQAQAAIRBHBPjoCCU0CgEgLdEZTnw8lWEClwPw8mKPbXxMrEYZSswFo/JnzXwDsKVpgM13oLygMBIAAE6iGAe3I9bCEZCIQI9EVQ3GyFelb/6xccbwmgQyPgexqBM+OLyTDtF7gCBIAAEDgaAdyTj0Yc7Z0ZgY4IyvTc+5aWOZ05gD5i4JwZX0yGR3gY2gACQAAI8BDAPZmHE0oBgRII9ENQbPZk7UZIs1/FWwZ2E/dHJPti2pCbP/2lZOGmTOdRma7cy2XaxE76ztYmEdEK+/EUd7XR031qzVSGAvX5xtQ6/Us6l9Mv7+EA9ASdyFupo1g/H+Lmvr1abny9PwRZJbVJ1sIZ1UPjNcOKyl4mPFX/UueTnT/2AibDY/FGa0AACACBHAK4J+fQwTUgUBaBbggKBZ3rsifOhumASMgbzSzYtwGrSxKmYxscu8/yD+TaMiTLniDDxQhKSs8poKb++zqn6mmd/bJCCNIp0FliIf9mqpLK7mdWxvQIUJJJn55s+x6DCVsqRzqzCcrVbTNBUFTXTVtWEbIDs98uBgcdS0zwDwgAASAABNpAAPfkNuwALc6BgBcBtTv4pkCcAliOeSiol4+lnH7FlxkH86KwMCh3gu9r7Nf8yAZ8asPGvaQYyZpfEDdFCCby4b14jFIIJMd8Ujtu/+lczf4Fangk52azUDL7M5GN640yIc55FwdJUGTGxdZ3MlIBxtRHt7rSifCNEE2q42IlBBGSq3pXgiVAQXuz/r7wBJE2fE6+BSyABXwAPvBKH3jhlICmgcCpEBiYoFBAGv+FnIJYLyNDQW8YtNpf/B1SYdyE5CQD6PmFOUGxwfNFTMG974fUzhR0H9M/XwsnCxNilMIudT4UnMCY+j2H0bxZOly25WRLJqx0YxMpoayLJiuhKq18l5Mw/gGBGALwjRgqOAcE6iKAcVcXX0gHAi4CXgTU8uCjQNUjFG5PwuNEwGuLxQJnOjePhiOkQksiveZVTAA9vxCXZfWVv475+zFkS9SODbpt+TlpUppRX1wiQee4OlmwnIOUjKXzrh5yiZzcq3K7Rt5l4/eH+j1X2eAbyI1iZdWfMnHS1y2W9npbBy2Px7aQOp828I3z2Rw9fj0CGHevtwE0OA8C3RCUaf+EH8AmTXVQAL8YQM8j6zhBUR0JNrw7wTe1Y4Pqg/o3w3eJiIT9pfJOX2wmI7oXxrcv9TsUa/3BkUu6Uh2LFV3w9g61nT2RKmMydAyHQw8B+IYHB74AgUMQwLg7BGY0AgQUAv0QFGcZlMyiJLZqOGbdsQRqHg0nSQUFw/MqiV/4KWCPLE2alJ9+6acgm9qh79Oeig1L2ObKJvs36WSOSP9QxtJ5SyQmu6jlbNaQdL4iQbGkzqzhtjrNetnECUyGTZihSSXgG02aBUoNjgDG3eAGRveaQqAjguLsf5C/vAebrGOoTr/UpzbJB7+ip4JsS4784Fm2ScQhjNenje9O2+rRurTBcS5r6gOHoDgby5MPAdjfv0knc5TCaOk8kQFLElzdnuJhH7Hs45LEl9ojuY6iVGcic/IiESDdrvWNmeEcQS8+xGT4YgM03Dx8o2HjQLVhEcC4G9a06FiDCPRFUOQSncdNXKNLg0zg7wWcU6Avbyzhnx/AOgTIkyGtRsGtHzyrK+bpVbMqIt/2xc2g2KA91HEK4uNBd76NEv2b+SwRg7DDS+ctkcjr7OHiLckK7EvtWbmTpnOspjYnTGLnJhktHGEybMEKbeoA32jTLtBqbAQw7sa2L3rXFgLdERQNn9mrcQ0DeplZuQfLv4J9HbnsCwW9YfC9iaBITYOXL6qXGUbIToSgyMfwOk/htZmaKcAmR6rbP2rFfqYwWjrv2SXART4U4PEQd2XPkAROREIRTJJD7dF3q+CU1SKsbLYkLGtxn4igI+blh5gMX26CZhWAbzRrGig2MAIYdwMbF11rDoFOCUpzOEIhIFAcAUyGxSEdRiB8YxhToiMdIYBx15GxoGr3CICgdG9CdGBUBDAZjmrZ/f2Cb+zHEBKAwFoEMO7WIobyQGA7AiAo27FDTSBQFQFMhlXh7Vo4fKNr80H5ThHAuOvUcFC7SwRAULo0G5Q+AwI9Tob0gAKpe+5PbfOye4CCstf5i0qVvTP7jrQ/0P6uYE9Rqh2j42zLWQfO1aNvdACr3MCW8dtwf5zTI6de1p+oXLgfzhGlDyN7C6W/usIH9OsZDI2dwLhrzCBQZ2gEQFCGNi861zMCPU6GRQgKkRs3GJOGXAzuQFB69vcmdCcfIx/0PlMEJXiQR+i3bsdIfpagBPIcHejBH0okCIqL7CHHPd6TDwEGjQCBCgiAoFQAFSKBQAkE+p8Mp0ArGrPZAMsP/OSjxGXf5Z9Xj84ng7slguK3U8JGr5LRv2+8CrmFdhd9LFKf/Ph6NY/ADzJ4bhWGfPvUQfkoevsiW1eIOaZ23UfWR4rhVDkEMO7KYQlJQGAJARCUJYRwHQi8CIH+J8NtBEU9nts8Qtz7xXgxuANBeZGrjtPsoo/Nu0qEQvoqZRA9v3WrMOQvyiB5ICiExGGf/d+TD4MKDQGB3QiAoOyGEAKAQB0E+p8MQVDqeIZQ2aVask8tl0EgfHyIFJvs3BJpYMgngjJ/p5ffslhqKyiOr/sR6P+evB8DSAACRyEAgnIU0mgHCKxEoP/JcAtBkZuDr2aJV7BUZjG4o2AxqDdgINe/b6wcDEcVX/SxQBEqb9ciLvg8lU8uU5TyyY/li4czy7wG9OsA3ea+Ytw1ZxIoNDACICgDGxdd6xuB/ifDhWDNBljBU7zM/pPZMpnF4I4CuxRBibUTlO3EZfr3jUaBJh9zNqZLrNWfJSGke8K/ScasPOdBD0b28yFuZpmjbPt6e4jZdpTs+OnTrwnZVj8x7lq1DPQaEQEQlBGtij4NgUD/k2EigCPrZAKsW2x3MAV+yV+fQVAIWnxuRIB8jEiJ+xkSDvLfmT8m/FCqRPJndeL6Pu83s/E+kk2h9l0d7TEIShzRfWf7vyfv6z9qA4EjEQBBORJttAUEViDQ/2TIJSjT07Xs+vswGJS4LQZ3icDQBnJTOyvM0GTR/n2jSVgZPjbpbX3VkoJ5hm59FnCSPx1N4+jiPrFrQL+e+tzmEcZdm3aBVmMiAIIypl3RqwEQ6H8ynAKrGN+IbvK1QVfkF2B7LUU0QFAGcPvXdmGRBJN65GtzUiLH7fQX+CpbPrVDn1N7diwtjgeqi89SCPR/Ty6FBOQAgfoIgKDUxxgtAIFNCPQ/GW4gKCpRklrzT0FahLxIhCn4c39llucHDOT6941NQ6J+JfKhhSVY9Ghh783unnYJ32fK90SpLxF5A/r1vN9tncG4a8se0GZsBEBQxrYvetcxAv1PhpGgyrVHKsCy5+dEZFpWcxV3Z5/K83Gf1urbn5hNY1Ze8Gu2q0tnx/37RqOAswjEgl9T12KyYueofObTEqKLMyYG9OsMBE1cwrhrwgxQ4iQIgKCcxNDoZn8I9D8ZLgRymQDLEpGQbMhHsDpPN5IYeX+xX75tO0FZU3e2T6ADV+nfNxoFmUMgqEyYqZt1KZLxs3VjvqgJ9ERG5mU8Xx3Qr2cQNnYC464xg0CdoREAQRnavOhczwj0PxluJyjTsiznF2NrTPmulJu4ukTlehW3e+RRrLLOgIFc/75hjdnWARGIGNE1mqbJ87wrs7IkPyTW6rsmKLaOW+Z68zKGqqUB/XqOYFtnMO7asge0GRsBEJSx7YvedYwAJsOOjVdZdfhGZYAhHghEEMC4i4CCU0CgEgIgKJWAhVggsBcBTIZ7ERy3PnxjXNuiZ+0igHHXrm2g2XgIgKCMZ1P0aBAEMBkOYsgK3YBvVAAVIoHAAgIYdwsA4TIQKIgACEpBMCEKCJREAJNhSTTHkgXfGMue6E0fCGDc9WEnaDkGAiAoY9gRvRgQAUyGAxq1UJfgG4WAhBggsAIBjLsVYKEoENiJAAjKTgBRHQjUQgCTYS1k+5cL3+jfhuhBfwhg3PVnM2jcLwIgKP3aDpoPjgAmw8ENvKN78I0d4KEqENiIAMbdRuBQDQhsQGBGUOQAxB8wgA/AB+AD8AH4AHwAPgAfgA/AB2r4wBJnmRGUpQq43j4C0pHwr38EtB2lLfEHDHwfUL7x6yIE/oABfOAwH8Dc2v+8ih60gQBnLHmRLKdCG12DFjkEYMccOv1c03b0A1ME6sBD+oDyDQSmhwWmIIIgw9IHMLf2M39C07YR4IwlEJS2bbhJO47hNwlGpUMR0HZEQA5SNvcB5RsgKCAo8IFDfQBz66FTIBobGAHOWAJBGdABOIYfsNvDdUnbcR6cImAHJso3EJweGpwii4IsCubW4aZZdOhFCHDGEgjKi4xTs1mO4Wu2D9llENB2RDAOQjb3AeUbICggKPCBQ30Ac2uZuQ1SgABnLIGgDOgnHMMP2O3huqTtOA9OEbADE+UbCE4PDU6RQUEGBXPrcNMsOvQiBDhjCQTlRcap2SzH8DXbh+wyCGg7IhgHIZv7gPINEBQQFPjAoT6AubXM3AYpQIAzlkBQBvQTjuEH7PZwXdJ2nAenCNiBifINBKeHBqfIoCCDgrl1uGkWHXoRApyxBILyIuPUbJZj+JrtQ3YZBLQdEYyDkM19QPkGCAoICnzgUB/A3FpmboMUIMAZSyAoA/oJx/ADdnu4Lmk7zoNTBOzARPkGgtNDg1NkUJBBwdw63DSLDr0IAc5YAkF5kXFqNssxfM32IbsMAtqOCMZByOY+oHwDBAUEBT5wqA9gbi0zt0EKEOCMJRCUAf2EY/gBuz1cl7Qd58EpAnZgonwDwemhwSkyKMigYG4dbppFh16EAGcsgaC8yDg1m+UYvmb7kF0GAW1HBOMgZHMfUL4BggKCAh841Acwt5aZ2yAFCHDGEgjKgH7CMfyA3R6uS9qO8+AUATswUb6B4PTQ4BQZFGRQMLcON82iQy9CgDOWQFBeZJyazXIMX7N9yC6DgLYjgnEQsrkPKN8AQQFBgQ8c6gOYW8vMbZACBDhjCQRlQD/hGH7Abg/XJW3HeXCKgB2YKN9AcHpocIoMCjIomFuHm2bRoRchwBlLICgvMk7NZjmGr9k+ZJdBQNsRwTgI2dwHlG+AoICgwAcO9QHMrWXmtpJSHu8f4vLjQ9y/tkl9df1tWvdfizOWQFD6t/OsBxzDzyrhRHMIaDvOg1ME7MBE+QaC00OD01IZlNvlIi7f62Qjnv9dhPSN+3sd+aUw6FUO5tbWpsm/4vbjl7j8+CWuP/9tUO7V9TeoPEgVzlgCQRnE2G43OIZ3y+O4TQS0HRGMg5DNfUD5BghKWYLyfhH37xdxlQTC+XsEOMsy9vq3dWTgYeoSgSBCYeVF2rVlvl3EM9BFBvqK8FwugvS8f9P60fdeyUCLeqtx1+Z0cbxWX3/FXWUvNEGQJOHytj2TsbUD+QzIP/H4+Vtc3/8mxefrJ6vZC/n6y+1bQSc74IwlEJQBnYJj+AG7PVyXtB3nwSkCdmCifCMSrLYY1HWh07shJt8u4pHJPtjg35R5rMlY3A2xcbInRD5u93TGg8pIm8fKhQRFmHau/6VldmGTBv0bcytNs5R5cAmJDsbvn1Smgc/P3yq7cskQlKpavrr9qp3bJ5wzlkBQ9mHcZG2O4ZtUHEp5CGg7IhgHIZv7gPKNBgO4XgNfFeQnMhS2TybwD0kCq+6viyByQ9kTKZfIRyjTtumUkTa/RHScERSnLWRRypI0zK1mivr6I64yY/KqwN+bKTNfXk0QXt1+BppXX+KMJRCUV1upQvscw1doFiILI6DtOA9OEbADE+UbIChFlngRSVjKOITLs4hEpM7TdfXpZGjcZVrUNoeg3MzysFDPGEHhyPX0gy+xfAlzq5nkiKC8/RHP5Lz3T8jlT4rI0PIvm135K25vH2rp1fOn3OQe20fyb7aE7Oq059aT9W9WtlSIMjzO8jPTBpXL1adrVFZ38Z+4v0l5OmtEZUh3v+xC+4a4+PtmqM5v8UhiOs4FzlgCQRnH3rYnHMPbwjhoFgFtRwTjIGRzH1C+gaCSFVQuBeKWYNwv4mb2b0h8Q9JAGZAwK8EhA1QmJBd0PmzL1dktQ7q6OsQICi3zqrUZ39XvTMeYW6fpkgJ0P8ierj/eNTm4fcrN65KsTMG9SyCoPsmjQJ/K03fxJZeQ/Z0RorDepIEQgpHBiNYnAuZmiOicQ5JkW9H6pESy/QgZSZYlYWN9csYSCMpYNle94Rh+wG4P1yVtx3lwioAdmCjfAEEpQlCIeMjlU7T/5BnZx5FaykUEIiQfbuBOxCIkIlQ3PO/W9cqYTIzbVpSgJDI2rlwcr1/+hbk1mGZpo/zbh9BExFyPBfNeAJ4O0DVh8bMVQave120EYRIRr0/tT9kMKkeEiiTQeUuk6IL89PrsXhCGsE2Zn6wcv+oQ3zhjCQRlCFP7neAY3q+Bby0ioO2IYByEbO4DyjdAUIoSlJAkEKmgPSM1CYq0p/fn7DXxCMqvi4jq5TzFi4hHlLjAZ3b5jL4ntzhbvFgnS0hMQB8LzG0ZuSzMEBQ3G2HqEAGggF0uqfLIT9BVKreWIJCYVH3/PBEW96EAWoJfjqSazxgOVITwUFkakj8RIio26idnLIGgDGh9juEH7PZwXdJ2nAenCNiBifINBJu7gk0K5CmDQkSEzofEoCZBCckR6SA/Qz0EZUfM08BSRCR13pWN43VZFMytmWnWDcbp2Oz7oH0a6lORkmWCIlt6ykcEkwz5CGO1XMzXYTNBMGKS9V0C4R77zW9c4iWFOKQkIz9obpivnLEEgjKMuaeOcAw/lcZRqwhoOyIYByGb+4DyDRCUogTF3dfhEgNaTkVEJlUuRzIo6xGWmZGPiE1jZeicJFVRIkIkxsnEgIysIyMxvDC35mZLZ9lWkA2Z1+IRFF1P7j2ZNtKHmZIkwZCViSi5e0kCZdL1JwJxN+2HbUtR6frL7VPd65vuX0x+oO4wXzljCQRlGHNPHeEYfiqNo1YR0HacB6cI2IGJ8o1IMBsLqnAuH5gSeVjKoKTKpc67uBOhILJD1+h8SFzouvxMlVHE5HuCoETeueLKxHHeJ1L4YG7NzJaUBfjxWzzoOEkM1hAU02aCbFCQHw3uE3XcXuTq0zWdAYovv6Iy29onUicfIBCX7+o60jFnLIGgjGRx0xeO4Qfs9nBd0nZEMO4SMhWU3cpiQhui78+ycl29Sx8r3wBBKZJBoSdeheRhljHZ8x6UREYjRT7cADlVhs5LX5B/bmaHroV9cuXieD1J0ffk4aaa1R2SQfn1/Y94fFFVekrXL0F7SPyneMly+kWOt5/yqV5LBEU+hlgSHVlW/yMiQPLD81GCMGvnn3hanX250fpEtOQyswTZIr2i9RntE04p+dTP0T45YwkEZTSrC6Emqxa69bgFGz/DjaDm+00+9Pt5F9fY9etV3O6P2aMFxeOmN5Ve7/NrqvMPs/ThKu7ug9pT7bi6tACetWM/QbMKwp/mjdwyYBJz3e+uT1wvYg0pIH+Sde7XZd9Ssh/xcvIX66ejH8mL6VyaXJSQp27uIChlCIrzYkPKoqQCfEtagjfJ5zIgRASoLrUhz1M7ufq5MrS8KyQo1JZLWkgPfK4nJoQZJ6hqZPqoq8bXH/0eE9ofIj/lk7wU+aCmNSGxe0hMGf2m+SWCot+B4tWVm+WtfDfzoB9nbPe5BETi+ensY1Eb7qV+/PpEIHwCwq8fb58wWlgiNhUb7ogzlkBQhjP7YASFSItiMY6xQFAkhWnujwJ9FTAF+tG1h8lUPMwv0iySQkQjlj1hXLveJ6yesfLmnFuuRXxJJ3VzB0EpRlBkAHo3L0KU2MpHDqdIQ1jOJRwUyEY/I8uucuSDZGTLkEw3g2LOIXuynYgQ9uEnJ6hyZikcAoFFBDQBOtfyLgkKZyyBoCy6T38FOIY/vldP+6t3yDWULjazcfPeovokIiJfnOa+XpXOb86g+O0cj8dyi9qOU2BNwWmrn7RUSuot/7xshCEAt4ffH/UL8NXPZsT6R+QmSmZihIPIUYJ4xOTROU9vktPYp/INEJSiBCUMRmt85+xX2dsusifliQnZRN+Tl+/dKAEEWAh86UxMuGyNVbfzQpyxBILSuZFj6nMMH6tX99w2giLEVO/qrtUCQWkue0L7Q2KBvrs8yyUgqfNuGUHLxlJEZgNBoXZdwkQEyz3n6dEQSQFBqReEUjBa61ONE/OI4NJtULaFndUByV1FctucW+vO3JBeA4FpiZjcy+OuQq/RWosyOWMJBKVFy+3UiWP4nU1sqD4RDS8TQpISGRQQFD/j0GrATAG/zD7ECErsnOwLhxRQmeTyq0IEReTkNEROJG4gKP0SlNKkBPKO84U251aaRPEJBPpBgDOWQFD6sSdbU47h2cKKFdxCUJ7icb/qzfCXYLM7MijtZFBMhoMIRIyMpJZyLZIPcRFEfpKZjRyxMNdINyJ4pKO3ZGwpU9MQSQFBOS4oBQEA1uQDbc6txSZpCAIChyHAGUsgKIeZ47iGOIY/ThtqiUtQ4k9d8pZ3SZG7CUqsnYAEkeov+tR2bD+DQsE+7d0Iv0tS0BJBoc3518iGe6VnuH+mIWJCBEv5BpbnrFqeQ0EmPkE4tvpAm3PriyYoNN3/njAAACAASURBVAsEdiDAGUsgKDsAbrUqx/DH676doNwekRWaIChtZFBMhsLNbrRIUOSYsH9X+cCFOPEDQUHwujV4Rb3xfafNufX42RwtAoG9CHDGEgjKXpQbrM8x/PFqcwnK9HQtWtpziW1a2U1QpnaOx4LXorZjPJCmX9Jf/RnLjMQISuyc1J2WeKUIgyxDfpAss2GJVxQ3LPFCRgJZKfhAxgfanFt58wlKAYGWEOCMJRCUlixWSBeO4Qs1tULMeoIyvbwxsvQquameVFp6USMISjRIX7GciciF9Lfkn3nyFpEMb8+HQz7C865u1E64j8SWKUVQcnJW4GL1qlhHjfFMIIVf88f/NR82Pt7Gbc6tNOfhEwj0gwBnLIGg9GNPtqYcw7OFFSu4gaCorSYm+J1lURIEhPSlDMslICKLxIYEvP5T27HtDEosGI9mSyJLwWTdWAZmJnMps5EjFuZaktw4JGKRCDllZzoefE35BggKfu2HDxzqA23Ora+fq4po8PlbyLfBb3snyD9xf5Nvs/8tHl9FtKku5PnzQ1zUm+3/VW+rxQY4YwkEpUXL7dSJY/idTWyovo2g5LIo9Kv8RT7hy9mn8nzcxZV+1Q+JDQhK9b0rUYLiPn44eJN8cumWE/STzGimpRBBoTZos/+rSUiufRCUi6AXEkosUn8tvA+E9CRdwu/RTIjzhviwb6k33EflgMAUJTBq3G2Y/fqqYoL9H78UYZCkIfy7fU7v8bDX3j7E7effze/00G9U/xD31QSD9KW3sdP3ud6kawn9NcGItSFJ0h9xNbjdPo316dz7X+sOJMOWsVfGP+CMJRCUAf2AY/jju72RoCxlUa7p4OQSe8u8JSjxerOnhR0PlG1R23GQDIohG/ebg/v1IqKEwyEmNkhnkJBL5Klc9G6TxQzKikyL1Smm50HnlG8g+JyCTwroK70AcU/wHxKS8HtUtunP9b/jlzFF9YGvKV9rc261U0aVgzhxIIJCpEAICrYvTgDOV8jIe1v/0kJqNxXk19I/2y6REUlSCA86R98VOESmJhz5mPVdkjOWQFD6tnFUe47hoxWrntxOUHJZFPkix8f9Jq4uUblexe3+iP+SA4JSPYNSK4CnjBmb1KwgCz1lTyS+IChB4A6CMpE1kIlqWLQ5t1aduAU3wBdiR7C9dXkXBf0ZYrNf/3/i+TVfhsUmKD8M+SBdPYIihDB9t0Smrjmbkc4ZSyAozZirnCIcw5drDZJqIaDt2F8GpRZBkXLVnpVYpmQFGQn1o70nNYhP2Fap78o3EIhOgSgIyoQF/KIaFmecW9cH+OuXaek21mcRsiTBTMx79ddtzPuUbZvIyNuHWuqlsjt0LiQoe4hdreDjALmcsQSCcoAhjm6CY/ijdUJ76xHQdgRBKRXUjyRH+QYC0SkQTRCUx3edbfL2bbxf9B61bxfx/HURVOZ+v4jbt2kJ4i2yvEqSWbfM9buWkVsWFS7pCr9H6zKXeD3/m/pHesm9Lqnzqq13vw/Sl8K+Zuuf2O/OOLeuD/BXEo1k4L40Z1LGZk4e3Jp79d9FUN5/ixtt/M/0U+v4S6SWqbn9GeWYM5ZAUEaxttMPjuGd4jhsFAFtRxCUkYhFqb4o3zhxoDgL6hMERUTOu8G3lEMERWJKG9mpjLcHhGQZYiMCojPTydgnJCTh92i9lQTl8u0iHu/TsjfSPzwf05kyiBdn/06y/sl97oxzKy/A/yce6qlUzp4L5ryazURkZcz3wcSK79V/iaDQxnv7KTMkDhlR7cslaM65UE/CYNsTzEJpfXznjCUQlD5suUpLjuFXCUThlyCg7QiCUiqoH0mO8o2TB4teYE/kwQmy6bpaFni5iEdAGOg7ERSPjPyanhJG5WLEgup6GZrALmG98Dvp6X1SfyJPKCMSJcsTkQh1T52ntqlP1GbYj1R9Kn/WzzPOrfkA33mK1aaneFEWZGXWRc3IvI31W/QnwmBJh/ckM60rlYlmPVwyovaYfIj7p3my12yJ17QPBQTFD7VAUHw8hvh2xpvoEIYLOgGCAnKWIlUgKFO2QAXLFNBHCIoXfFPWwylH193AX8qk84p8UD3KnhAJYWQ6iBSQ/PB7NNhnyJX1iEiEBCl6PtUH2ZegvWh96vOJP884t+YD/C3Ewpno3EDeOc07LJlBSbe4lEFZJCimj9f33/rRwxGCQmQHBMW3AwiKj8cQ3854Ex3CcEEnQFBAUEBQAiKSCo4zBMUNvinwJrLgEhH33Cz4p+A+ktGQ49RdHhUSjpCQhN/D8up7QBiiZbYSFIecWbnUP3ONcAqJjy2fssPg5884t9YkKBSYR4P8YD6cf6XsS6k9KPMW5JndBIU2wZsN87GndWmMsQcltAAISojIAN/PeBMdwGyzLoCggKCAoBQgKL/M09++mc3hQRaEMiUhQaHz2QwKIyAPCUn4PRr01yQoQf9V+0F7IChxvzvj3FqPoBiCkXlE8GxSDE4QwcllHvbqv5+gEMkxy+FmGRReJijoevdfOWMJBKV7M887wDH8vBbOtIYACAoICghKPFCcBfW5DIqzXEuOqTAr4BERh3AQkaD9GvQ9JDIzXRwZ8lpYL/werR8QhmiZtRkURxfqE8kNMQBBifvdGefWvQF+cl7d+u4TT+DyPpT9+u94DwqREVrK5r64kfpRBAcS1s8nZyyBoPRjT7amHMOzhaHgyxDQdkSQngrSz3xe+UYQCFOwecrPBYJCy7wkbqng3H3iFQXo3uZzasPNQJhH9oYyXRuEhCT87pa1x5UIivsUL3rqV+4pXiGZs/qd1PfOOLfuD/DjU2hcbrxs7ixlUVLLxOLt7M9aZNslQkIEhZZ5zQgKLVPbuZcnB1Cj1zhjCQSlUePtUYtj+D3yUfcYBLQdQVDOTERSfVe+cdIgMRokE3mI7a8wOKmneUWuU/Zgy3tQXFIT1cvJWlDmZQ1BkXYO/1zSREQqJBKp80rHle9BSfXrjOf1PfmY+//YrSxnPvj97zfIz5IcPgBdluSMJRCULk2bV5pj+LwEXG0BAW1HEJRUkH7m88o3QFCmFzUuYWEIDJEEN7i2BMV5j4h7Hcfx5U5nxAVzawszY0wHh6R8xa63d472tqQyP+1pXFYjzlgCQSmLeRPSOIZvQlEokUVA2xEE5cxEJNV35RtLQTmu28fnSrzCt6VTgA2CAgJCvrD0ibk1O2XhIhBgI8AZSyAobDj7KcgxfD+9Oa+m2o4gKKkg/cznlW+AgPAzKMAKWBXwAcyt552P0fOyCHDGEghKWcybkMYxfBOKQoksAtqOIChnJiKpvivfKBBwLf1ijOvILsAHJh/A3JqdsnARCLAR4IwlEBQ2nP0U5Bi+n96cV1NtRxCUVJB+5vPKN0BQkBWADxzqA5hbzzsfo+dlEeCMJRCUspg3IY1j+CYUhRJZBLQdQVDOTERSfVe+geD00OAUmYQpk3BWLDC3ZqcsXAQCbAQ4YwkEhQ1nPwU5hu+nN+fVVNsRBCUVpJ/5vPINEBQQFPjAoT6AufW88zF6XhYBzlgCQSmLeRPSOIZvQlEokUVA2xEE5cxEJNV35RsITg8NTs+aNUC/p8wR5tbslIWLQICNAGcsgaCw4eynIMfw/fTmvJpqO4KgpIL0M59XvgGCAoICHzjUBzC3nnc+Rs/LIsAZS10TlMdNv2X3en+uR+55F1f5lt7rXcjau2TJ1h83/cZfI2+9QuVqcAxfrjVIqoWAtiMIypmJSKrvyjcQnB4anCKTMGUSzooF5tZasx3kng0BzlhqmqAskYal61mDcwgKkQ5JZCJ/19tjaoLKgqBMmOBoFwJ6AIOgpIL0M59XvgGCAoICHzjUBzhB1a6bPioDgZMgwBlLDROUp7hf8xmSFEGh8xIA7+96Ew9KthQgKJR9Uf4EgnKSYXVcN/UABkE5MxFJ9V35BoLTQ4PTs2YN0O8pc6TvycfNAWgJCIyKAGcsNUxQHuKmCMZVuIkK11hERMIlXnReAuD/XYVdDcYhKG5jzjHJ99oFQXEQwmEJBPQABkFJBelnPq98AwQFBAU+cKgP6Htyibs7ZACBcyPAGUvNEpTn/eqQCyfz4dg0ShSc6/aQyMjlJuyiLDq3dg8K1bs4ZEc2RATFJUUpZmUVq3PAMXydliG1JALajiAoZyYiqb4r30BwemhwikzClEk4KxaYW0vOcJB1ZgQ4Y6lJgvJ0gv2rWeZ1uVzF7f5QG9rJqFyCEi1HRGMNQXlSVucivOyJVMjRWQKv/kBQyFT43ICAHsAgKKkg/cznlW+AoICgwAcO9QF9T95wM0cVIAAEPAQ4Y6kxgvIUj9uUOdGb0P1zkqjQMq0o8fAgEEIQETHZE6ojwVF/TIIiSZN66pesd/OJkmqSCAo2yYcWwPeNCOgBDIJyZiKS6rvyDQSnhwanZ80aoN9T5kjfkzfe0FENCAABiwBnLLVDUJzshFTce0KW5BmPu7jJbIpDAIhszLIZFoJpo/1lK0GRetksjtaL9tnbZuQBCIoHB77sR0APYBCUVJB+5vPKN0BQQFDgA4f6ACeo2n/nhwQgMD4CnLHUDkFRMb4kIDdxt4/ayhtpiaD4+1h8cmMzK8kMysM+RUwCqZaY5fRqjKBoncOHBOA7cIEPwAfgA/AB+AB8AD4AH3itD+QjfP0TpC0jjTXKv4mcyCVh094RuzyLln4lCYpMikjjzfe+RDFqjKBEdcTJrhBQ4xG/kB76C2kvy1n0vRrZtTNn0dD34/1/pBipq8kQyg6HAGcseYyEU+EolCg7InVa+gv3ok/k5DI9opgIiZQnSQl9zxCUo/paup2W7Fi6b2eSp+wIggKCEvEBPcaPD9AQFAPzM/sA5tYzzcDoa00EOGNpCILi7kHxNtnTbnpC2ZASVX4FQSGyZIkQZUvsCcq2OISI2nzBJ8fwL1ALTa5EQNkxEpz28is/9Jw215bGQo9xBMtnDpbR9+P9H3PrykkMxYFAAgHOWGqWoCT65J0m4uASFL1ZXb7cMbqVfaoPgjJhgaMmEQBBqRfglyYMR8sDQTk+OAUhAOacoKrJyQRKAYHGEOCMpWYJirtMS3Yk9+cRFK4RNhCUmQ42gzLtcdmkC1dnZjmO4ZmiUOyFCCg7IoOCJV4RH9BjHAEjSAN84EgfwNz6wgkRTQ+FAGcsNUtQKDsiO7H0Z3nCGvOVJCi05Evp6rytfo0+BctyDF+wOYiqhICyYyQ4PfrXerTXXiZHj3EEp0cGp2gL/oa5tdJkB7GnQ4AzlponKNUyEhsIiiVCREjkCZJzkY9Hvnkvf3yVx3EM/yrd0C4fAWVHEBRkUCI+oMc4AkaQBvjAkT6AuZU/f6EkEMghwBlLzRMU2Ynlvw1ZCyIWjKd4pbM5V/t2eSIvtqx8n8vCNpic8fZc4xh+j3zUPQYBZcdIcIqMRnsZjaNtosc4gtMjg1O0BX/D3HrM3IdWxkeAM5aaJShr9qDQW+L3mJSIRSxjk9LlertGXuD4FPpJYhtI054OOHU5hneK47BRBJQdQVCQQYn4gB7jCBhBGuADR/oA5tZGJ0uo1R0CnLHULEHpDu2GFOYYviF1oUoCAWXHSHB69K/1aK+9jI0e4whOjwxO0Rb8DXNrYrLCaSCwEgHOWAJBWQlqD8U5hu+hH2fXUdkRBAUZlIgP6DGOgBGkAT5wpA9gbj37rIz+l0KAM5ZAUEqh3ZAcjuEbUheqJBBQdowEp8hotJfRONomeowjOD0yOEVb8DfMrYnJCqeBwEoEOGMJBGUlqD0U5xi+h36cXUdlRxAUZFAiPqDHOAJGkAb4wJE+gLn17LMy+l8KAc5YAkEphXZDcjiGb0hdqJJAQNkxEpwe/Ws92msvY6PHOILTI4NTtAV/w9yamKxwGgisRIAzlkBQVoLaQ3GO4Xvox9l1VHYEQUEGJeIDeowjYARpgA8c6QOYW88+K6P/pRDgjCUQlFJoNySHY/iG1IUqCQSUHSPBKTIa7WU0jraJHuMITo8MTtEW/A1za2KywmkgsBIBzlgCQVkJag/FOYbvoR9n11HZEQQFGZSID+gxjoARpAE+cKQPYG59/az8eP8Qlx8f4v61TZdX19+m9Xi1OGMJBGU8uwuO4Qfs9nBdUnaMBKdH/1rfUnu3y0VcvpfNoDz/u6gxc38vK7cmbnqMIzg9MjhFW/A3zK2vnmb/ituPX+Ly45e4/vyXUOavuL3pMrLc5f2vU45T3yk+O9xbfybwtCc4YwkEZUD34Bh+wG4P1yVlx14IyvtF3L9fxFUSCOfvEegvy9jr3y5iDSl4mLpUh4iFlRdr9+6051y//XcRT0e3+zddLtS3JsnYI1v5hkDACNIAHzjSB/S4G26q4XXo66+4q+yFE/y/bc9k8Bqdl1rKgDzepX6TXs8vn8gs1Z+36J/J1/8nHj9/i6tHivz6+KYR4IwlEJQBvYVj+AG7PVyXlB2dIHpPQFu17rshJt8u4pHJQlgSYMo81mQuiGg42RMiKLd7JvNh6l3/m8o8I7JEpFxVzHbaVY9xBKdHBqdoC/523rmVMgdT4C+EDsbvny1NvUbPtz/i+Qq1Pn+r7I6ftXmFIu23yRlLICjt23G1hhzDrxaKCocjoOy4M5A9IshWy66++RmJWbuGAIRkglX310UQuaHsiZS/laDIujF5dK6HLIoe4wgYQRrgA0f6wGnn1q8/4jpbLnX4lMhoEASFAVITRThjCQSlCVOVVYJj+LItQloNBJQdGycoRBLcDMWMnPy6iHB5FpVJnafr6tPJ0LjLsqjtkPR4dROZEWrXrcuS14g99BhHcHpkcIq24G+nnVuJoCQzE3Lfx4da2qSXQOllVjdvn8g/Ia8poiPJjlweFmZfvv74+0fePsTtUy/Rev6Um+On5WU3ry5leKbrtqxZbpWvb2bwCu0rPU1mxd83Qzr/Fo8aAUTjMjljCQSlcSNuUY9j+C1yUedYBJQdGwmIvaDf0YkC/fv9Im5mH4fU2w38Zd1UdoJDCqhMSILofNiWp+sKgkLLvEpvwvf0cbDbc16PcQSMIA3wgSN94MxzKwX4fpBNcyIF29PmdSpPRELvDfllCIckK/5eEUEk6H1anvX8/CPuhqBQS6FcOq8/lzMoyfol2k8u8SJ8HDKSLOv3aNRvnLEEgjKg9TmGH7Dbw3VJ2bFQQLsnGM7VJeJxcfaf0B4Pl1CklnIRyXDLhu0RCQqJCNUNz3v1EwSF9HaXjIlEpsaT14g99BhHcHpkcIq24G+nn1tpo7yT2dATbyQAtwH/X2HJh5uBCQL0GWFJzOhJgqHKbycoRdoP+uR2YSJo+my+H27NMY85YwkEZUDbcww/YLeH65KyYyMBcSpIp0A/JAlEKogA1CQoEifvz90PEyEotDn/6my4p/4pPS8X0fo+FD3GETCCNMAHjvQBPe6Gm2rWd4jIxxtlBGLEwDkXC9ytDJkxccouaJMP7JflxOsv1yO14vXN1Vg/qSL1Vy05+yfu6lHIhB8VOs8nZyyBoAzoDxzDD9jt4bqk7NgJQSEiQoF+mN2oSVBCckQ6qE9DUCSW9u/bfAka1QFBQcB7ZMCLtvryN8ytzjTrBeOxAN85R2WdPSR2j4jKqjhlnSZih1mCwCA68fqF2qd+Rh8z7JASj6zEejn+Oc5YAkEZ0A84hh+w28N1SdmxE4ISZhyIoNDSLcq0pMrlSAZlY8Iy1EZ4nsiGS1BID+9aiC2WeAkEzH0FzLDXsfbC3OpOsyao/yGzALEA3zlnAvf4/hUp0ynrNhE5jhMMKrgsJ15/uR61EK9vrmYJihBU9/qmN/zT/hySfaZPzlgCQRnQIziGH7Dbw3WpB4JC5GEpg5IqlzrvEgkiIiHJoPPFCAplWyJLv1x9WjjWY/zY4AzBMPA+uw9gbnWmWcoCuARFHZsydF1mE9xjR8R0SNkF9z0r01X3iIL8eHC/TDTi9Qu1v0BQLBFTmaTzLu+S9uSMJRAU1/MHOeYYfpCuDt0NZcfwV/7Wvkf2eMgAfpYxMeVCMpFa+uWRgERmozRBIXkhEfJ0aQR/PcYRMPcaMCu/v9WxHz2k4v6sI79XzEvofda5VQb11/c/4vFFUy49hYue2mWIwY/0U7qmTeL0Znf9okf7KGInuKeXLB76FK8q7f8TT4uZxo5wOPvLHDljCQSFxttAnxzDV+3u4zat93fX/qvjW/qZ3069W+7B4FTuel94W+xTPO43cQ11cIU/7/PrTnm3aFXMIsKVHRsJiHNBOpERyqKkAn0qR2+bp83qIWmJtUV1qQ1ZhtrJ1k8QqFwb4TK0WNlXn9NjHAFoiaAzKuN5sfeFh5jjfL85e5quF7GGDDxMXVnnfnXkOPcdaV/6k+WIdFyuF/GM6GP3TplrJDeme7S/EZkoN7e7HneRm/Xop9T7QZx3mJj3mFhy4SzRetj3lUzvMNHwaEJi34NiZHjvQgnfQ/KDZEwEyO5dof0s3n6PVAaFWX93+0I8P39P73pR+vvOEc/g+GXO8I0zlkBQBvQEjuGrdpsIhDPJ0mR7uaQIytOfrHPMgORnCUogz9HleqffZ4QQICiiRLB9/z4FVPKRwynSEJZzCUdWj8jyq6IEZQWRyep5EKHUY3weQCGoLIMJBfgS5zDIp2sPk6F4GN9hkZSHGSex7EnmmiUo8h1Dj3kfQ4IijKzrfV4WPrIdk5fPrVUn7j3CU8Rgj8wx6+oMyrmXd0nLcsaSHKn2H6eCLYyDZhF4uR1ZBCKAj4jC9Wp+ubwKl0d4pRnyn/er+QXyJh4OH/HkyC/UbpI4zWocdkLZ8aCAt4Wge0kHzn6VJRmp65Sh6SF7Ivugx/j2QAtBaho7lwxInD2CYgL/kCQogpDIbrhYE7mJkhkmQYllUWYERUzZGU9/ZEp2PQji5XPrYbPP2oZAUFiIfWmc0g8LYEkZohBnLIGgDGFqvxMcw/s1Cn9jEIiwRSIUMrtBSyC8TIdbgSF/UQbJA0EpkkFJBf6lz6tArPAmdsrEsLM5DZBGPcbTQbYbFON4HU7Kx27xAJ/uKyHBSJ33sKdlYykiwyAoN7M8LMyMxAgKEa2QTHk6gbCsIiwvn1tp3mruEwQlbxKDz49fai9P7jfTvJxxrnLGEgjKOPa2PeEY3hauccAgEH6zD6EnWLP8a4k0MORTwHDJLgNDBqU0gYC8yyGEDwRlHengBuV035BZB8p2uBmI2Dkpm0MGqExILqxuHILyuNgfcFy9YgSFlnldYsvJQExWEROy0cvnVn/ixDcg0C0CnLEEgtKtedOKcwyfrl3gCoNAeK1QebvvZNo/Yk+5Fah8lnwQ6bmIyzWzzGuJDLntHnys7NjAr/UgHceQjjU46zFeJ0inYOx0nybDQQQiRkYUEYhkQBbJh5iIRTKjwSQoItBT2ilKUJYyNiApq0nKy+fWg+cgNAcEaiHAGUsgKLXQf6FcjuGrqkcEwtmYLnVSfzPGkSAjJGNWXghB17IERWZHHuLmPCXnenvMn/plCYqzyZt0vWT2wVQFUAtXdgRBOSQjsYYctFBWj3EQlJIkKiQk4XdLBF5NUByyQ0vNogQlRVxATFYTE/IzPe4OuPmjCSAwOAKcsQSCMqATcAxftdtEIGyg7wT/IeEggjAjG5QBiZAEkj+rE+/V033UcJhNofZjuoKggBw0ShBBUAqTM5O9cLMbLRMUyqLQ8i0QlML+kCBxL59b41MczgKB7hDgjCUQlO7Muqwwx/DLUnaUWEEgaM231Dn1N9ssv0L+1IspU+M96tgSlNTjjycJRx8pOzYaILeQRTizDnqMHxOU0a/HI3/Glm7FCErsnMSFlni5BCfEi+51yTLcJV4meKY2ZRYlSlCwxGtzpiS0HX3X4+7omQDtAYHxEOCMJRCU8exuHkH6wo6xCQRlSdLkRDqxRyhkt9jyQwym9mwiBwQFWZIOSSAISjlyRoG+vtck7kVmWReRDFpaRYFr6jxdl5/UDu1xca+p45UERdZRxOSWICgZebO2ExkDlPP9jBNUhbMOvgMBIDBHgDOWQFDmuHV/hmP4qp1kEgh6tPDFsoVQqynr4RVhyg+lCRGRB4ICggKCUvyX5hEC22i2JLIUzBKFyN4UD4eljEaGUBC5CbMvdJ7IlftkL7qWJEQgJav9/uVz63xSG+fM528h3xK/7R0h/8T97Ze4vP0Wj68+INFvlP8Qt89/fShcWEvOWAJBKQx6C+I4hq+qJ4tARMhCTKmYrNi5WN3gnCVE7t6SExMUejkhBTexzxbeDUJ6ZnWhN81Hlgqm3mrf8xIxPcb9X3e9YBjB5+rgM8QvSlDcxw8Hb5IPyUMoT34nmWEGRpXdQFBkPVreJX3CJSjUlnsuphPO8ceRHnfBxDLcVxPs//ilCIMkDeHf7ecfcTXnb58GgC9z7v3vJkT0G9Y/xH01wSB96e3s9H2uN/WjhP6aYMTakHpM7z2hNi9vH+L286/3oB6SYTHchFyflThjCQSlT9tmteYYPitg70UOgaAyi29wp2VZzmZ5Wze2HEPvJZnIyLyMt6fFEpR5OYmjV3YvLivrKzse9es+BfiFX4JYggSsISjX/9p7JHAJDEIZeozzAysEoeuxygX4d/PCRGkH+Wb3KOGIkcQMCcm9t4SyIVESRDJdgmLOIXuy3u65saLH3cobeefFo8SByIgkKURI6Bx9X9Xv7S96XArya+mfb5cICpEmIai8xUvhQ2RqKrcKto4Lc8YSCErHBk6pzjF8qm6R80QgMk/ZojXb6eVdkyazsiQ/8ms57Vexddwy15u4P4J3uIKg6CVeIChdLXXTY7xs8JULzHCtHNZ0b2KTmhjRWTiXI1ew5XZbvnxunabFw44WA/wfJrjeQ1C2Lu+iNt/+eJkJF5z9+v8Tz6/5MiwiHPHsx5ygCJEgI6bvPnFxezDmMWcsgaAMaHuO4Qfs9nBdUnZEBkUggzLPCukxvj3QQpD6Wuxoc3sNO1C20TcHqAAAIABJREFUpSYBqqF3DzLPOLdmA/y3D7XUSwXpRBY2ZFB0G+uzCHmSoEOCvfrrNuZLz/Jt5whKKCtBXIaLaPwOccYSCIqP2RDfOIYfoqODd0LZ8cUE5fFdL33z9nG8X8RVZqa+XcTz10VQmfv9Im7fpqVyt8hyKxk8uWWu37WMcAmT+70kQXn+N/WH9JB7W1LnlR7vvs7SLmHfsvUr2FCP8dcG2T0ElNARPlLSB844t2YD/Pff4kYb27cSlK31bEYiDPj9wGCv/uUJypyIaR1/iXg2xu/PKN84YwkEZRRrO/3gGN4pjsNGEVB2rBDcusG/PU4t8Yqcd4NxWZ8IitSXNrJTGW9PCMkyxEYERMfqEvS5BkGR5OrxPmUmSN/wfExH+oX64uzXSdYP+pLq49rzeowj+CwZfEIW/GnJB844t+YD/L9CXZdLrDYSjXwmIjc5x7IU8/J79V8iKHYTPD1MQGWQQt3+icfPD/2wgUiGiTDY9gSzeZ97OMMZSyAoPVhypY4cw68UieIvQEDZsVKAOwuIiTw4QTeVoacEPYwuRBjoOxEUj4z8utilWVSO6hGJkfKprpehCfocq0e62U/S391zZI7d9ohIhLqmzlPb1AdqL9Q7VZ/Kl/7UYxwB5VJAievwkZI+cMa5dSnAF2oPxYe4f255itee5U2GBGT2n8hpe4v+RBhm5EOREJ0BoTLxrAcRFOcpX5GneNmwYuseHCugvwPOWAJB6c+uixpzDL8oBAVejoCyYxCslw50rTwK8CMExQvGKevhlKPrLhGQcum8Ih9Uj7In1C/TbkgYrF4O0Qnlu2UEQ44sT0QiJETR8ymdpe5Be9H61McKn3qMI/gsGXxCFvxpyQfOOLcuBvgmc3J9/60fPRzJECQn041ZFy2PSMB8yZTb3l79lzIoeYKS1430JLKDDAohoj9BUHw8hvh2xpvoEIYLOtEKQXGDcQrEXbJARMQ9NyMDFOxHMhyyn+5yKY94tEBQHDJmdaP+mGuES0h8bPnCJEWPcQSUSwElrsNHSvrAGefWxQCf9oKYDfNrnkZFgXk8yA8mxNlXyr7s2YMi39li5CT0P4KgaIyxByU0MQhKiMgA3894Ex3AbLMuKDsWDmyTAXMmgyLrqGVe38xm8SALkiIodD6bQWH0j5ZZhQTI60uQ0fCuOW2kiET0PJGQoL9KdtBetL7TbkqfredBUBB4lwy8IYvnT2ecW5cJivOOD/e9KLMZLTxBxCD9iOCwRvidCE4u87BX//oEhZcJCvve+3fOWAJB6d3KEf05ho9Uw6nGEFB2rBjkesHxAkEhsiF1CrMEdC08T8SC9m/Q9yzRiPSXVS8gDF7fHJkpIpE6T21TH0hu2OdUfSpf+lOPcV5QheATOMEHyvjAGedWToAvaKnWGoJSZN/F8j6U/fqXeg9KIsAogkNCdsOnOWMJBKVhA25VjWP4rbJR7zgElB2d4Lp0kOvJWyAotMxL6pQK1t0nYFHA7u0toTbcjIR5hG8o09WNSEKW2FQiKO5TvOipX7mneIUkze1HyWM9xssEXQhegSN8gOcDZ5xbWQE+LZNaQVCicjdMr5RFSS0Ti7ZDhMrul6HlYr8Ed4lavl1uVoTa5e1V2QBPs1U4YwkEpVnzbVeMY/jt0lHzKASUHVshKLTMK7Ifg7IJW96D4pKaVAC/hqBIzMI/lyQRcQqJROq80mnle1BS/Sh5Xo9xXlCF4BM4wQfK+IAed0fNACO3s5z54Pe+3yA/T3L4CPRYkjOWQFB6tOyCzhzDL4jA5QYQUHY8iqAstWMyFLEshiUozntFSgbjkDW9r4Ww0GO8TNCF4BU4wgd4PoC5tYGJMaqCQ1K+ogWaO0l7W1KZn+YULqwQZyyBoBQGvQVxHMO3oCd0yCOg7LhEHGpfp2VZkbenU7AMgjInEIRNrU89xnlBFYJP4AQfKOMDmFvzcxauAgEuApyxBILCRbOjchzDd9Sd06qq7FibgEC+qEUiasrVY7xM0IXgFTjCB3g+gLn1tNMxOl4YAc5YAkEpDHoL4jiGb0FP6JBHQNkRBKJLAlGTnEjZeozzgioEn8AJPlDGBzC35ucsXAUCXAQ4YwkEhYtmR+U4hu+oO6dVVdkRBAUEJeIDeoyXCboQvAJH+ADPBzC3nnY6RscLI8AZSyAohUFvQRzH8C3oCR3yCCg7RoLT2r/OQ/7xe0rWYq7HOC+oQvAJnOADZXwAc2t+zsJVIMBFgDOWQFC4aHZUjmP4jrpzWlWVHUFQkEGJ+IAe42WCLgSvwBE+wPMBzK2nnY7R8cIIcMYSCEph0FsQxzF8C3pChzwCyo6R4HTtr+0o335GZK2N9BjnBVUIPoETfKCMD2Buzc9ZuAoEuAhwxhIIChfNjspxDN9Rd06rqrIjCAoyKBEf0GO8TNCF4BU4wgd4PoC59bTTMTpeGAHOWAJBKQx6C+I4hm9BT+iQR0DZMRKcrv21HeWRQUEAygtAgRNwyvkA5tb8nIWrQICLAGcsgaBw0eyoHMfwHXXntKqCoIxHLEqRRT3GEUzmgklcg3+U9gHMraedjtHxwghwxhIISmHQWxDHMXwLekKHPALKjsigYIlXxAf0GEcAWjoAhTz4VM4HMLfm5yxcBQJcBDhjCQSFi2ZH5TiG76g7p1VV2TESnJb6FR5y+s3Q6DGOYDIXTOIa/KO0D2BuPe10jI4XRoAzlkBQCoPegjiO4VvQEzrkEVB2BEFBBiXiA3qMIwAtHYBCHnwq5wOYW/NzFq4CAS4CnLEEgsJFs6NyHMN31J3TqqrsGAlOkfnoN/NRynZ6jCOYzAWTuAb/KO0DmFtPOx2j44UR4IwlEJTCoLcgjmP4FvSEDnkElB1BUJBBifiAHuMIQEsHoJAHn8r5AObW/JyFq0CAiwBnLIGgcNHsqBzH8B1157SqKjtGgtNSv8JDTr+ZGD3GEUzmgklcg3+U9gHMraedjtHxwghwxtKMoMhK+AMG8AH4AHwAPgAfgA/AB+AD8AH4QA0fWOI8HkFZKozrQAAIHIeAvCHgHxCIIQDfiKGCc0CgLgJ63CEzVTozBXnn8ynOHIYIqO79DNKBwGYEOAN4s3BU7BoB+EbX5oPynSIAgnK+QBrkqY7NOXMYCEqnN0qoPT4CnAE8PgroYQwB+EYMFZwDAnURAEGpE6yCBJwPV84cBoJS934G6UBgMwKcAbxZOCp2jQB8o2vzQflOEQBBOV8gDfJUx+acOQwEpdMbJdQeHwHOAB4fBfQwhgB8I4YKzgGBugiAoNQJVkECzocrZw4DQal7P4N0ILAZAc4A3iwcFbtGAL7RtfmgfKcIgKCcL5AGeapjc84cBoLS6Y0Sao+PAGcAj48CehhDAL4RQwXngEBdBEBQ6gSrIAHnw5Uzh4Gg1L2fQToQ2IwAZwBvFo6KXSMA3+jafFC+UwRAUM4XSIM81bE5Zw4DQen0Rgm1x0eAM4DHRwE9jCEA34ihgnNAoC4CICh1glWQgPPhypnDQFDq3s8gHQhsRoAzgDcLR8WuEYBvdG0+KN8pAiAo5wukQZ7q2Jwzh4GgdHqjhNrjI8AZwOOjgB7GEIBvxFDBOSBQFwEQlDrBKkjA+XDlzGEgKHXvZ5AOBDYjwBnAm4WjYtcIwDe6Nh+U7xQBEJTzBdIgT3VszpnDQFA6vVFC7fER4Azg8VFAD2MIwDdiqOAcEKiLAAhKnWAVJOB8uHLmMBCUuvczSAcCmxHgDODNwlGxawTgG12bD8p3igAIyvkCaZCnOjbnzGEgKJ3eKKH2+AhwBvD4KKCHMQTgGzFUcA4I1EUABKVOsAoScD5cOXMYCErd+xmkA4HNCHAG8GbhqNg1AvCNrs0H5TtFAATlfIE0yFMdm3PmMBCUTm+UUHt8BDgDeHwUdA8f7x/i8uND3L+29Xhv/W2t1qs1qm+MZqe1HlC7/7Xlr+1vb+VBUOoEqyAB58OVM4eBoPR2h4S+p0GAM4DPAcZfcfvxS1x+/BLXn/82dHlv/Q1NVq4ypm+MZ6ekG3z+jvhz7f7Xlp/s7e4Lz5/yBwp9D9jzQ8VeRUBQzhdIgzzVsTlnDgNB2XvHQn0gUAkBzgCu1LQROwU0Njh4+xC3n3/Fs27DM+l7f/ndW3+m0ItPrPKNrz/iaoK726dRnM69/z2wJ//E4+dvcc20+Ro7vcDPowRFiH39bxHff+L+JonFPPv5eNeEw/okwxN1nbksRtUiRUBQ1gar3+2PS7fPtXVRfmRyxJnDQFCK3LYgBAiUR4AzgMu36kqkwO23eJjT9pfMTJDpSsBxHQRW+QaREUlSyG50jr7XUdOXaoJyq4N/9YXfXuDnCYKyC4RG8Y0TkTnmnL6DoHQWtH/9J64/3sVVktT372LkgBt9W+ebnDkMBIVzV0QZIPACBDgDuK5asSCCfhGdSEtdHSA9hsAq3yAyorIoxm50DgRFCPECPz8RQREx4rTR/0BQ1gWBrw6anz/fxeXHXdzl59t/4in60v/V+I3cPmcOA0GJzf44BwQaQIAzgOuqmQvczDKLz9/iKpd9ff4zy1PMOvG3Pybros/TEqPL24e40zIjUv7rj7ipZSBUV8uTl23GJlyiRHXFP3FXG+hNXblP5e2PXYK2uv7bb2cj/l9xe/tQS5JcOdv2wViFixys8g0KBmVffvwSakkNnbMEZclOEguyz29x//yj7W72BKmlW3Rd2irE0djPLhUM7OniK8u4y37omntOSLur9mi5z5L+OdiP8HPSV2Mj8ZL9JF+iPhI+fl+N7slxQvpPYyCUk5NP1/w2Sd+C+EbGJfU/7z+T7eIExfTfkU+kiORLf5HL57L3oamZ5JEedwiyeYHzNz1GJTH5vIvLj3dx/wqw+/pvuq+o+8a7uH1+mzItyetm6ZhLelQbckyZ+p93cX3T8h7vkijR/es/8RAX8fgprztj5u3O1y9sSxEvWs52V/J5GAV4nIjAceYwEJTkrQgXgMBrEeAM4LoaUuDjZksocDHn6JdgGfzaDexyLbzepzIt75Cb22WQICcECnqEEDZQdkjF5x9x//Q3w8eDKLlmX8uzwdXX1LaLzVJ9/XSwUD/q/zyQtO25jRx4vMo3LMa/1XpwZSd7Tu9BydvJsbl6itpfQw4IF0kSf4vHF9nMKe9iEvsl3b3uEFIP30BXVYXOmaA0r3/QyOwr2bmen5Ofkp9pckX4TQql/JQ1TprFl/xhGvczPDj+I6bxrnEk3JYJyj7/oHaEAEFZE1CbgF0u7VJLvRzyIANxc+7yPmVWnp//iTsRlOx1HkFRPwK8vU+kRXwTj5/fxVN8E/f3u3h8ERkyZOqHQy447bvlDWnBUjaej3DmMBCU6d6DIyDQFAKcAVxX4TBwk8G/eZoO/fJOQZH76yUpFQSR6jSVN/X9QIUqzj/jgds88JnX1Gei9Uk/6oss6p0L+y/E/JfZVIt1z6/yDadPCm9pK+ec7bNrQ9dOblnTLcJzIqV+f+m6RzRcmX5x+y1az2ZLJgJB5TyyldLfSk8dhHYu7Ocr8KN+ebglA/OgP83iO2VCdb9CvIN+pIhqEgcjL2L/Mv4x6QeCwgs+VfbABOx6c7whAM4+FH3vj2RVTBYhf51PULhLy/RyNJm91X3Mt38xP45N5cP6yKDkfYUzh4GgTPceHAGBphDgDOC6ClMg4abBg6d4maAoGqjGAiYK1lQwEQksEh1KBW50XmZl5DKz1D8q5wV+Ud1dndxjIzlaJ9VqvfOrfIMwl0RM6S+X2Zkne9lzzgZ6qTbVkXaK9Tl2znT3+fXXLruL4Z3bJB+10yxgDYip0cWT6+q/aIbKfh7DKnZu1k9SPOKHdMn9jOHgXk/KDwlEaXwdf5L+RrZxfxhw9Ez6z1aCEsOFdHBJjaND6hAEJR90ukG5DtgnAqIDfspQRAiGt7xpw/Vw2VX43ZPv9+P59V3czTIwTVCW2nczQHLzfyQDk2nPxemsx5w5DAQldSfCeSDwYgQ4A7iuihS4Tb9cz9pLBFqqHAUGtPbX/SxEUGQ7T/noWpKt9rjMiUo08I3q7gaD7rHpebTODJXqJ1b5BgVjTnB4fTeYuQSFMHQ/mQTlqfakEJH9sGu7SxEUL6h1+yORXvSzJXNU9vOYz8TOJQlExA9jXSIcEoG/rBIdB/KCi6l7LK+RXNcv6Jgd4E99oCys+6MGy3/2EhTS2f1k668BB0HxA/t0cE0BO90Tpk8eAVgiCJHrISEJvweEQS4nm/agmCeNqf1vso8R+UF9j5TY5WB4UlnaJ3zf4cxhICj6voP/gUBzCHAGcF2lywRubiDi6zsFLUvvVUkGVlagsywn2GQti0TrR4NEVyf32DQUrWOVOOxglW94Aaf5ddxsmFdZh6U+efV1FwlPbwnND7kPxcepGEFxlnndzTJDK3tJ/0WrVPbzmH6xcyk/paeMLQXTRqaXSQr6Tnaz2NnrlDX5LcrjqxvRv6ATeZ32o1hytOQ/OwlK+j5kQVg8AEHxg8x0MKoDfLthXQb3JojX55YIwIbrISEJv7sEgwiF3ENCG/dNeR6B0jjQsi65GV/ud6HlYWlcuPiNX44zh0kU8A8IAIEGEeAM4Lpq7wzcIoGtry8FRU6w4hew39KBlS2iDxJBWrR+TD/v3IgEZSJr6qk2TlYlHdiSnYiA0HezyTsSbEfxTtjGtWC0nilA1/TTeJysnmczVxr3uLKfR/SjvoRBM533CQThvTBOmsVX24H6puznki2u/6wgKNSWR6AzmSWup4CgMANnL9inOi7poAzLtATMD+qXrruytHxLFpyneElf80gSkZQIeaH6mmQstR/0SWXlaPkaXcOnb1MfD058I2vgHxAAAg0iwBnAddXeGbjZgEL+skTLrmSm47e40RO/nKCKsihyuQfvKV7y0bfu06Om4JsX+IVPBUo8xWshmKprg7j0Vb4RBsj0XU6qJmjTv25n7PTlPGZYPoXNfUwuyXs3T2Kj77NMVkj4/oknZVxMNymw9AN0c9GRS3oTOov6U8HoZ20/J4JhCJ6DJddP7TKrd/10PNmN+ThpFV8Desp+dH7Rf8LxSsaM4GuWcRG++/yD2sFTvHIBp3tN4x2SjyDoNyRBPvWK3o/iPcUre51kmQzIlyEsLiGJkBCrI2VQ6Ali9N3NgmTbn4Jt8i08vWvCxOJMhDDyyZnDQFCmew+OgEBTCHAGcF2F9wdu6tHC7h4RGTiE70IJ3+9gN7xT+9P6Zf3rOQXW+h0odv+JCkrkJn4iQ0v1JXrBe1S8PSxhwDetx6fApy7+aemrfMMGgPqRwqrP9Px/+6uyJo4elqGdHHVCIuHuA7rKQNO+H8eppIJqZ7+QsrO8zrGTlkPBwJzArNPf14rad7IyfgG7DyNt96X2HYInSbX3HhlqP+XnRpnkOJmUVbib4Fw/OEJeY8r3flCYZOqjpf6F5WPfiUhIIuxf5/qPXA5m38cj+0n+65A++Q4eia98h9F0LyihPwgKJ/D09mYEgamfpdDLvjx7/lh4D4p7XZISuo+93cXjU75T5V3cOBkUcRFP+R4UM1aukqjY96Y4gXb4Hha3fdO3WZ+CPvMwc9o8SX3OHAaC4t8n8Q0INIMAZwA3oywUORSB1/oGBZoLS44ORQSNAYH6COhxd75gEkF22ub6RxMs71rrI5w5DASl/j0NLQCBTQhwBvAmwajUPQLH+ob89fmvXY5Fjx2+uEvfukcUHQACywiAoKQD9bUB6hDlzdKy6D6Xk2RCttqRM4eBoCzfk1ACCLwEAc4AfoliaPTlCBzrG3JvzoddDqE2ntJ+gZcjAQWAwHEIgKCAoOiA3NnzQvtYQEjEGrLCmcNAUI67t6ElILAKAc4AXiUQhYdBAL4xjCnRkY4QAEEBQVkThKNs2l84cxgISkc3R6h6LgQ4A/hciKC3hAB8g5DAJxA4DgEQlHTAiWAc2KzxAc4cBoJy3L0NLQGBVQhwBvAqgSg8DALwjWFMiY50hAAICoLwNUE4yqb9hTOHgaB0dHOEqudCgDOAz4UIeksIwDcICXwCgeMQAEFJB5wIxoHNGh/gzGEgKMfd29ASEFiFAGcArxKIwsMgAN8YxpToSEcIgKAgCF8ThKNs2l84cxgISkc3R6h6LgQ4A/hciKC3hAB8g5DAJxA4DgEQlHTAiWAc2KzxAc4cBoJy3L0NLQGBVQhwBvAqga8o/PlbqMfS2re7r1HCvBBQvhn6a02915XVb1j/ELdPept9HV2G8I060GyTejI/3QbSVOsoP59abOOoHEH5Ju7yLejyDehffQS2+o3pwZve9zxa9/Nu5oZvqx5Pq4Pg/vBbE7y3WLa0/TlzGAhKG/c9aAEEZghwBvCsUvIEvf37l5oUJGkI/26ff8UtPP/2IW7yJX1JufkL+i27W944Tvr+Fg/VBH2f6039KKG/DrxibUg9ePiQjNtnHps9V8v6xh5NStdl2PnnH/tOFovxlzn3/neTQof6aQX913aafJTGzvQpfwzg4UsyrA3WKtFh+TIExQTXP+jt4/Q9dt/R526f03s3rK3e3sXt53fxXCQJDPk//3PGlCFMX+bc+3dLIHSQ+kvcPveTKj3m3sV9NUGj/vSHX454ELbWvnYulv3cY39tq6x8svUPx7Z0rpL9OXMYCEqHN0mofA4EOAN4KxLxgIwCcCIFQlAQctkU+Bl5G944Tu2mgp9a+ufb5eJDQfaE41Y7perV9I1Um684H7WzE0Bbv6RzPfgp6SoDENKXztH3ymBn/Zx0WdSvvp9XhmG1+BIEhQLFVJAfD9wpQKWg/CJIzsUJIHMBMF2LyqdgVNncEBI658kPycFWomL68/Yfg2D5bVC/+8TP7wvZRH7m+7Xf/ln5ZOvD7H8RnDkMBGX1LQoVgMAxCHAG8FZNooGfzRC4gfWOIGTrshkKkDLEZr/+/8Tza74MKxu4rcHH9N0GoFsNlahX0zcSTb7kdNTO5B9yMv1hfJXObQnwj/ZT0rWI/nE/XjJW1s/X6FfZz5f6cfT13QSFAsFMYB4lEPYX9ImgCJEiC9/E8yu9bCoqn/RSPmnaoHMeQbkIYZZmrSVGbjBOMq4/03p65SlLRDr1jJ+I2ydLIArYPyufcD3K/gIE5eh7F9oDAkURqBmERgO/bAC+fpmWbsMlOzx4ssGTEbFXf93GvE/5tucZFCGIwIWy6Pz6/nNQqukbnPaPKhO1MwXQbx9qWYrKstG5DQTlcD8lXQvon/LjJftk/XyVfnX9fKkfR1/fS1CyQaIJwrU/hkuf5r+gTwTFL6vb8M+5wX5UPgWob+9mTF2EoHMhQUkSo3R2wG1fHmsdXLLFqzsCfin75Pu23/5Z+WTrg+wvfYAzhyGDcvQdDu0BASYCnAHMFDUrpieIMKjOBeArA20KclYHjBTwhLr5XdirfyqwywZuWQI3x0frKNf0+rqX+FbTN0roV0pG1M7Wt36rPVNX+QAGe27lHpSt9ZLE1O95bf1TfuxrMf+W9XOLCQ/fmn4+1/y1Z/YRFMp4pMnDFLyHZXIBqh/opwJgIgnaXoF8ClDf72ZMfcsQFCIYzn4FynBwPm1b094W0i3/OQZ+KftkCcSKDMom+dYmB9jf+AhnDgNBee39Dq0DgSQCnAGcrLxwIRo4zQLwf+Lx80Nvpl9JNLIBUFa3GEmaV9irfyqwI71nGxVV/0Pd8viQLBVAz7uw60xN39ilWOHKUTvbAPqv/iVWLgV0zq1RgWy0nkSGvhBv9Rj982Q+phn1O+rnDpZK/wV8SVYNP4/p/spz+whKjGTMMwfaZwICMQtQv4nHz3dzb/YD/VSASsF/VL4NUL+bMfWfeDrnqC59UjC9eonW4l6LOR7UpphhEC8b7d+s7uvwS9mHMJ2PSWnf0HfW65+V79haj/l69id7cuYwEJRX3u3QNhDIIMAZwJnq2Uv6Jh4GNhR0OU+T2fQUL8qCzLMKWaXURaNDZv+JLLZFfwqkZhOAsxeAysQD1pX4bN3bsAwSKz3OENN8kaidnQBaKIw/xP1zy1O8XuSnO/UnH8358ZJhSUbUz9fqV9HPl/px9PUiBCWzf0IGb9rnUwTFvTdPT/FKBp/unoLcEjInQNX7Q97F/XP+FC8KLjfvIdm1PMwE6R3ix7EPlYlv/ieCst3+WfmH2X8ilZz4BgTl6Dsc2gMCTAQ4A5gpalYsGvjNMiizarwTboDDq+GUIhKQJzd79dcBWkjQpqeWRQO3lfhQEFjjl+WavuEY4+WHUTu7/mWOr++/9WNS12T6XDmre7rDT9129+gvyF/nfrzUHfLNqJ+v1I9k1fDzpX4cfb0IQbGPF56CNRv4LxIUfzmXW4+OdSAaEpyprSgBcgNUc3x9v5sx5WdoZDsU7K7OoLjtcJaDeWUoSM9jEO3fLAMx4UG40Wdt/FLyCdM8Qcn3fbLN3P5Z+a5datrfsSdnDgNBOfoOh/aAABMBzgBmipoViwZ+KwPwmVBzggKWaPCTqmTP06/a+aBrr/5ax3kbed15QSl1ReuIPSiEx5bPqJ3dAJr2gpgN52uempa39ZK2O/y0kP5Sw5QfL2mf7ftK/Wr6+VI/jr6+j6CU3kMRD7JTATAF4NpeQQDrBqiU5TAbpmNP65psHteB2go/s0GyE7yG9fT3MfBL2SePDY+cSZw2yT/I/q5dOfENCMrRdzi0BwSYCHAGMFPUrFg08CtCUEzgtrBEa6aQc4KCp9wvsnv1TwV21HacXK0hKGvKOp1nHtb0DaYKhxSL2tkLoClIN0sf2BmUF/ppEf01/Ck/XjJO1s9X6VfXz5f6cfT1fQSFgsdfIpd50D4fEIgjMwA2yKUxFWZQ+MGyG5Dap44tLNHy6/gEiIL4nvHbRCAK2J+wi2ZoPIIy+alaRjp7ittW+/u25MxhIChH3+HQHhBgIsAZwExRs2LRwK8EQSmyHt0EPRmSs1//+PsjsoHbGnyK4DAzmz1R0zdsIw14yvtjAAAE+ElEQVQcRO0cBND2CV5yvT2XoBSxz0Y/LaG/tU3cj+3lxEHWz9foVwTHhJINnt5LUOxm50yQvpegSCKw+T0oFIxSwKrGVEBQzHtQciQhSjK21vMyKyY47hm/hH2yBGIFQUnZPyuf7F3T/p4d8ZjhBm9vUAkI8BGoGYRGA781AXiiG3G5icKZ09kAanGTfH7/SqZZs2QmtSyL+2sxLf/ZrkdOR3mtpm8stX3k9ag/hQE0LfNaQVCicjd0bJOfFtB/g6pelazebP3q+7mndANf9hOU6dfp6C/ZBfagRMmBExxq3w8yNGGASsu8ZgSFllkt74UI9Yi26+gVlk99zwbazePnZxHcPub7tT9rkZV/gP3dvspjzhyGDEoDNz2oAARiCHAGcKze684t/6LM163f4Ccb/PEByJbszzey3Tn4Ivy0BOBH+HkJPUvKKEFQ7FKnhc3yYUDXwvdskJslG8uZD37/tpMkfhtpInFmGdvtP8eTM4eBoJS8e0EWECiIAGcAF2yuQVEOSflqUL2ISjpo+6jycka3OfiGi8arj/vz072IHeXne/UsXb8MQZFhlxNkf82DtxaDYB2cvotU5udYnfvD71h8yvtUaftz5jAQlNJ3MMgDAoUQ4AzgQk1BTGcIwDc6MxjUHQKBcgSlfADZewAM/c/lE5w5DARliNsmOjEiApwBPGK/0adlBOAbyxihBBAojQAIyrmCaJCmevbmzGEgKKXvYJAHBAohwBnAhZqCmM4QgG90ZjCoOwQCICj1AlaQgXNhy5nDQFCGuG2iEyMiwBnAI/YbfVpGAL6xjBFKAIHSCICgnCuIBmmqZ2/OHAaCUvoOBnlAoBACnAFcqCmI6QwB+EZnBoO6QyAAglIvYAUZOBe2nDkMBGWI2yY6MSICnAE8Yr/Rp2UE4BvLGKEEECiNAAjKuYJokKZ69ubMYSAope9gkAcECiHAGcCFmoKYzhCAb3RmMKg7BAIgKPUCVpCBc2HLmcNAUIa4baITIyLAGcAj9ht9WkYAvrGMEUoAgdIIgKCcK4gGaapnb84cBoJS+g4GeUCgEAKcAVyoKYjpDAH4RmcGg7pDIACCUi9gBRk4F7acOQwEZYjbJjoxIgKcATxiv9GnZQTgG8sYoQQQKI0ACMq5gmiQpnr25sxhICil72CQBwQKIcAZwIWagpjOEIBvdGYwqDsEAiAo9QJWkIFzYcuZw0BQhrhtohMjIsAZwCP2G31aRgC+sYwRSgCB0giAoJwriAZpqmdvzhwGglL6DgZ5QKAQApwBXKgpiOkMAfhGZwaDukMgAIJSL2AFGTgXtpw5DARliNsmOjEiApwBPGK/0adlBOAbyxihBBAojQAIyrmCaJCmevbmzGEgKKXvYJAHBAohwBnAhZqCmM4QgG90ZjCoOwQCICj1AlaQgXNhy5nDQFCGuG2iEyMiIAcw/oABfAA+AB+AD8AH4AOj+cBS3AaCsoQQrgMBIAAEgAAQAAJAAAgAASBwGAIgKIdBjYaAABAAAkAACAABIAAEgAAQWEIABGUJIVwHAkAACAABIAAEgAAQAAJA4DAEQFAOgxoNAQEgAASAABAAAkAACAABILCEAAjKEkK4DgSAABAAAkAACAABIAAEgMBhCICgHAY1GgICQAAIAAEgAASAABAAAkBgCQEQlCWEcB0IAAEgAASAABAAAkAACACBwxD4HwKZ0r95gYKtAAAAAElFTkSuQmCC)\n",
        "\n",
        "![image.png](data:image/png;base64,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)"
      ]
    },
    {
      "cell_type": "markdown",
      "metadata": {
        "id": "5r1D9YVHqzm1"
      },
      "source": [
        "### 11.오분류표를 활용한 평가지표\n",
        "- Accuracy : (TP + TN) / (TP + FP + FN + TN)\n",
        "   - 전체 예측에서 옳은 예측의 비율\n",
        "- Error Rate : (FP + FN) / (TP + FP + FN + TN)\n",
        "   - 전체 예측에서 틀린 예측의 비율\n",
        "- 특이도(Specificity) : TN / (TN + FP)\n",
        "   - 실제로 N 인 것들 중 예측이 N으로 된 경우의 비율\n",
        "- FP Rate : FP / (FP + TN) : Y가 아닌데 Y로 예측된 비율\n",
        "   - 1 - Specificity\n",
        "   - 실제 N인것 중 예측이 Y로 된것\n",
        " \n",
        "- Kappa : Accuracy - P(e) / (1 - P(e))\n",
        "   - 두 평가자의 평가가 얼마나 일치하는지 평가하는 값\n",
        "   - 0~1 사이의 값을 가짐\n",
        "- 오분류표의 평가지표 중 F2(아래첨자)의 의미\n",
        "  - 재현율에 정확도의 2배만큼 가중치를 부여하는 것"
      ]
    },
    {
      "cell_type": "markdown",
      "metadata": {
        "id": "tJlgCAlzCUgS"
      },
      "source": [
        "### 12.정분류율(Accuracy) \n",
        "- 보기의 표를 보고 정분류율(Accuracy)를 구하시오\n",
        "> ![image.png](data:image/png;base64,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)"
      ]
    },
    {
      "cell_type": "code",
      "metadata": {
        "id": "Q3yH2TUMCUgS"
      },
      "source": [
        "Accuracy = (a + d ) / (a + b + c + d)    (18회)\n",
        "Error Rate, Misclassification rate = (b + c) / (a + b + c + d) "
      ],
      "execution_count": null,
      "outputs": []
    },
    {
      "cell_type": "markdown",
      "metadata": {
        "id": "OEL4X8Ukpj_a"
      },
      "source": [
        "### 13.정확도, 재현율\n",
        "- 정확도(Precision)\n",
        "  - 예측값이 True인 것에 대해 실제값이 True인 지표\n",
        "  - 식 :TP / (TP + F**P**)\n",
        "- 재현율(Recall, Sensitivity)\n",
        "  - 실제값이 True인 것에 대해 예측값이 True인 지표\n",
        "  - 식 : TP / (TP + F**N**)\n",
        "  - True Positive / (True Positive + False Negative)"
      ]
    },
    {
      "cell_type": "code",
      "metadata": {
        "id": "HShdeZZHqQ-O"
      },
      "source": [
        "재현율(Recall) 식 고르는 문항 (17회)\n",
        "Recall을 고르는 문항 (19회)\n",
        "Precision을 고르는 문항 (20회)"
      ],
      "execution_count": null,
      "outputs": []
    },
    {
      "cell_type": "markdown",
      "metadata": {
        "id": "QmnpBNmpqeee"
      },
      "source": [
        "### 14.F1값 구하기\n",
        "![image.png](data:image/png;base64,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)"
      ]
    },
    {
      "cell_type": "markdown",
      "metadata": {
        "id": "23xO1LtnqUz9"
      },
      "source": [
        "\n",
        "- F1은 데이터가 불균형 할 때 사용한다\n",
        "- 오분류표 중 정확도와 재현율의 조화평균을 나타내며 정확도와 재현율에 같은 가중치를 부여하여 평균한 지표\n",
        "- 2 * (Precision * Recall) / (Precision + Recall)\n",
        "    - Precision : 정확도, Recall : 재현율\n",
        "- Precision : True로 예측한 관측치 중 실제 True인 지표    \n",
        "- Recall : 실제 True인 것 중 예측이 True로 된 것\n"
      ]
    },
    {
      "cell_type": "code",
      "metadata": {
        "id": "gkO0jXSPqoEZ",
        "colab": {
          "base_uri": "https://localhost:8080/"
        },
        "outputId": "1d8960c7-63cb-4ae7-c41e-295b904d52f0"
      },
      "source": [
        "2 * (0.91 * 0.95) / (0.91 + 0.95)"
      ],
      "execution_count": null,
      "outputs": [
        {
          "output_type": "execute_result",
          "data": {
            "text/plain": [
              "0.9295698924731183"
            ]
          },
          "metadata": {
            "tags": []
          },
          "execution_count": 1
        }
      ]
    },
    {
      "cell_type": "code",
      "metadata": {
        "id": "VApdVPSUqqUu"
      },
      "source": [
        "F1을 구하는 문항\n",
        "= 2 * (Precision * Recall) / (Precision + Recall)   (16회)\n",
        "Precision : TP / (TP + FP) = 100/110 = 0.91   \n",
        "Recall    : TN / (TN + FN) = 100/105 = 0.95 \n",
        "F1 = 2 * (0.91 * 0.95) / (0.91 + 0.95) = 0.93"
      ],
      "execution_count": null,
      "outputs": []
    },
    {
      "cell_type": "code",
      "metadata": {
        "id": "FEUR7q7gqYK_"
      },
      "source": [
        "F1을 고르는 문항 (17회)"
      ],
      "execution_count": null,
      "outputs": []
    },
    {
      "cell_type": "code",
      "metadata": {
        "id": "IS7OE6b9q1_p"
      },
      "source": [
        "F2의 의미 찾기 (21회)\n",
        "kappa 단답형 쓰기 문제 (17회)"
      ],
      "execution_count": null,
      "outputs": []
    },
    {
      "cell_type": "markdown",
      "metadata": {
        "id": "YHhW9LT0quPN"
      },
      "source": [
        "### 15.Confusion matrix 문제\n",
        "![image.png](data:image/png;base64,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)"
      ]
    },
    {
      "cell_type": "code",
      "metadata": {
        "id": "5Bp6VuQGqxNa"
      },
      "source": [
        "F1 구하기 (21회)\n",
        "   Precision = TP/(TP + FP) = 0.4 \n",
        "   Recall = TN / (TN + FN) = 0.4\n",
        "   F1 = 0.4\n",
        "특이도 구하기 (22회)\n",
        "   특이도 = TN / (TN + FP), 실제로 N 인 것들 중 예측이 N으로 된 경우의 비율\n",
        "Error Rate(오분류율)  (23회)\n",
        "   = (FP + FN) / (TP + FP + FN + TN)\n",
        "   = 120 / 200 = 0.6"
      ],
      "execution_count": null,
      "outputs": []
    },
    {
      "cell_type": "markdown",
      "metadata": {
        "id": "KJ16Adua5ymK"
      },
      "source": [
        "### 16.ROC, 향상도 곡선 VS 이익도표\n",
        "- ROC(Receiver Operating Characteristic)\n",
        "  - X축 **FR-Ratio(1 - Specificity(특이도))**, **Y축 민감도(Sensitivity)**를 나타내어 이 두 평면 값의 관계로 하는 모형 평가\n",
        "  - 가장 **이상적인 X, Y축의 값은 0, 1** 이다\n",
        "  - ROC 그래프의 밑 부분의 면적이 넓을수록 좋은 모형을 평가함\n",
        "\n",
        "-  향상도 곡선(lift curve)\n",
        "  - 랜덤 모델과 비교하여 해당 모델의 성과가 얼마나 향상되었는지를 각 등급별로 파악하는 그래프\n",
        "- 이익도표\n",
        "  - 분류 분석 모형을 사용하여 분류된 관측치가 각 등급별로 얼마나 포함되는지를 나타내는 도표  "
      ]
    },
    {
      "cell_type": "code",
      "metadata": {
        "id": "bVxhRa-o57y5"
      },
      "source": [
        "ROC 주관식 문제로 출제 (17회)\n",
        "이상적 X,Y축 값 찾기 (22회)\n",
        "향상도 곡선 주관식 문제로 출제됨 (19회) 향상도곡선 주관식 문제 (22회)"
      ],
      "execution_count": null,
      "outputs": []
    },
    {
      "cell_type": "markdown",
      "metadata": {
        "id": "4VRufl-LxXxv"
      },
      "source": [
        "### 17.인공 신경망\n",
        "- 인공 신경망의 특징\n",
        "  - 딥러닝은 여러 비선형 변환기법의 조합을 통해 높은 수준의 추상화를 시도하는 기계학습 알고리즘이다. \n",
        "  - 이와 관련한 딥러닝 기법의 기반이 되는 모형이 '인공신경망'이다\n",
        "  - 신경망은 입력층, 은닉층, 출력층 3개의 층으로 구성되어 있음\n",
        "  - 각 층에 뉴런(노드)이 몇 개씩 포함되어 있음\n",
        "  - 분석가의 주관과 경험에 따름\n",
        "  - **풀고자 하는 문제 종류에 따라 활성화 함수의 선택이 달라짐**\n",
        "  - 역전파 알고리즘은 동일 입력층에 대해 원하는 값이 출력되도록 개개의 weight를 조정하는 방법으로 사용됨\n",
        "- 신경망 모형의 장점\n",
        "  - 변수의 수가 많거나 입,출력변수 간에 복잡한 비선형 관계에 유용\n",
        "  - **이상치 잡음에 대해서도 민감하게 반응하지 않음**\n",
        "  - 입력변수와 결과변수가 연속형이나 이산형인 경우 모두 처리 가능\n",
        "- 신경망 모형의 단점\n",
        "  - 결과에 대한 해석이 쉽지 않음\n",
        "  - 최적의 모형을 도출하는 것이 상대적으로 어려움\n",
        "  - 데이터 정규화를 하지 않으면, 지역해(local minimum)에 빠질 위험 있음\n",
        "\n"
      ]
    },
    {
      "cell_type": "code",
      "metadata": {
        "id": "qhP04W5h8HB2"
      },
      "source": [
        "인공신경망 특징 중 틀린 것 (19회)\n",
        "- 활성화 함수 선택을 입력변수의 속성에 따라 달라진다해서 틀림\n",
        "인공신경망 설명 써주고 단어 찾기 (22회)"
      ],
      "execution_count": null,
      "outputs": []
    },
    {
      "cell_type": "markdown",
      "metadata": {
        "id": "kLImoXVusihx"
      },
      "source": [
        "### 18.Min-Max Normalization\n",
        "- 데이터 전처리 방법 중 데이터를 일정범위로 Feature scaling 범위 0~1 사이로 적용해주고 원 데이터의 분포를 유지하는 정규화 방법"
      ]
    },
    {
      "cell_type": "code",
      "metadata": {
        "id": "c9smq3tdskFC"
      },
      "source": [
        "min-max normalization 찾기 (21회)"
      ],
      "execution_count": null,
      "outputs": []
    },
    {
      "cell_type": "markdown",
      "metadata": {
        "id": "EkSac5DP-t9G"
      },
      "source": [
        "### 19.신경망 활성화 함수(activation function)\n",
        "- 결과값을 내보낼 때 사용하는 함수로, 가중치 값을 학습할 때 에러가 적게 나도록 도움\n",
        "- **풀고자 하는 문제 종류에 따라 활성화 함수의 선택이 달라짐**\n",
        "- 문제 결과가 직선을 따르는 경향이 있으면 ‘선형함수’를 사용\n",
        "- 목표 정확도와 학습시간을 고려하여 선택하고 혼합 사용도 함\n",
        "\n",
        "- 활성화 함수의 종류\n",
        "  - 계단함수 : 0 또는 1의 결과\n",
        "  - 부호함수 : -1 또는 1의 결과\n",
        "  - **sigmoid 함수** : 연속형 0~1, Logistic 함수라 불리기도 함\n",
        "  > **선형적인 Multi-Perceptron에서 비선형 값을 얻기 위해 사용**\n",
        "  - **softmax 함수**\n",
        "  > 1. **sigmoid 함수의 일반화된 형태로 목표치가 다 범주인 경우 각 범주에 속할 사후 확률을(Posterior probability) 제공하는 활성화 함수**\n",
        "  > 2. 주로 3개 이상 분류 시 사용함\n",
        "- 포화 상태\n",
        "  - 신경망에서 일반적으로 가중치 초기화는 -1.0 ~ 1.0 사이의 임의값으로 설정하지만 가중치를 지나치게 큰 값으로 초기화하면 활성화 함수를 편향시키게 되며 활성화 함수가 과적합 되는 상태  \n"
      ]
    },
    {
      "cell_type": "code",
      "metadata": {
        "id": "pAQHa06Q_Ttr"
      },
      "source": [
        "softmax 주관식 문제로 출제 (17회)\n",
        "시그모이드 함수의 범위 찾기 (20회)\n",
        "시그모이드 함수 찾기 (21회)\n",
        "포화 상태 설명 (21회)"
      ],
      "execution_count": null,
      "outputs": []
    },
    {
      "cell_type": "markdown",
      "metadata": {
        "id": "ymSTRU0Q_bfp"
      },
      "source": [
        "### 20.신경망 은닉 층, 은닉노드 수\n",
        "- 신경망 은닉 층 및 은닉 노드 수\n",
        "  - 다층신경망은 단층신경망에 비해 훈련이 어려움\n",
        "  - 은닉층 수와 은닉 노드 수의 결정은 ‘분석가가 분석 경험에 의해 설정'함\n",
        "- **은닉층 노드가 너무 적으면**\n",
        "  - **네트워크가 복잡한 의사결정 경계를 만들 수 없다**\n",
        "  - Underfitting 문제 발생\n",
        "- **은닉층 노드가 너무 많으면**\n",
        "  - 복잡성을 잡아낼 수 있지만, 일반화가 어렵다\n",
        "  - **레이어가 많아지면 기울기 소실 문제가 발생**할 수 있다\n",
        "  - **과적합(Overfitting) 문제 발생**\n",
        "- **기울기 소실 문제(Vanishing Gradient Problem)**\n",
        "  - 다층신경망에서 은닉층이 많아 인공신경망 기울기 값을 베이스로 하는 역전파 알고리즘으로 학습시키려고 할 때 발생하는 문제\n",
        "  - 인공신경망에서 역전파 알고리즘은 출력층으로부터 하나씩 앞으로 되돌아가며 각 층의 가중치를 수정하는 방법이다. 은닉층이 늘어나면서 기울기가 중간에 0이 되어 버리는 문제를 말한다.\n",
        "- 역전파 알고리즘(Backpropagation Algoritm)\n",
        "  - 출력층에서 제시한 값에 대해, 실제 원하는 값으로 학습하는 방법으로 사용\n",
        "  - **동일 입력층에 대해 원하는 값이 출력되도록 개개의 weight를 조정하는 방법으로 사용됨**\n",
        "\n"
      ]
    },
    {
      "cell_type": "code",
      "metadata": {
        "id": "ACl-fcE6AMOM"
      },
      "source": [
        "틀린 것 찾기 (17회)\n",
        "- 은닉층, 은닉노드수가 자동 설정이라 해서 틀림\n",
        "기울기 소실 문제 용어 - 객관식 (22회)\n",
        "은닉노드가 너무 적으면 발생하는 문제는?  (23회)\n",
        "기울기 소실 문제 - 주관식으로 (23회)"
      ],
      "execution_count": null,
      "outputs": []
    },
    {
      "cell_type": "markdown",
      "metadata": {
        "id": "uAfav_n1sVYW"
      },
      "source": [
        "### 21.데이터 분할\n",
        "1. 훈련 데이터에 대한 학습만을 바탕으로 모델의 설정(Hyperparameter)를 튜닝하게되면 과대적합(overfitting)이 일어날 가능성이 매우 크다\n",
        "2. 모델이 너무 간단하여 정확도가 낮은 모델을 과소적합(underfitting) 되었다고 말한다\n",
        "3. 과대적합이나 과소적합의 문제를 최소화하고 모델의 정확도를 높이는 가장 좋은 방법은 더 많고 다양한 데이터를 확보하고, 확보한 데이터로부터 더 다양한 특징(feature)들을 찾아 학습에 사용하는 것이다\n",
        "4. training set결과가 일반적으로 test set 결과보다 좋다"
      ]
    },
    {
      "cell_type": "code",
      "metadata": {
        "id": "eh-mPfFGsXta"
      },
      "source": [
        "4번 traning set, test set 을 바꿔서 틀리게 한 것 선택하는 답 (16회)"
      ],
      "execution_count": null,
      "outputs": []
    },
    {
      "cell_type": "code",
      "metadata": {
        "id": "FIF0K8xANhMB"
      },
      "source": [
        "상향식 접근 방법이라해서 틀린 예가 있었음 (16회)\n",
        "P차원 공간에 대한 현재 분할은 이전 분할에 영향을 받지 않는다해서 틀림 (17회)\n",
        "끝 노드로 갈수록 불순도가 상승한다로 해서 틀림 (18회)\n",
        "가지치기 주관식 (19회)\n",
        "과대적합 주관식 (23회)"
      ],
      "execution_count": null,
      "outputs": []
    },
    {
      "cell_type": "code",
      "metadata": {
        "id": "S9-123OtG5_0"
      },
      "source": [
        ""
      ],
      "execution_count": null,
      "outputs": []
    },
    {
      "cell_type": "code",
      "metadata": {
        "id": "FzZOSI7Qb5aY"
      },
      "source": [
        ""
      ],
      "execution_count": null,
      "outputs": []
    },
    {
      "cell_type": "markdown",
      "metadata": {
        "id": "afrSW8uymTx0"
      },
      "source": [
        "### 22.홀드아웃, 교차검증, 붓스트랩\n",
        "- **홀드아웃(Hold Out)**\n",
        "  - 과적합(overfitting) 발생 여부를 확인하기 위해서 **주어진 데이터의 일정 부분을 모델을 만드는 훈련 데이터로 사용하고, 나머지 데이터를 사용해 모델을 평가**한다.  이렇게 데이터를 훈련, 테스트 데이터로 분리하여 검증하는 방법\n",
        "  - **주어진 원천 데이터를 랜덤하게 두 분류로 분리하여 교차검점을 실시하는 방법**으로 하나의 모형 학습 및 구축을 위한 훈련용 자료로 하나는 성과평가를 위한 검증용 자료로 사용하는 방법\n",
        "- 교차검증(Cross Validation)\n",
        "  - 주어진 데이터를 가지고 반복적으로 성과를 측정하여 그 결과를 평균한 것으로 분류 분석 모형을 평가하는 방법\n",
        "  - K-fold 교차검증 : K개로 데이터를 분할 하여 K번째의 하부 집합을 검증용 자료로, 나머지 K-1개는 훈련용 자료로 사용, 이를 K번 반복 측정하고 그 결과를 평균 낸 값을 최종 평가로 사용함\n",
        "- **붓스트랩(Bootstrap)**\n",
        "  - 평가를 반복하는 측면에서 교차검증과 유사하지만, 훈련용 자료를 반복 재선정한다는 점에서 차이가 있음\n",
        "  - 붓스트랩은 관측치를 한 번 이상 훈련용 자료로 사용하는 복원추출법에 기반함\n",
        "전체 데이터 양이 크지 않을 경우의 모형 평가에 가장 적합\n",
        "  - 일반적인 **훈련 데이터의 양은 63.2% 임**"
      ]
    },
    {
      "cell_type": "code",
      "metadata": {
        "id": "RD3LEcbinUkQ"
      },
      "source": [
        "홀드아웃을 찾는 문항 (17회)\n",
        "홀드아웃 주관식 문제 (20회, 22회)\n",
        "붓스트랩의 훈련 데이터 양 63.2% 찾기(16회)"
      ],
      "execution_count": null,
      "outputs": []
    },
    {
      "cell_type": "markdown",
      "metadata": {
        "id": "Ts2lfKziRmse"
      },
      "source": [
        "### 23.앙상블 모형\n",
        "- 하나의 모델만을 학습시켜 사용하지 않고 여러 모델을 학습시켜 결합하는 방식으로 문제 처리\n",
        "- 약하게 학습되 여러 모델들을 결합하여 사용하는 것을 앙상블 학습이라 할 수 있음\n",
        "- 성능을 분산시키기 때문에 과적합(overfitting) 감소 효과가 있음\n",
        "- 상호 **연관성이 높으면 분류가 쉽지 않음**\n",
        "- 배깅(bagging)\n",
        "   - bootstrap aggregating의 줄임말\n",
        "   - 원 데이터로 집합으로부터 **크기가 같은 표본의 중복을 허용**하고 복원추출하여 각 표본에 대해 분류기(classifiers)를 생성하는 기법\n",
        "- 랜덤 포레스트(random forest)\n",
        "   - **보험사에서 해지할 예상 고객을 예측시 사용할 수 있는 적절한 기법**\n",
        "   - 매번 분할을 수행할 때마다 설명변수의 일부부만을 고려함으로 성능을 높이는 방법\n",
        "- 부스팅(boosting) \n",
        "   - 재표본 과정에서 각 자료에 동일한 확률을 부여하지 않고, **분류가 잘못된 데이터에 더 가중**을 주어 표본을 추출하는 분석 기법\n",
        "   - Leaf-wise-node 방법을 사용하는 알고리즘 : Light GBM"
      ]
    },
    {
      "cell_type": "code",
      "metadata": {
        "id": "iYQiRXDAd_PJ"
      },
      "source": [
        "매우 자주 출제되는 앙상블!  하나씩 모두 이해해두자\n",
        "앙상블 모형이 아닌 것 찾기 (16회)  - 시그모이드가 답이었지\n",
        "부스팅을 주관식 문제 (18회)\n",
        "보험사 해지 예상 고객에 대한 적절한 기법으로 랜덤포레스트 찾기 (18회)\n",
        "배깅의 설명써주고 배깅 찾기 (19회, 20회)\n",
        "앙상블 특징으로 틀린 것 (21회)\n",
        "- 상호 연관성이 높으면 분류가 쉽지 않음~!\n",
        "랜덤포레스트 찾는 문제 (21회)\n",
        "Light GBM을 찾는 문제 (23회)\n",
        "배깅(Bagging) 주관식 문제 (22회, 23회)"
      ],
      "execution_count": null,
      "outputs": []
    },
    {
      "cell_type": "markdown",
      "metadata": {
        "id": "T4gpUpJukfOC"
      },
      "source": [
        "## B.비지도학습(Unsupervised Learning)\n",
        "- 군집분석\n",
        "- 연관분석\n",
        "- SOM(Self-Organizing Maps, 자기조직화지도)"
      ]
    },
    {
      "cell_type": "markdown",
      "metadata": {
        "id": "6ZSgYNqmCi1H"
      },
      "source": [
        "### 24.군집분석(Cluster analysis)\n",
        "\n",
        "- 군집 분석은 신뢰성과 타당성을 점검하기 어려움\n",
        "- 군집 결과에 대한 안정성을 검토하는 방법으로 '군집타당성지표(clustering validity index)'를 사용함\n",
        "   - 지도학습과 다름!\n",
        "- 이질적인 모집단을 세분화시키기 위한 방법\n",
        "- 밀도기반 기법(density-based methos) - DBSCAN\n",
        "   -  어느 점을 기준으로 반경 x내에 점이 n개 이상 있으면 하나의 군집으로 인식하는 방식을 의미, 임의적 모양의 군집분석\n"
      ]
    },
    {
      "cell_type": "code",
      "metadata": {
        "id": "4wEkFlNhXUGA"
      },
      "source": [
        "틀린 것 찾기 (17회)\n",
        "- 지도학습과 동일한 교차타당성.. 이라고 해서 틀림"
      ],
      "execution_count": null,
      "outputs": []
    },
    {
      "cell_type": "code",
      "metadata": {
        "id": "6XHdvb21ESdN"
      },
      "source": [
        "- 이질적 모집단 세분화시키는 방법으로 '군집분석'을 찾는 문항 (16회)\n",
        "- 군집분석 설명 중 옳은 것 찾는 문항 (16회)\n",
        "- DBSCAN 찾는 문항 (21회)"
      ],
      "execution_count": null,
      "outputs": []
    },
    {
      "cell_type": "markdown",
      "metadata": {
        "id": "Kl8w4KGfCaNh"
      },
      "source": [
        "### 25.계층적 군집(Hierarchical)\n",
        "- 계층적 군집분석\n",
        "  - 계층적 군집은 두 개체 간의 거리에 기반하므로 거리 측정에 대한 정의가 필요함\n",
        "  - 유클리드, 맨해튼, 마할라노비스, 민코프스키 등\n",
        "  - 이상치에 민감함\n",
        "  - 사전에 군집 수 k를 설정할 필요가 없는 탐색적 모형\n",
        "  - 병합적 방법에서 한 번 군집이 형성되면 군집에 속한 개체는 다른 군집으로 이동할 수 없음\n",
        "- 계층적 군집 중 병합법(agglomerative)\n",
        "  - 가까운 개체들끼리 묶어 감으로써 군집을 만들어 나가는 방법으로 우선 가장 가까운 2개의 개체를 묶어서 하나의 군집을 만들고 나머지 [N-2] 개의 개체는 각각 하나의 군집을 만듦\n",
        "  - 이와 같은 방법으로 [N-1] 단계를 반복하면 결국 N개의 개체가 모두 묶여서 하나의 군집을 만들게 되는 군집 방법\n",
        "- 최단연결법 (병합법 종류)\n",
        "  - 두 군집 사이의 거리를 군집에서 하나씩 관측값을 뽑았을 때 나타날 수 있는 거리의 최소값을 측정하며, 고립된 군집을 찾는데 중점을 둔 방식\n",
        "- 와드연결법 (병합법 종류)\n",
        "  - 계층적 군집내의 오차제곱합(within group sum of squares)에 기초하여 군집을 수행하는 군집 방법 "
      ]
    },
    {
      "cell_type": "code",
      "metadata": {
        "id": "aOOzb0TACed2"
      },
      "source": [
        "병합법(agglomerative) - 주관식으로 출제됨 (20회)\n",
        "와드연결법 설명 써놓고 와드연결법 찾기 (19회)\n",
        "계층적 군집분석 찾기 (21회)\n",
        "- 군집수 k를 설정할 필요 없음\n",
        "와드연결법 주관식 (21회)\n",
        "- 군집간의 거리에 따라 데이터를 연결하기 보다는 군집내 편차들의 제곱합에 근거를 두고 군집들을 병합 시키는 방법"
      ],
      "execution_count": null,
      "outputs": []
    },
    {
      "cell_type": "markdown",
      "metadata": {
        "id": "0d1ZbgToAtAq"
      },
      "source": [
        "### 26.거리를 활용한 측도\n",
        "- 유클리드 : 두점 사이의 거리로 가장 직관적이고 일반적인 거리의 개념\n",
        "- 맨해튼 거리 : 두 점의 좌표 간의 절대값 차이\n",
        "- 마할라노비스 : 변수간의 상관성을 고려함 (18회)\n",
        "- 표준화, 마할라노비스 거리는 통계적 거리의 개념\n",
        "- dist() 함수에 의해 지원되는 거리 : 유클리드, 맨해튼, 민코프스키, maximum, canberra, binary 등이 있음"
      ]
    },
    {
      "cell_type": "code",
      "metadata": {
        "id": "rtN-v22EAwOj"
      },
      "source": [
        "마할라노비스가 변수간 상관성을 고려하지 않는다 해서 틀림 (18회)\n",
        "dist() 함수에 의해 지원되는 거리 아닌 것 찾기 (19회)"
      ],
      "execution_count": null,
      "outputs": []
    },
    {
      "cell_type": "markdown",
      "metadata": {
        "id": "rRkl1OpJA5hW"
      },
      "source": [
        "### 27.맨해튼 거리\n",
        "- 맨해튼 거리 : x좌표 차이 + y좌표 차이\n",
        "- A, B 두 점의 맨해튼 거리를 구하시오.\n",
        "   - A(5, 2)   B(4, 3)\n",
        "   - ![image.png](data:image/png;base64,iVBORw0KGgoAAAANSUhEUgAAAZAAAAD6CAYAAACPpxFEAAAgAElEQVR4Ae2dBZgcRdrHF8ghx2Efx3GHHpJAIEgCCRbcggW9ADEixD0hQogbUeIh7krcZbPu2c26u7u7/7/nrUl3ZiezuzOzM9np6beep3d7uquqq37VXf/ysgMbJsAEmAATYAImELAzwQ07YQJMgAkwASYAFhB+CZgAE2ACTMAkAqoSEOfAbJMgsSMmwASYABO4loBqBOSYWzo6/ex4LQG+wgSYABNgAiYRUImA1KP3PF90HOiIfQ4pJoFiR0yACTABJtCQgCoExDM0F52HOOHt0a746jdvVFbXNqTAv5gAE2ACTMBoAqoQkIGL/fHmKFd8MN4dLw92xF57roUY/aawAybABJiADgGbFxDnwBy8NswZ749zEwLy7hj674bScq6F6LwL/JMJMAEmYBQBmxeQnnN88daV2gfVQEhIXh3mjLVH440CxZaZABNgAkygIQGbFpCA6AJ0HuKMd8a44r2xmhoInVNzFjVllZTXNKTBv5gAE2ACTMBgAjYtICNWBIrax8cTPdBtoofoRO8x0wffz7qE72b6YNPJBINBsUUmwASYABNoSMCmBUQ7qme9MtGu1wWk5pRrX+ZzJsAEmAATMJGAagTkqGu6EJDwpCITUbEzJsAEmAAT0CagGgE55ZkhBMQ/tkA7/nzOBJgAE2ACJhJQjYCc980SAnIpIt9EVOyMCTABJsAEtAmoRkAc/HOEgHiF5mnHn8+ZABNgAkzARAKqERCnAI2AeITkmoiKnTEBJsAEmIA2AdUICAkHjcJyvMxLumu/AHzOBJgAEzCVgGoExD1YUwNx8s8xlRW7YwJMgAkwAS0CqhEQ/6hCUQM565OpFX0+ZQJMgAkwAVMJqEZAAqI1AnLaO8NUVuyOCTABJsAEtAioRkDCEotEDeSwa5pW9PmUCTABJsAETCWgGgEJTdDUQI66pZvKit0xASbABJiAFgHVCEh8RpmogfBmUlqpz6dMgAkwgRYQUI2AxGWUCgHZd5F3I2zB+8JOmQATYAIyAdUISGp2uRCQ7WeT5MjzCRNgAkyACZhOQDUCkp5TIQRk62kWENNfF3bJBJgAE7hKQDUCUlhSLQRk7bHYq7HnMybABJgAEzCZgGoEpKC4SgjIumNxJsNih0yACTABJnCVgGoEpLSiRgjI8oMxV2PPZ0yACTABJmAyAdUISHllrRCQZX9FmwyLHTIBJsAEmMBVAqoREIoyrcY7b2fE1djzGRNgAkyACZhMQEUCUi8EZP6uSJNhsUMmwASYABO4SkBFAqKpgczcGn419nzGBJgAE2ACJhNQlYC07XUB0zaHmQyLHTIBJsAEmMBVAqoSkKf72GPqRhaQq8nPZ9ebwJkzZ7Bx40aUlZVd10fv2rULO3fuRHl5+XV9Lj/MtgmoSkCeH+CASetDbTtFOXZWSyAwMBB2dnbiqK6u1hvO2NhYBAQEiKOgoECvHX0X4+LiQP6HhISguLj4GiuPPPKIeO7MmTOvuccXmICpBFQnIJNZQEx9V9hdCwn06NFDZOKffvqpXp+8vb1lgSGhGThwoF572hc9PT3Rvn37Bu7uuusubNq0SduaqPWQn23atGlwnX8wgZYQUJWAdBnijHFrglrCi90yAZMI1NTU4G9/+5vI6Pfv36/Xj8cff1zcv/XWW8X/Pn366LUnXczIyBD2brrpJsyYMQNTp04FnUu1nODgYMkqcnJycNttt4l7Fy9elK/zCRNoCQFVCcirw5wxZhULSEteGHZrGoHTp0/LGTtl5rpmxYoV4v7s2bPx8MMPi/OffvpJ11qD3+SPbk3j8OHD8nN0m6ukmkqvXr0a+MM/mICpBFQlIG+NdsXI5YGmsmJ3TMBkAmPHjhUZ+9///ne9flCtgWoIJSUluPvuuw0SEH0eHTx4UBaQbdu2NbDy888/i3uPPfZYg+v8gwmYSkBVAvLmKFeMXMECYurLwu5MJ9ClSxeReXfu3PkaT8aNGyfuLVq0SNz7xz/+IX43VwORPKqvrxenXl5e+M9//iPcPvTQQ9eMuNq+fbu4R2LFhgmYg4Cq3qSPJnhg8BJ/c3BjP5iAUQQoQ6eMm2oB2iYvL09cv/322+XLdE52DRGQqKgoWRTIDR1PPPGE7Jf2yalTp2S7SUm8L442Gz43jYCqBOTD8e4YspQFxLRXhV21hICUuQ8ePLiBNx988IHI1Pft2ydfl2ogAwYMkK81dlJUVISPP/4Y1K/x5ptvygJBz3N2dm7gjIb6SuGIjuZFRRvA4R8mEVCVgHw+xQsDFl42CRQ7YgItISBl3NoCEhoaKjJ0GnWVmpqKiIgIhIeHQ6qBfPnll0hMTDTqsY6OjrJIUK1H28THx8v3YmJ4WwNtNnxuGgFVCcgXv3qh/+8sIKa9KuyqJQSo85xEZMiQIbI3Pj4+coYuCYy+/xUVFbIbQ06kZ91yyy1CmCQ32uLCNRCJCv9vCQFVCcj/Zvqg19xLqKvTdDq2BBy7ZQLGEGjbtq0Qi/fff192lp2djWnTpmHevHniWLBgAei4+eabhd0XX3wRS5cule0fOHAAo0ePhoeHh3xN34kkQlST0Z7xTvNPpHs0L4UNE2gpAVUJyA+zL6HnnEuoZQFp6XvD7o0kIM1C/7//+79mXUp9ILod7lSjIAHo0KGD8GPv3r2gWeckQIcOHRJzQqTOerK3ePHiBs8isaLr2h32DSzwDyZgJAFVCUifBb7oMdMHVTV1RmJi60ygZQS2bNkil/6rqqqa9IyWG6GMvm/fvg3s3XvvveK6tBQKDdvVnnlObuigJqy1a9c2cEs/unbtKu5TpzsbJmAOAqoSkN7zffH9LB9Us4CY491hP4wgoN2Bfe7cuSZd0vpW1Nyk3YGelpYmL4VCK/pKprKyEr6+vjh69CiOHTsmmrf09ZnU1taCaj8kMH/88YfknP8zgRYRUJWA9F94Gd9O90ZldW2LoLFjJmAKgXbt2okMfPjw4UY7/+WXX4TbTz75xGi35MDe3l64JwEh0WHDBMxBQFUCMmixP77+zRvlVSwg5nh52A/jCNBcD6mZyTiXEO7uv/9+Y53J9kl46NnfffedfI1PmEBLCahKQGgS4RdTvFBWwSNQWvrisHvjCdTV1aF79+6ijyI9Pd1gD2ipkrCwMOTn5xvsRtdix44d8eSTT4q5Jrr3+DcTMJWAqgRk1MogfD7ZkwXE1LeF3TEBJsAEtAioSkBoL5BPJnqipFz/bnBaXPiUCTABJsAEmiGgKgH5ZV0waEHFojIWkGbeC77NBJgAE2iWgKoE5LfNYXh3rBsKSlhAmn0z2AITYAJMoBkCqhKQaVvC8e4YVxaQZl4Kvs0EmAATMISAVQkILbUgLQRHQw5pZ7Y1a9YYEg+D7MzeHoG3Rrkgr7jpmcAGecaWmAATYAIqJ2A1AtKpUycxTp2WW6Cx6tK2niQkuvs+m5pm83dG4o0RLsgtYgExlSG7YwLXEKirA9LSrrnMF2yfgNUICG2eExAQIBOnZRykSVfPPPOMfL0lJwt2ReH14S7IKWQBaQlHdnt9CZSXl4tVeGk7XJoQeOTIkesbAEOe1qYNMHQokJpqiG22YyMErEZA9PGUBIRqJ+Ywyw7EoMsQJ2Tl81IO5uDJflieQHJyMm688Ua5MCV9E4MGDbL8w415Au2zLh39+wNG7mFizKPYrvUQsFoBGTlypPzR0F7O5jCLzueh7ejL4DKSOWiyH9eDgNS0KwmH9v/9WosqXo+wNPmMG2+8KiCSkPTrBxi5o2KTz+CbVkfAqgTkjjvukEVD+lCaXLm0oAA4cADYtQvYsQOgJaxXrgRoH4S5c4HJk4Hx44Fhw4BhQxH55hc499+3gfffA955A3i9C/DKK8DzzwP/fQh48H7gnjuA/7sHuOUWzQfR/slWS7Sq6qvLztMKwjU1dSgtr0FNreY6bYxVUFKF/OIqlFdq1vciexl5FcjMr0Cx1nyXpMwypGSXy7Uv2hMlNrUEcWmloHtkyL/olBJEJBWL63SN7EUmFSMothDhicXyZlwhcUW4FJEP34h8eXXjwNhCuATmwDkgR7Z3OaoAF3yzcMY7E1VXFrEMiCnAKc8MHHdPF+Gn54TEF+KwSxoOuaQhLadchCc8sQgHHFPEkZChCWN8eil2X0jCbvtkhCUUCXsU/u1nk7DzfBL8ojTLfaTmlItrm08lwDUoR9jLLazEltMJ+PN4HC5cyhTXKqtqsfpILNYejcNR16vt+Iv3RmH14VhsOpUg7BGbdcfisfxgDP44qNkOlrYFIP8X74vCqsNxModtZxOxYHcUVh6KQeGVNCB783ZEYu7OSOQVa2rAe+xTMHNbOCZvCEVOoebaEdc0TNkYil83RcLJK+ya70H6Lm61s8NOem9pkMn06Zr3PCcHSEkBaN91eu/pkGoqp08D334L9OwJ9OgBTJki4oVFi4Bu3QDa6KprV2D2bM31994DXn4ZePVVoG1bYNs2gJahf/xx4JFHgEcfBR54ALh8GXB1vVY8JBGh/126ACEhGn/5r00RsCoBef311/Hwww/jwQcflD+cf/3rX2KZar3UaWc27RfVgPOKG9rgQPvu2Nbhe+zr8DVw042o+vs/sLtzL6x6bzx2vzUY1f/6N/DPe7Dxo/FY1ncF1h+NQ3WtZhfDtUfjsXBPFObujJAzyS1nEkAjvKZuCkVJuWadLcr4pm4Mw5QNoXKGeMQ1HRPWBuOXdSFy5keZLdmZvD4UlAGT8QzNw/QtYZi3MxK+kZoMkTL1uTsisHhvNNyCc4W92NRSrDwUKw5H/2xxjTLJdcfi8OfxeJy7kkmSuGw4EY+tZxJx0jND2EM9sONsEnZfSJYzThIoytT/ckoFZWRkSKwu+GaK3/Rf2ozLJSAHZ30yhGBIqxt7huYK8SARKavUcAhNKAJddwvOkZeQIRHwiyoQAlR6ZV0yEr3guEIExRWiqFQzT4eEkUSCjrwrAx+Ky2oQmVyMqOQS5F7pyyqrqAWxIDEkN2QqqmqFMKZml8uDJkhcSZxIXCV7tM5UdkGl8IvEWDI0Uq+wpBqFV8JC1ylt6aAwSIaeQ3zLrgg4XafnSEf9lc0v6TnSTph0boiJioqSvwNJOKT/j+l71z09gcDAa78J6uResqThdRICMt27N7xOwkHmzjuBG24AqG+DnrVsmaZZ6u9/B/7xD+COO4C//U0jHpcuNfRDN2y0gGN8vMZf/mtTBKxKQLTJurq6yh/PDTfcgBQqWemakhJg717g+HHgxAng/Hlatxpwdgbc3QF6samERKWf6Agc3OyMz77bBX+feKQn5SInOQcoyEd9SQmyckqRn1siZ170qKJqgPIPKvVLHz9loJQ5UO2g7pqMwLCMQTca/JsJ6CNAiydKuxNKwqH9/89evTTvuJeX5p0vLgaqqwH6Te+9nx/g76/xurAQCA8HYmKA6OirGXpWFpCQAGRmAhkZmv/kIjcXoMUb6SC3JEJkaCn42lrNQc+SvgESG33CwZ3qGm42+tdqBYR4//jjj7KIHD58uMVJsOF8Kp4a4Iz0Qp6J3mKY7MF1IbB69Wr5G9AWj5vatEGplKlfl5A08xBt8aAmMhIzKtA9+SQQEdGMY76tVAJWLSDvvvuu/PE4Ojq2mDE117TtdQGJmaUt9os9YALXi8DGDethd+Ot8rfwyiuvIItqDtZkSEC++eZqDYbCtnChplZCrQFsbJKAVQgI7Y3w0UcfYdeuXUhKSkJcXBxmzpwpfzC0k5s5zB77ZLTrdQEJGSwg5uDJflw/ApPX+iA5OR6p1tokFBl5LYylSzUCQk1qbGySgFUICJWmtKvn2udPPfWU2Upbh5xT8VTvC4hILLbJxORI2S6BaVsV2Ay0YIFGQNzcbDdhVB4zqxAQKQ3OnDmDWbNm4ddff8WKFStwiTrBzWgOXhEQGpbKhgkoiUBWfoWSgqsJq4MD8P33VzvslRcDDnEzBKxKQJoJa4tvH/dIx9N97REQXdBiv9gDJsAErIMAtWCcoFGYANatWwca+k/bB+szxcXForUjTc/aXcOGDcM31I/TiPH09MSBAwfw119/6T327NkDHx+fRlwbdplaX0JaMGeG3GsvCWXYU023pSoBoTkQ7fvagya3sWECSiJwyEWB6ydIc0/CwlqEmvpFqR+UhOGf//ynfLRt2xbZ2dk4e/asEIWKigps3LgR9913X5PPo0y2koYj65jhw4c3KSA0eIHc0kKvNOlZ97jpppswmCZx6phjx46hTZs2crilONx///2YTJOdtQz5H6bDKzMzE0888QTuueeeBn6Q+5dpsqeWIfdBQUFaVyx7qioBueCXhWf62sMzJM+yVNl3JmBmAjO2tiwTNnNwDPNuxgxNHwhNbmyBkSZULliwAFTK3717N9auXYubb75ZDLqhEZq33347qqqqxMrd//73vxs8jTJ+GqTTrVs3fPDBB0IE3n77bfn3F198IeyPHj1arATewLHWj9deew0raaULIw0tDEvCtmPHDvk4evQoHnvsMYwaNaqBb/oEhBbT3Lt3L7Zv3y6737dvH8aOHSviou0BuQ8ODta+ZNFzVQnIOV+NgHiHsoBY9K1iz81OYNrmMBg6g93sDzfVQ1oWhYb3trBEHB0dLTJKWlhSMlSDoBoJ1U6aExBa6ZvEYdy4caJ/df78+eI//aYM/JdffhHe0jltJdGYoZWQKYNu6iChMNR07NhRNIlp29cnINr3tc+dnZ2vi4CQaE+aNEn0S2s/n85VJSC0bMizP9lDWvZDFwb/ZgLWSoCWZFGcGT5cIyBRUS0KuiQgkVpDhWmWPjUFSQJy1113iWdQH4VuDUT74ZcvXxZNXvr6GUaMGNGkgFANZM6cOdremXxOw7FJLHSNMQJy8eLFa/wg9+asgZB/zz33HKjGRiuCUFMcNRtK5toYSHds8L+zPwuIDSYrR8laCdAMdFqEsUiz6KWpwWxOQKRlj0g4br31VlDfiK5JSEjAQw89JJbGp11Pb7nlFtGXQQIkGRKQ//3vf9LPa/7TWn20SnheXp4QLnKrfdAz9HXOX+MRgIkTJ4L2dyETGxsLcpuRkSEEIZyWnNEyNCCAmsFoflx8fLw4aO7c1q1bLS4gEVqrCJSVlYnn0c6xklGVgHiE5KFDv4s452Nls3il1OD/TKARAucvKfCdJeFooXgQDklAtDPnmpoauQmLmnKoZLx582b07dsXj9BqwTqGOry1R1hRcyB1mmvXAkgcetJqxY0YKoWT/aYOWgi2OUNiQX5Q386nn356jX90XdtItZXGnqttl+yYswai7Tedk//ae9GoSkC8wvLRoZ8DTntplvLWhcO/mYC1EqBl4GsbGZpqrWEWOxRSM41OidrY8Eqd6JRxzZgxA9OnT5c7kKUmLBIIMjt37rymCYtqKPfee6/ex1KG6EGreoNWuJ/SIDN3s9AESHom1UD0GbqnOwqLhJNGXNEggeYMuW9KQKjfZ+rUqQ2O8ePHw9vbuzmvxX3yf8uWLbJdVQmIf3QBnh/gAEUOiZSTjE/USGDWtgjlCQjtR0IC0sJNpai5hjqwu3btirfeekscb7zxhhhFVVBQAOoLaGoUFt2nDFifodWOnZycxC2qgeg2YVHzEY14osVcDT0OHjyI07T/io4pLS3FnXfeic8++0znztWfjQkI9fdQM1ZzpjkBef7550FNcdoHXTNksVpiQ/5rm4a/tO/Y4DnN/yABOazEMfU2mB4cJcMJ0H4niq2B0DLxFjQ0iZAyNmkeCI3O0jY0YovuL6F5KVqGhsZqZ4j6+kCkiYfUZ3LbbbeJPhbqZ2nqoPkgTz75JKiZTTK0ygY965133pEu6f1PdvTVQKQBA3odaV0k903VQLSsGnW6f/9+EX7dOSaqEpCQ+CK8MMAB+xz07C1iFE62zASYQLMEaG90KrHq28unWcf6LXz++eegQ9tQDYUyODI0T4NqFboz0S9cuCAyQFpb76uvvsLTTz8tftMkRMk0NwpLsmfsf6nvRHfSoD5/GhMQqkFR531zpjkBoRoc1ea0D7p28uTJRr2WBinQ1gK6RlUCEpZYLARkzwUWEN0XgX9bNwHv8Dx5N0jrDqlW6GjDNxIPadMprVumnlInd1Md3U35W1tbi4ULF+Lnn3/GqlWrRI1F235zAkKjt6gPwVgTGhoqRk4Z4k6fgDTXiU5upAmOzQlI//79QfHUPmiejIuLi97g+fv7C6HdRqPp9BhVCQhtC/viAAfsPH91QpIeJnyJCVgdgfm7I1FZrX99J6sLrBQg2g1x505AqylHumXqfxKPPn36mOq8SXfNCQjNHDfXPJDGAqJPQMhuU5NIte81JyCNPVffdZoBT/516dJFTNakJVmor4RqK1KHvqoEJDa1BB0HOmDTqQR9vPgaE7BaAvN2RShPQCijpyYsM+5h0rt3b3Tv3h2FhYUN5mBoz8eg+RL61rpqLnFpWO+3337bqDVaj2rMmDGNzgOhTm4KR0tMYwJiqJ/mFBCauCmt4UV9QLR0DPXv/Oc//wGtz0VGVQISk6IRkM0sIIa+j2zPSggExRWgplZhNZC+fTUCQk1ZZjI0z4MyyeYOfaOgmgsCNeXQvIzGDE1QbO65dL8lhtzrdlQb4x+5p9n218u0LLbXK5Rmek5Kdhk6DXLEmsPxZvKRvWECTKBRAr16aQSE9kdnY5MEVCUgaTnlQkBWHoq1ycTkSNkugbD4IuXVQEaP1ghIfr7tJozKY6YqAckqqMRLgx2xZF+0ypOdo680Agt3R6GsolZpwQZo9rwZR2EpD4Bth1hVApJfUoWXBztiwa6Ga83YdhJz7GyBwJJ9USgpvzoxTRFxWrMG+PFHRQSVA2kaAVUJSFFZNToPdsTcHZGm0WJXTKCVCPiE56OySmE1EFqygzqVzTiMt5Xw82MbIaAqASm8IiDzdnINpJH3gS8zAfMRoCGxJCBKWwTSfARs3idVCUh5ZS26DHEC7e7GhgkoiUBCeilqlJYR//CDRkCUBJrDahQBVQlIRWUdugxxxm+bWECMekvYcqsTWLo/GoUl1a0ejiYDUFoKLFwIrFunmYHeqZNGQGib1927gQ0bAE/PJr3gm8oioCoBoaR5ZZgzxq25fpvOK+t14NBaK4EVh2JRYO0CQvBef10jGtR0pe/Q2uHOWllzuAwnoC4BqQdeHeaMMauDDCfENpmAFRBwCcpBaYUCRmHR4on6hIOuDRhgBSQ5COYkoC4BAfDacGcM/SPAnAzZLybABLQJ0J4XuiJyww0t3lhK+xF8bh0EVCkgw/4ItA76HAomYCCBtJwK1CplLayAgGsFZNgwA2PK1pREQHUC8vpwF/T//fotNqakl4HDar0EVhyMQXZhpfUGUDdkb7/dUETKynRt8G8bIKBKARmwkAXEBt5dVUVh9ZFY5BZVKSfOPj5XBeS335QTbg6pUQRUJyBvjHBBz7m+RkFiy0ygtQlc8M2y/mG8upA++UQjIrrX+bfNELAqAaEtJxctWgTaNIY2bqF9jM1tSEB+mH3J3N6yf0yACWgROOHggBXdusHnhRcQz8u5a5GxrVOrEBDaknHChAl6N2t58803zUr87dGu+H4WC4hZobJnFieQlV+Jmtp6iz/HHA949NFHr/mWp02bZg6v2Q8rI2AVAkJbUNJOWlT7oFoIbeR+5513yi/h9u3bzYbtw/Hu+N9MH7P5xx4xgetBYOvpRJCIWLvp16+f/N3SN619nDt3ztqDz+EzkoBVCAht0E77CWubUaNGyS9fH9pb2UzmncmX8NVcHsZrJpxGe0O1TTrqtPaIqK2rF5slVdfWQSpj0/atVdWag+yTod+0nhkd0vauVTV1YplzWuq8ukaz5SvZKyytRn5xFSqurGBL9vKKqpBTUClPyCM/KFPOzK9AcZlmmRAKS1puBdJzK+ROa3p+UmYZUrLLkZlXIcJC4U/OKpOv08Xa2nrEppUiKrlEXBcWUY/wxCKExBciIqlYrkUExBTgcpTmoHiTCYwthGdIHqi/Q4oLufMMzcXY1UEiTGQvLKEIx93ScdQ1TYSdrpHfB5xSccAxBUlZmhFPgXGF2Hk+CTvOJSEurVQ8Iz6jDBtPxmPTqQT4RxdorqWXYt3ReKw9GgeXwFxxLTWnHCsOxmL5XzE4663Z/7q4rAa/747Cor1R+MspRdijP1M3hWH+7hjM3hKAu+64Vf5utcWDzrt16ya74RPbIGAVAqIP5e+//y6/iJMmTdJnpfFrlZUADRvMzgYSEoC4OCAkBIgIxG+912D+j38Ap48BJ06gfu8e1O7Yibo/1wPLlgJLlqB+7jwUz5qP0mmzUDl4KODlJZ5FmU1uYZXImKSHp2SVg47olKv7PidklCIqpRhBcYWgDIlMTFoJfCPz4ROeJ2dqkUnFcA/OxcXLWcgt0pQuKSM46ZmB4+7pcqdpcHwh/pIyh0xN5kD2tp9NEkd4ombLUMok1h9LwJ/H4uEfpckckrPLQOsoLT8YA3u/LBEWykRnb4/A73uisPeiJiOgDHfa5nDM3BqOtUfihD2K6/Qt4Zi8PhRLD2g24aLZ0PN3ReHXjaFYeThWnpuwYHeksLtkf7QcP3ru7G0RmLUtXOaw6WQC5u6MFAtaVlVrlic/6JSKebsiMWdHBHKuDFU9452BBbujRBjj0jWZ30W/bCzcE4WFeyIRmazh7R2aJzYIW7w3WmTUFPCQuCIRXsoA/aI0u+HFpJZg1eE4rDkcB4/gPBE/EgnKNImXo3+2uFZaXoM1R+JEJnvaK0NcozRcfzweW88k4ohrmrhWWV2LfRdTROZMmTYZEq6THhniOv2X0p64H3ZNw1mfDGGH7LoG5YD8P+OdKV8jQbnolwUn/xxIohKWUAzP0DxsOBGPzCs1kMSMMvjHFCIgplDeI4REMDS+SIgLCScZigvFOza1RH5nSQRI+Oi9KCrVzGynprHsgkpxSEJaV1ePotJqcZRXagX+CIcAACAASURBVOyRkJJ407LydNRfkXuySyYvN0v+ZnXFg35T0xYb2yJgtQLy6quvyi+jh4dH49Q7d746XFB39qvO7zQ7O6x5bRhWvz4Mm+/TzJbNs7PD0ke+xtzHf8T2ezTr+FTY2WHtvz/E0oe7Y4ddO9TMniOeTx/xumPx2HY2UZQ26eIe+2SRiVMpTzL2vtnY75CCQ85pkD6uSxH5OOWVgfOXssRHSXbpg6fMxT0kF/Rhk6HSq19kPsi+tHhedn4lQhM0pdjick1JmT5+yljpkNyWV9SKUmpGboXslp5P/tBBH79kKAPUZOBSmV+6w/+ZgGkEysvLcPvtt8vfra6IfPfdd416nJaWhnnz5uHo0aON2rHEjYKCAsyZMwf79u2zhPc276dVCsiZM2fkl7Br165NJ8L8+ZoF3D7/HPjmG+D774H+/YGBAwHak3nqVIDGoS9YAKxcgoPvDsLOd4cDWzcC9NIcPwYc3g+cPQG4uwB+fkBoCBAeDESFAikJQGFh02Hgu0zAwgQKSqrk2p6FH9Ui77VbDnQFJDw8vFG/33rrLfHNazdXR0ZG4vz583BwcGhwUP5QSiv/GmCoeZwKoDSik/pWa3Q2t6qurpbzmsuXeX6YAUgbWLE6AcnOzsbdd98tJ2purqZNtkGoW/Cj+8IwfDSbF1NsAUJ22goEtp9JQsaV/pdWeLxRj6Rh+Nriccstt+DgwYON+pGcnCzbDwq6+m2+9NJL8nVt/+icRKU5Q4Ny6Nnabu+//36QMGmbd955R9j5ngqfbIwiYHUC8s9//lNOcCcnJ6MiY4jlnxZcxudTPJW3OY8hkWM7Nktgy+kkJGeVKyZ+ERHh2L5zD1Zu2IfqKs3Ag8YCP3/+fPHN33PPPQ2svPLKK+I6ZfB79+7Fpk2bxLFy5Urk5Wn6sRo40Prx559/Crc//PADdu7ciffee0/OV+644w4x2lOyTvclkZGu8X/DCFiVgLRt21ZOyNOnTxsWAyNt9Z3vJwSktl4z8sVI52ydCbQKARoJRR3dSjI5xcBeJ83ghKbC3b59e/Hd0xBgbSP1g9KkYmONp6cnfH0brjjx0EMPyfmLDy21csWkp6ejTZs24t7Jkyely/zfAAJWIyA9evSQE9eS48WHLAlAt4keoE5kNkyACViOQFJmObacbjg8X9/TpNI/1QS0jSQgI0aM0L5s8nnHjh3lPMaP+jq1jDTvbOzYsVpX+bQ5AlYhIGfPnpUT9uabbwZ1qFH1tUuXLqB20I8++sjgTrPmIjx0qUZApPkBzdnn+0zAGgjQvBBpPow1hMeQMBQUV8M/uukBKDExMfK373VluLzktyQgAwYMEE1O1B9KneKmmPLyclD/hyRWxTrLq3Tu3Fnco+YyNoYTsAoBoQ42KWEb+5+ammp4rJqwOWZVMGg2etGViWNNWOVbTMBqCOy+kIzEK3OArCZQZggINTVJ3zytSKFtXnjhBfmeZIf6L8aPH69tzaDzXbt2yX5Rv4iu+eqrr8T9f/3rX7q3+HcTBKxCQJoIn9lvTVgXgg/Gu4OGRbJhAkohQPOMEjKUtadGRWWtmL3fFONVq1bJGXt8fHwDq9S5Thk79YEMGTIEDzzwgGxXe7hvA0d6ftAqF5IA0X99Zvr06cLOXXfdpe82X2uEgH6ajVi2hcs0g/q9ce7yzG9biBPHwfYJ0OoEtLyIkgyFd8uppvtAVq9eLWfuujUQ3bjW1dVB6ginof6FBszPoqYr7aG8YWFhut6K35KAkL9sDCfAAmI4K7bJBFqRQD2gtX5YKwbE4EeTgNDSNU0ZGjAj1Q6aExDy58svvxT277333maH8pL9Dh06yP43NdtcGsTDAtJUal17T3UCQmtAvTXaFbTcBxsmwAQsR4CaiV2vLM7Y2FMCAgLkDJ5mijdnnnjiCWGf+iqkWeVUExk8eDBoBJV0jfz55ptvZL+bG9lJ20aQkHXq1Km5IPB9LQKqE5CZ2yJAe4JIq6pqseBTJmC1BGhV3ejUqwt2Wm1ATQiYVAPZvXu37JqE5bbbbsOgQYOwceNGLFu2DA8//LAsCHv27JHtrl27Vr5++PBhcZ062iV/aVQn+U321qxZg+XLl0N3nhlNYiT7P//8s+wvnzRPQHUCQqu5dh3pglQFzeptPhnZhq0ToFWT49KVJSC0OrG0unJT6UO1Ccq8R44cKVvLyMjAU089JYuAJAbUkS6JhGR569atsr3AQM1WDVKNQnKn+//BBx+UnCMnJwc0fYDs0GgtNoYTUJ2A0LLftK0tLcHOhgkohQAtI097jSjJ0P4pW0413QdC8Rk2bJjIvGmehq5JSEiAq6sr3N3dERERoXtb/KZaA2X+NKNdMuTOxcVFLKRIiylqH+RfCG3vcMVQbUQSmOaWSJHc8H8NAdUJyKrDsXhtmLO8wQ6/CEyACViGAO23svFEw6G5+p5EmbuUgaekXN2oSp9dfdckt6GhofpuN3utV69e4vnPPvtss3bZQkMCqhMQ2mSIBCT+yiZFDXHwLybABMxFgPagkTYxa85PaXjuuHHjmrPa4P7cuXNF5k/NWKYaSYAcHR1N9UK17lQnIBtOxqPLEGexcZNqU50jrjgCR93SFdeEZQxkalaimec0msoYU1JSgvx8za6TxriT7NJGVu3atUPfvn2lS/zfCAKqE5CNpxJYQIx4QdiqdRCgPhDaC11Jhtbu4kVLlZRixodVdQJC29G+PNgJ4QmafcSNR8YumMD1J0D7rvtHa/a5v/5PN+2JaTkVWHMk1jTH7EoRBFQnILvOJ6HTIEeExrGAKOIN5UAqlgBN1t14svlOdMVGkAMO1QnIHvtkdPzZEcGxymoO4HeVCSiNQF5RFY67pyst2BxeIwioTkAOOafhhQEOimsOMCJN2aoNEnALzkVEEteabTBpFR0l1QnIMbd0PN//InwjTR+5oegU58ArksApzwz4RfE7q8jEs+FAq05ATnqm47n+9vAJ54/Rht9rm4vaaa8MxRV6MvMrsPIgd6Lb3MuoFSHVCcjFy9lo39ce7iG5Whj4lAlYN4Ga2jrU1tVbdyB1QpddUIn1x7kTXQeLTf1UnYA4+Gfj6T72cAvJsamE5MgwAWsjQJ3otBUvG9sloDoB4RqI7b7MthwzmgMSnsgjB205jZUYN9UJiGdYHtr2ugBH/2wlpheHWaUEzvtmwTNUWc2uNBOdmt7Y2C4B1QmIV1ge2vW+gIt+LCC2+1rbXsyo6dVLYQJCe4FsO9P0nui2l1LqipHqBISG7z7T1x6nvTLVldIcW0UTKKuoQWl5jaLikF1QgfXHuBNdUYlmZGBVJyCXIvLRvo89znizgBj5rrB1JmAUgdzCSmw62fyGUkZ5ypatioDqBCQwpgDP9XfAIZdUq0oIDgwTaIpAcFwhgmMLm7LC95jAdSegPgGJLRQC8pcTC8h1f9v4gSYTcA3KUdzAD+5ENzm5FeNQdQISmlCMjgMdeXy6Yl5RDigR8A7Lx4VLymp2LSiuxt6LPA/Elt9g1QlISHwRXhzoiD32xu+9bMsvAsfNugmUVtQgp7DKugOpEzqaSLjmSJzOVf5pSwRUJyBRySXoPNgRm3ifAlt6jzkuVkiAaiCbT3MnuhUmjdmCpDoBiUwuwcuDHbH5FL/YZnuL2COLE0jMLFPkFgTVNTyR0OIvRys+QHUCEptWileHOmHtUa5at+J7x482ksDl6AKc8OTNmYzExtYtTEB1AhKXVorXhjpjNe/VbOFXi703JwGaAHvMPc2cXlrcr/ziauxz4L5Gi4NuxQeoTkCSs8rQdaQLFu2NakXs/GgmYBwBmolOndJKMvnFVVh1mPcDUVKaGRtWVQrIGyNcsHhftLGs2D4TYAJGECgqreGZ6EbwUqJV1QlIWm4F3h7lirk7I5WYXhxmlRLIyK1ASIKylnOniYRKW79Lpa+XydFWnYCk51XgndGumL09wmRo7JAJXG8CIfGFOOSsrD6Q682In3f9CahOQDLzK/HuGDfM2Bp+/WnzE5mAiQRoLay/HJW1/E5xaQ2v+GBieivFmeoEhGbzvj/OHVM2hioljTicTABFpdVIzylXFInC0mqsPBSjqDBzYI0jwAJiHC+2zQSYgIEECkuqsYaHyxtIS5nWVCcgVCr6+BcPjF0drMwU41CrkgANiY1IKlZU3Ovq61FcVq2oMHNgjSOgOgGhF7rbRA+MWhlkHCm2zQRakQAtwbPHnle2bcUk4EfrIaA6AaFVTT+b5IEhywL04OBLTMA6CcSnlWLbWWXtL07f2mHeuM06XygzhUp1AlJZXYcvpnhiwMLLZkLI3jAByxOorKoFbUWgJFNSVo0//uJOdCWlmbFhVZ2AVNXU4YtfPfHTAj9jWbF9JsAEjCBAI8cW8pJBRhBTnlX1CQjVQH71RL/fuQaivNdVvSEur6xFTGqJogDU10MMP1ZUoDmwRhFQnYDQyJCvp3njh1mXjALFlplAaxJIyy3HumO8BUFrpgE/+1oCqhMQWp/nm2ne6DGDBeTa14GvWCsBEpD1x+OtNXh6w1VeUYMzPsrax11vRPhiowRUJyBEosdMH9GM1SgVvsEErIwAjWiiPUGUZGjI/LID3ImupDQzNqyqFJDvZ13Cp5M9jGXF9pkAEzCCAHWiL9rL2yYYgUxxVlUpID3n+OKDCW6KSywOsHoJVFbXIjVbWWth1dXVIyOvQr2JpoKYq1NAZrOAqODdtqko5hZWYcVBbg6yqUS1gcioUkD6zPMT29raQPpxFFRCgARktcK2h62qroNzQLZKUkid0VSlgPSe54c3R7moM8U51ookUFFZC0d/ZWXGZZW1WMwTCRX5vhkaaFUKCE0ifHmwo6GM2B4TYAImECirqMHvu3nraBPQKcaJagXkpUEsIIp5SzmgoAmwOQWViiJRW1ePuLRSRYWZA2scAVUKyKAlAejEAmLcm8K2W5WAGBK7h4fEtmoi8MOvIaBKARm+PJAF5JpXgS9YMwFqDlqyT1kCQguXXopQ1uRHa34HrDFsqhSQESsC0elnbsKyxheSw6SfAM2pOOSSpv+mlV4l0Vu0J8pKQ8fBMgcBVQrIuLXBLCDmeHvYDybQBAEaObaQBaQJQsq/pUoBmbQ+FB25BqL8t1dFMagBkF9Rr6gY1wEIKFBUkDmwRhJQpYBM3RSGFwc6glbmZcMEFEHgza6YNf2UIoIqB3LMGOC1zvJPPrE9AqoUkN82awSE2pXZMAFFELCzw5zx+xURVCmQNc90QIjdjdJP/m+DBFQpIHN3ROKFgQ6oqKi1wSTlKNkkATs7bPn5D0VFrbLzq5j/7E+KCjMH1jgCqhSQOdsi8OJAB5SUVRtHi20zgdYiYGcHPP5waz3dpOeSgCx4pq9JbtmRMgioUkCW7o/GCwMckF9SpYxU4lAyATs7ZHV5W1Ecaju+BI+bHlJUmDmwxhFQpYAsO6ARkLxiFhDjXhe23WoEqA/kl4Ot9niTHvzC8wDVnKzcBMUVIiyhyMpDaZ3Bs/7UtQC31Udi8fwAB2Tk8mY3FsDLXlqCgJ0dfvv1pCV8tpif9R07IsLu7xbz31wen/LMwNN97DFqZRBi00rM5a0q/FGlgKw/Ho/n+zsgJbtMFYnMkbQBAnZ22DRopaIiUv1SZ8zpMMDqw+wamINXhjmLPYI69LuIEcsDcSmCJ7AYknCqFJDNpxPwfD8HJGTySqGGvCRsxwoIUFNQ28etICCGB6H25c6Y92w/wx2Y0WZ9XT1oQyvaCri8sgYl5TUoKKlGfnEVsvIrkJZTgdSccmTmV+CgUyreGOmC98e54YPx7nhzpAu6DHXCN9O8cdIjneeLNZEuqhSQLVcEJD6DBaSJd4NvWRMBOzuUdepi0RDRxFpaNr6mtk4clAGXV1IGXCsyYMqEC0urQX2HlBHTLok5hZUiE6a9z9NzKWMuR0JGKcIrgMoOL8D57g7wyYFYVNEtKBcX/bJw7lImznhn4IhbGvZdTMF+hxRsP5uEDScS8OfxeKw5Egca6LJgVxRmb4/AjC3hoNUjfvkzGCNXBGLYH4EYtNgffRb4ofc8X/ww+xK+n30J/5vhg2+ne4uM/8upXvh8sic+m+yJTyZ54ONfPPDhBHchEO+MccVbo1zx5ihXUeug8/fGuckCQiJCYtJ1pAue6WuPYcsDQashs7mWgCoFZLd9Mjr0c0BEEnecXftK8JXrSYD2zKisqkVpRQ3yijSZckpWOWJSShCTWiI6d32pq87ODhPGHoFXbBnOX8rCBd8snPDIwHH3dBxwTMWOc0nYdiZRZMAbTsRjxaEYLNwbLdaionlP07eE49eNoZj4Zwh+WReC0auCMGZVkGiuGbTEHwMXXUbfBX7oM98X38+6JDLl76Z7o/tUL3zxqxc+nuiOjya4492xbug6wkVkrtTs88pQJzEknkY1PvvTRdGX0K7XBdw35DJC73pchPvekSFo39deZMZkhw5qKnqu30XRlEzNyeSehtbT0XGgo1irjrZcoH17Xh7kiM6DncTRZYiTqB28MtQZr4rnO+O9sZT5u+OTyR4g4fhmujd6zrmEAQv98fNifwxdFiCEZ/zaEBF/YjF/VyQW7IrEH3/FYOqmUJCoSDUQ8u+14c7i2s5zSaiuoUVZ2OgjoEoB2XUhCc/1c0BUcrE+JnzNygnQCjRUSq6oqkVRWbUoFVNTBA2KSM4qE5sYRaeUIDS+CCHxhfCLzIdPeD6oBOx4OVtkwGe8M3HKKwNH3dJw0DkV+x1TsfNcMjaeSgBlwOuOxmH5XzFYtDcai/dFY872CPy2KUxkNhPXazJg2hZg+PIAkfn2muuLnnN98d0MH3xFme4UL3w4XlPipZIsZUidhziJCayUYbbteQFte109KNPV/i2d0/W7hgaJjHjo16vxSD9X2R7da8qd9j3qJKbnUqb88mAnufRNmeUnEz3w+RRNxvvdDG9Rqu81zxf9F14WmS/1CYxfG4wJ64Lx26ZQzN0RIXjQSruL90Zj1eFYrDkSK2oQW08nYo99MnYEViH/iWdFuI8kAcT7ol+2SAPPkDx4heXBP6oAoQmURkWg9ErMLBPpR7UYqtlQbYeElRZlFMsOWWjpIXo+NWG9O0YjHCRaaw7HobqGJxo3lxUYJCARicWiyhgYW9icf4q4f9glFc/+ZI+gOHXUQGjJFu224MIrbcFU4qWMlz7Y5Kxy8QHHppYiJqUU4YnF4uOmIY7+0QXwiyqAd1gePEPz4BqUi/OXMq+UgtNxzC1dNEPstU/BltOJWHcsTpSE/zgYjd93R4mS3uwdEZi6MUyUfieuCxElQiodDlx4GT3n+KLHLB98Pd0bX0/zQrdJHnhnjJso7b4+nEq5mpIuZcB0UAZIB33otCw/HVRqpYNKsFSapYMyzOf6O4jSLpV4qeRLTRJ0UIm4fR97UWJ+qrc9nuqtycCf6aux93z/iyKzpRI2tYeTCFDpmzJcEoZPJ3mKkvkXv3qKEu+PszWldmpS6b/QT4gKlXyH/REgSvrj1gSLuE/ZECpqArO2RYjmGVqtdtmBGKw4GAMa3LHhZLyoTfzllCpqFkeJbaymBlL16OO4mAr4RuaLJqHguEIhkFRTSckuF+ko1WKouYlEtlWX6+nUUQiItWcK9H6/NMhJNGtRetTW8hJHhqZZkwKSXVApqr5vj3YFVR1D422jxH7aKwMdfrqI8KTG40MlHvoA6WWijXGotKvdHkxtopQRFxRXI5eaHoqoc65SHNQeTJ10lDFThhydWgL62ANiCuEbkQ/34FxREqNM+JxPJo67p+GQiybDoCrzxpMJWH8iHmuPxomMRZSAd0Ri5tZwTF4fKtqDaUl6KgFT8wPtsEgZ149zLomjx0wfURKmqjx1BFK1ntqCP53kgW4TPURTBGWCVGWX2oMpg3x9hMuVzNpZzpwpQ36uv6a5gTJdKslS6VjKgCljpkM0PfzsIDJ2yvC7DHXG68Nd8MYIF/Fh0jtEmS+1L9Px8UQPEabPpniK8H31m5cIK4WZwk9xobZtKtkPWHRZFGBomCU1vUxaHwJaEJPaxjVNEVFYfjAGqw7FikyYRIyac6ht/YBjCo65p+GkV4Zof3cNyoFLYI5IBxJFSpeIpGLRZJScXSba8aktn9Iwq6BSbuenNn9KczqKy2pEyVh6H0ica2o174vFMmzqRH+mvaHftXXYe/FFRQjI5egCTN8cJkTYOsApJxR6BYRKL7T7GXUuUdWbqnZvjXIRH5qlokYfHnXa0SY0+cXVoj04K68SSZllYmx2eKKmqkulL5+IfFBG4OifDXu/LNA47hMe6aBSG2XAO88ng0ZaUUa88pCmdEclC8psqFOOMl3K2IYs9cf4NcGihDhyeSAGL/XHwMWX5fZgysCoZEnNEpQJU1vw51M88dEv7iIzfGe0phNO0xZ7bVswZbTtel8QpVvKeOmgUq9UCtZtD6aMWmoPltqEO1KbMJWypfbgwZomCNEmTO3B0jHUSZSQKUzUVt19qie+nuYtOhUpEx64yF/Ej5ojpNIwidGMrZpMmESKJliSaK07Hicy4F3nkkUmfNglDcfc0kTTj71vFtyCckQThFdonigN+0XlIyi2UJMZJxYjhkQzpQQJGWUi/UhI0/MqRLNEwZUOWHrHKOOlNLdYpmupl7U1/CUBac8CYgn0/P6ZTrWBgFCJasn+aFF6fG2YpnNKGpFATQpU/aZMmFazpYNKgtQuOnKFpjOOOuKo7bTPPD/RJEGjIqgt+KMJHqLaT6VcGvlATQJUYqXM8pmf7Bu0B2u320rtwCIj1mrvldp+te1qnzfmjq5TJk6lY6mjTBqJ8e5YV7ktmITiW6kteK4v+v3uJ8SGSvyjVgSKOFPHG3XGkSCROFF78MpDsVh9mNqC40VJmEaW7KNSsEOKaGs/7pEutwU7XM6GR4imSYja6ANjqDmiCFHJJUi8kvFKwwxp1Etp+dW2YF6G3vQXXrEuWUAUm3S2HHBZQGiMNDWDPNnzghgHTcPapOYGauqg31Rql9qCqT2YmkE+/sVdlMpFW/A0b82Qulmapgfyj0RlyLIA0Rk3emWQmO1JpX4q/dKoEOqYnL0tAr/viRLiRU0Rf15pQ998KgG7zifjgEMqjrim4Zh7uigF0ygUqn14huaKztHAWE1TBJV6aQQLdaRSc1JOQaUYfkgdcTTaRTLOgdmiCYtK0GyYgCIIsIAoIpnUFkhZQCjiVJWjDqU+8/2EUNCEGhIPOt4c6Sra66kkTKMjqP2f2oKpKYKancoqa8VwRDGGvEbTLEFjyq3ROPhngTpLPUJyrTF4HCYmcC0BFpBrmfCVVifQQEC0Q0MjrqjphtraqdZBfSFuwbaR4boF54hOYGpGYsMEFEGABUQRyaS2QDYqIBIIGqUybk2Q6Ag+55MlXVb0f4/QPDzd1x7UIcyGCSiCAAnIU08pIqhyIJ9Xxmq8cnj5xGgCzQqI5CP1K9B4c1sw1Ez3dG97nPRMt4XocBzUQIAFRA2prLg4GiwgiotZEwGWBcQrowlbfIsJWBGB+HggXWEFnowMIC7OiiByUMxNQJUCQsNlafYxjexiwwSYABNgAqYRUKWAhCUWiz6dQ86pplFjV0yACTABJgBVCggtN/1UrwvYfSGZXwEmwASYABMwkQALiIng2BkTYAJMQO0EVCsgtPTJtrOJak9/jj8TYAJMwGQCqhQQWsKc1sWinQnZMAEmwASYgGkEVCsgNApr48l406ixKybABJgAE1BnJzrtc0JLqdMuamyYABNgAkzANAKqrIHQRkG0IyHtfcGGCTABJsAETCOgSgGhbT9pg6alB2JMo8aumMB1JpCYmAg7Ozv5GD58+HUOgWGPe/DBB+UwaoeXzqOjow3zhG0phoA6BaS4Ci8NdhS7LiompTigqibQpUuXBhnzt99+a3U86urq0LZtWxHOjh07onv37vj000/RrVs3fPXVV8jJybG6MHOAWkZAlQJC+5i/MswJC3ZFtoweu2YC14GAk5OTyJQpQ27fvr0479Gjx3V4snGPIAFp166dCN+pU6eMc8y2FUlAvQIy1AkLdkcpMtE40Ooi8NBDD4lMOSoqCk8++aQiBGTv3r3qSiSVxlaVAlJUWo23RrmKPc1Vmu4cbYUQWLlypRCMMWPGiBA//PDDihCQc+fOKYQwB7MlBFQpILQlL23RO3NLeEvYsVsmYFECeXl5uO2224Rg0IOqq6th7QLy2GOPifBqd6B/99138PDwsCgr9rx1CKhSQGgf9/fGuuHXjaGtQ52fygQMIEAjrSgjHjdunLBdUVEhC8j3339vgA/X38obb7yBu+++Gw888ADuvffeBmJCfTlsbIuAKgWktLwG7491w5QNIbaVmhwbmyEQExMjMt82bdo0iJNUwu/bt2+D69b64+zZs7KIUAc7G9sioEoBKa+qxSeTPDBmVaBtpSbHxmYIODo6yhmvdnOQ7nlamvVvinbXXXeJuNB/NrZFQLUC8ulkT4xayQJiW6+z7cSGRlx9+OGH+Oijj/Dxxx+LuRR0fsstt4jM+L777kPPnj1RVFRk9ZGWRO/RRx+1+rByAI0joEoBqayqxVdTvTFkWYBxtNg2E2hlAv/973+FgFhjE5aPjw+ow9zf3x9ZWVkICgrC119/Ldektm7d2sr0+PHmJqBaAflyqheGsoCY+31i/yxIoLS0VHRQU4n+iy++sOCTTPOahu5KtQ3d/4sWLTLNU3Zl1QRUKSBV1bX4Zpo3Bi3xt+rE4cAxAV0CmzZtwuDBg+Hu7q57yyp+09Dj1atXY8KECZg0aRJ27NhhFeHiQFiGgCoFpLqmDv+b4YP+Cy9bhir7ygSYABNQAQF1CkitRkD6/e6ngiTmKDIBJsAELENAlQJSV1ePnnMv4cc5lyxDlX1lAkyACaiAgCoFpL6+Hr3n+6LHLB8VJDFHkQkwASZgGQKqFBCgHj/97odvp7GAEFzaLQAAAoRJREFUWOa1Yl+ZABNQAwGVCgjECKzPp3ipIY05jkyACTABixBQrYAMXuKPzyZ7WgQqe8oEmAATUAMB1QoITSLs9gsvMa2Gl5zjyASYgGUIqFZARi4PxAfj3CxDlX1lAkyACaiAgHoFZEUg3mcBUcErzlFkAkzAUgRUKyDj1waj60gXS3Flf5kAE2ACNk9AtQIycV0IXhvubPMJzBFkAkyACViKgGoFZMqGULw8xNFSXNlfJsAEmIDNE1C1gLw0mAXE5t9wjiATYAIWI6BaAZm5JRzP9XOwGFj2mAkwASZg6wRUKyAzNofj+f4sILb+gnP8mAATsBwB1QrI3J2RaNfrguXIss9MgAkwARsnoFoBmb8rEm1ZQGz89eboMQEmYEkCqhWQNUdiuQZiyTeL/WYCTMDmCahKQCasDcaI5YEYuyoI3X/1wpujXEC7Evae54tPJ3rgrE+mzSc4R5AJMAEmYC4CqhKQHecS0XGggxCOd8e64YPx7nh7tKuYkf7eWF4Xy1wvFfvDBJiAOgioSkAoSbtP9RKiQeJBB62H9eowZ2w+laCOFOdYMgEmwATMREB1AnLUNQ1dhjoL4SABETWRcW4oKq02E1L2hgkwASagDgKqExBK1l5zffHWKFdRA+k8xAlbuPahjredY8kEmIBZCahSQBwDsvHyYCe8M8ZV7EpYXFZjVqjsGRNgAkxADQRUKSCUsDT6qtMgR6w9EqeGdOY4MgEmwATMTkC1AuIenIvHfziPsqpas0NlD5kAE2ACaiCgWgGhxN17MVkNacxxZAJMgAlYhICqBcQiRNlTJsAEmIBKCLCAqCShOZpMgAkwAXMTYAExN1H2jwkwASagEgL/D36N8XZzpm+vAAAAAElFTkSuQmCC)"
      ]
    },
    {
      "cell_type": "code",
      "metadata": {
        "id": "NFk5q5hZA94O"
      },
      "source": [
        "맨하튼 거리 : x좌표 차이 + y좌표 차이 (18회)"
      ],
      "execution_count": null,
      "outputs": []
    },
    {
      "cell_type": "markdown",
      "metadata": {
        "id": "0I_ZfUT5A-Zt"
      },
      "source": [
        "### 28.맨해튼 거리 계산\n",
        "![image.png](data:image/png;base64,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)"
      ]
    },
    {
      "cell_type": "code",
      "metadata": {
        "id": "mV2yjbo6BAGA"
      },
      "source": [
        "맨해튼 거리는 차이의 절대값의 합이므로 10 + 15 = 25가 됨  (22회)"
      ],
      "execution_count": null,
      "outputs": []
    },
    {
      "cell_type": "markdown",
      "metadata": {
        "id": "RQfIaOKoAzwu"
      },
      "source": [
        "### 29.코사인 유사도\n",
        "- 거리에 대한 개념으로 두 벡터 사이의 사잇각을 계산하여 유사한 정도를 구하는 것"
      ]
    },
    {
      "cell_type": "code",
      "metadata": {
        "id": "qg6AfvBxA1KR"
      },
      "source": [
        "코사인 유사도 찾기 (21회)"
      ],
      "execution_count": null,
      "outputs": []
    },
    {
      "cell_type": "markdown",
      "metadata": {
        "id": "VeYoyCODE0nU"
      },
      "source": [
        "### 30.비계층적 군집(k- 평균 군집)\n",
        "- 비계층적 군집분석 기법의 경우 사용자가 사전 지식 없이 그룹의 수를 정해주는 일이 많기 때문에 결과가 잘 나오지 않을 수 있음\n",
        "- 잡음이나 이상값에 영향을 받기 쉽다\n",
        "- 평균 대신 중앙값을 사용하는 k-medoids(중앙값) 군집을 사용할 수 있다.\n",
        "- 또한, k-mean 분석 전에 이상값을 제거하는 것도 좋은 방법이다.\n",
        "- k-mean 군집은 사전에 군집의 수를 정해 주어야 한다\n",
        "- 만일 군집수 k가 원데이터 구조에 적합하지 않으면 좋은 결과를 얻을 수 없다.\n",
        "- 따라서 Nbclust 패키지를 통해 군집의 수에 대한 정보를 참고해야 한다."
      ]
    },
    {
      "cell_type": "markdown",
      "metadata": {
        "id": "2_4HyMwvg81F"
      },
      "source": [
        "### 31.k-평균 군집 (k-Means) - 비계층적 군집\n",
        "1.   알고리즘이 **단순**하며, 빠르게 수행되며 **계층적 군집보다 많은 양의 자료**를 다룰 수 있다\n",
        "2.   이상값 자료에 민감한 k-평균 군집의 **단점을 보완**하기 위해 군집을 형성하는데 매단계 마다 평균 대신 중앙값을 사용하는 **k-중앙값 군집을 사용**한다\n",
        "3.   초기값 선택이 최종 군집 선택에 영향을 미친다\n",
        "4. 초기 군집수를 결정하기 어렵다\n",
        "5. 각 군집내의 자료들이 평균을 계산하여 군집의 중심을 갱신한다\n",
        "6. 한 개체가 속해있던 군집에서 **다른 군집으로 이동해 재배치가 가능**하다 \n",
        "7. 분석 절차 순서\n",
        "   - a. 초기 군집중심으로 k개의 객체로 임의 선택\n",
        "   - b. 각 자료를 가장 가까운 군집 중심에 할당\n",
        "   - c. 각 군집내의 자료들의 평균을 계산하여 군집의 중심 갱신\n",
        "   - d. 군집 중심의 변화가 없을 때까지 b, c 반복\n",
        "8. Lazy Learning(게으른 학습)이 사용되는 지도학습 알고리즘\n"
      ]
    },
    {
      "cell_type": "code",
      "metadata": {
        "id": "SpBcmGa0hQt4"
      },
      "source": [
        "옳은 것을 찾아라로 1번에 대한 것 찾기 (16회)\n",
        "단점 해결 방법으로 2번 찾기 (16회)\n",
        "절절하지 않은 것 찾기 6번 찾기 (17회)\n",
        "k평균군집분석의 분석 절차 찾기 (20회, 22회)"
      ],
      "execution_count": null,
      "outputs": []
    },
    {
      "cell_type": "markdown",
      "metadata": {
        "id": "Vet2lZVwZNAi"
      },
      "source": [
        "### 32.실루엣(silhouette)\n",
        "- 군집내 거리와 군집간의 거리를 기준으로 **군집 분할 성과를 측정하는 방식**\n",
        "   - 군집화의 성능 평가!\n",
        "- 클러스터 안의 데이터들이 다른 클러스터와 비교해서 얼마나 비슷한가를 나타내는 군집 평가\n",
        "- 군집분석에서 중요한 지표로서, **거리가 가까울수록 높고 멀수록 낮은 지표**이자 완전히 분리된 경우 1이 되는 지표\n",
        "   - 지표가 **0.5 보다 크면 군집결과가 타당한 것으로 평가**\n",
        "   - 지표가 1에 가까울수록 군집화가 잘 되었다고 판단"
      ]
    },
    {
      "cell_type": "code",
      "metadata": {
        "id": "oy5PwjOPZOQ6"
      },
      "source": [
        "주관식 문제 (16회, 23회)\n",
        "객관식으로 단어 찾기 (21회)"
      ],
      "execution_count": null,
      "outputs": []
    },
    {
      "cell_type": "markdown",
      "metadata": {
        "id": "ePG0Mj3nm3v4"
      },
      "source": [
        "### 33.연관분석(Association analysis)\n",
        "1.   품목 수가 증가하면 분석에 필요한 계산은 기하급수적으로 늘어난다\n",
        "2.   너무 세분화된 품목을 가지고 연관규칙을 찾으려고 하면 의미 없는 분석 결과가 나올 수도 있다\n",
        "    - 세분화 분석 품목은 필요함!\n",
        "3.   향상도가 **1이면** 두 품목간에 연관성이 없는 서로 **독립적인** 관계이고, 1보다 작으면 음의 관계로 품목 간에 연관성이 없다\n",
        "4.   **시차 연관분석은 순서와 연관된** 분석이 가능하다\n",
        "5. 교차판매/물건배치 등에 이용되는 분석 기법\n",
        "6. 조건반응(if then)으로 표현되는 연관규칙의 결과를 이해하기 쉽다\n",
        "7. 비목적성 분석 기법, 분석 계산이 간편하다\n",
        "8. 고객의 과거 거래 구매 패턴을 분석하여 고객이 구매하지 않은 상품 추천\n",
        "9. 상품을 구매할 때 유사한 상품을 구매한 고객들의 구매 데이터를 분석하여 쿠폰 발행\n",
        "10. 기저귀를 사는 고객은 맥주를 동시에 구매한다는 연관규칙을 알아냄"
      ]
    },
    {
      "cell_type": "code",
      "metadata": {
        "id": "_1vsg5_Um_0G"
      },
      "source": [
        "4번 시차 연관분석을 인과관계라해서 틀린거 찾기로 출제 (16회)\n",
        "5번을 적어주고 어떤 분석법인지 찾기 (18회)\n",
        "2번을 세분화 분석 품목 없이 연관 규칙을 찾을 수 있다해서 틀림 (19회)\n",
        "6번을 설명하고 '연관규칙' 찾기 (20회)\n",
        "연관성 설명으로 틀린 것 (23회)\n",
        "비지도 학습의 예 찾기 (23회)  (8번 9번)"
      ],
      "execution_count": null,
      "outputs": []
    },
    {
      "cell_type": "markdown",
      "metadata": {
        "id": "I6bQsTnulnKE"
      },
      "source": [
        "### 34.연관규칙의 지지도, 향상도, 신뢰도\n",
        "- 지지도(support) : A와 B가 동시에 포함된 거래수/전체 거래수]\n",
        "   > A->B라고 하는 규칙이 전체 거래 중 차지하는 비율을 통해 해당 연관 규칙이 얼마나 의미가 있는 규칙인지 확인함\n",
        "- 향상도\n",
        "   - 품목B를 구매한 고객 대비 품목 A를 구매한 후 품목 B를 구매하는 고객에 대한 확률을 의미\n",
        "   1.  향상도가 1보다 크면 이 규칙은 결과를 예측하는 데 있어 우수하다는 것을 의미함\n",
        "   2. 향상도가 1이면 두 품목은 독립적임\n",
        "   3. 향상도가 1보다 작으면 두 품목은 서로 음의 상관관계를 의미하며 연관성이 없음\n",
        "- 신뢰도 : 품목 A가 포함된 거래 중에서 품목 A, B를 동시에 포함하는 거래일 확률 (A를 구매한 사람이 B도 구매하는 확률)\n"
      ]
    },
    {
      "cell_type": "code",
      "metadata": {
        "id": "-5gyFeVwmIgG"
      },
      "source": [
        "지지도 설명 찾기 (19회)\n",
        "지지도 설명 보고 지지도 찾기 (23회)\n",
        "향상도 이해 문제 출제됨 (16회)\n",
        "향상도 설명이 틀린 것은 (18회)\n",
        "연관규칙지표의 설명으로 옳은 것 찾기 (19회)\n",
        "- 향상도 1보다 큰 것"
      ],
      "execution_count": null,
      "outputs": []
    },
    {
      "cell_type": "markdown",
      "metadata": {
        "id": "tR87KFd2mzbU"
      },
      "source": [
        "### 35.지지도 구하기\n",
        "![image.png](data:image/png;base64,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)"
      ]
    },
    {
      "cell_type": "code",
      "metadata": {
        "id": "P9PxQ2yQnOyX"
      },
      "source": [
        "콜라 -> 맥주의 지지도는?  (x회, 21회)\n",
        "= (콜라, 맥주가 함께 구입됨) / 전체 거래수\n",
        "= 2 / 5 = 0.4"
      ],
      "execution_count": null,
      "outputs": []
    },
    {
      "cell_type": "markdown",
      "metadata": {
        "id": "YEy91ejJoOy5"
      },
      "source": [
        "### 36.향상도 계산 - 1\n",
        "- 아래의 거래 데이터에서 추출된 연관규칙 중 하나인 **“사과 --> 딸기”에 대한 향상도**는?\n",
        "\n",
        "> ![image.png](data:image/png;base64,iVBORw0KGgoAAAANSUhEUgAAATAAAAEICAYAAADY0qgzAAAgAElEQVR4Ae1dOw7DNhb0ZYIg0E1SpAjgc6TbagvfIfWWaXyCHCB1Krc5wR5gSy4oacgRRUqURNqiPAYM/ajHx5n3Rk/0RzejlxAQAkKgUQRujfott4WAEBACZiZgt9vN6C0MFAOKgTPHALQ7KmD//Pd/Ru9zYWCDSZycixPx8Rk+bC7g5dfGPUqUz5Cylgzi5Zy8rPGm4+V5k4A1WGFKwMongsSlTUwlYBIw3Y42GAMS3EFwJWANBq8qsDarBYlOed4kYBIwVWANxoDEUBVYs4mrCqz8lVyC0CamqsAavPpKwNpMNolked4kYBKwZitRCUJ5QWgNUwmYBEwC1mAMtCY0tfw9hYD9+a+fhp8s/fhv8+fWYPrPr8O5v/zRJ+Lvvww/+/jhX38XTUzn49hPLUJy7OoWcqXyQEzsiaf//s+Aa8RQlZha9fEP8/OWn/LtHGtOvJ25TR0B++vf5ocl8H/8t/mdhAoBc9tDAgJhs4AhQH6d+PLPf/82v/04iODP//GJ4nxcEzD4Mxt/2I+3vTVAvk7A1uLJYT1iDA4i8fQ7LpbuHP87RwgWuMb2PgFDfP1kfvsrwvWCj0M84Hzvn+U9+Y6MdWtctdj+MwJ2myYzAiYUMATOnLSfzG8QFwSCBKxoxXmqYC4mYP7iNI+pm7mNMYR4/KyAQfQgZIEQIu6/VLgQn3UEjKordNQvEYgB6AiYfAG7GVcdgcizCFhq7AX3W9ImuBa0fWq74JriB7EDsen9j7QbxuUFjNvDRlEBQ6wHF2uHb9JHCBeWEjCHWSTO3ypgYaDAMbefAhPHwiWqsnICli7LXR80L4Igd365QE3biV7tU4EdIcn1NR6TgPm5UsQOC9I/SXF4n4DBr9stqJzAb9JHCBeWErAw/nn7jQLmg4eFwTrjyD6ZgEWFJ5wDk4C9rxqMJD1i51wC5mO9j6EwZqyIYSw8r0XtMK5oDPI5bj0hlBDMiy7fJ2COsOn815KALU24OhGE3Qq3kNHgoSDjK8E7161f7+zvNH2Ba7rQIdGjAuaSG/NbXli4PWygusY22qDqx/YqHvCT+v8hjJtIG/Rv7cOHaAySXX9cAlbx/8BQBt9MHwSpqoUCkz8N9CThNi0yiR+Quh5s8CkUVB/kTiQ5oMJAnFzZ/jZ//uff5ucfx6+FOJ9+Mj/8+Kv57T9lvtohAYvdQv5h/sSnfUlx8NxyfDixGLl1246/Ie74nKSIUWzb9n+SL1bE3NeEsH8S87ht1DKJ7yTf/td/Klv9Dw19QIxiQSRPxGlCpg82FpLZwBAIm4MNAgZRnC+5XzeGpIB5fydjCv1Knp8ftF8nYAmOozjbGEL7STxZfD1HLEYht2475G7lu4W2X/f1Iep7st/OfVqhTfiIai86tsCfVBse2yxfAgFo/bjFAC+/VvIfWUHUjT45DEB0AUOkc7CxkMwAh/1RGBAA6yT+4b7vFQ+EaUnufEwJEPywk7azSmu4Eg/BHVZ8+cKFsVt/sf4VS4ft/CIz466ggCGGcmLKiaYVmUkcj/z+9Yf52X6/EPGDMQVt0ddsXJniZc+D398QG3a8ePm1UgJGV6QlUJ04TMj0V8tQwP78ywrCH+Z3KxQIhM0Ctk04nI8IwECE//nvGKBrgZY8P98fS9o3BOfuMSImJvFk8fUxxfEYcotttIGoYDvu12B7cps4i5F8jqN9uDuX4xfBqP3S/r7BXjUBQxD0V4SVpHVtJwHng83aiL5tewTrxwVsSJDf//Wr+WH8Jj/7rDmwg8m7JRkQE5N4mgoYc+PWxxhCPEKw8gQsMr6//jC//WLnP6fx+8OPP5mf/0XzYbljk4DNLtyWO7z82qEK7O+eNAQFgmBJ8REwYent9rOA/WgD4ifz8y+/mp/tnASC9YiAwcYs4H1QOl9WxNiNs2KwWWxdP7nBf5V2Obgu8Ln0yTZiFVxje4+AwQbyIL6cTlOEnP7+S/hh0FQI2SZ8DW1cfdtigJdfOyRg40fA9lM3fCq0kjyO7AUBSRKBYK0sYLH+EdgcSFvX9wSe7SPmz1fsyxGwlXhbwwnxCG7AM7bXzv/H+Xgz/S1lkAd/Yj7MXpiTMb/+IdMk1nIvrAexWR37m+1bDPDyawcFbOsgETBpMn0lNLMtAfsuMXPiUG8eCPEIwdosYIjJpV9brI7DC1g4B8w5AF/dhwNvFhD25RPrEjBLOAIueTVcENAPBIwqMHsrdWIBc+JUpgKTgKXzTwLGAsZzbcn15XmLd1yFJGDpuSCLzeS949YKVc3uCoy/+Bz6M9leiiVfgU3GMzmfxrpjnO+I1dp9WGzw8mst3UIGFdDmct+eT1fM9WBZCrr0laIkkdbHkvbaspX5dRUkeoHE3hVTfVwd+RTyb4N+12Pyu777xfF6CgFjh7S+LoLfLWDr+CiGvgcjCVhQwbUQ/BKw70nQFuLxkz5KwCRgX3w7KiH8pPiU6FsCJgGTgDUYAyWS/wo2JGANBq9uIVU5XUF8SoxBAiYBUwXWYAyUSP4r2JCANRi8qsBUgV1BfEqMQQImAVMF1mAMlEj+K9hYFTDbQG9hoBhQDJw1Bha/iY+DWp4HARtIegkBIWDW/xNfIJ0PAQnY+TiRR59BgHNhdlnng59xT73GEBAvMVS07xsR4FyQgDUSAUxaIy7LTSFQBQHOBQlYFYjLG2XSyluXRSHQDgKcCxKwRnhj0hpxWW4KgSoIcC5IwKpAXN4ok1beuiwKgXYQ4FyQgDXCG5PWiMtyUwhUQYBzQQJWBeLyRpm08tZlUQi0gwDnggSsEd6YtEZclptCoAoCnAsSsCoQlzfKpG2x/np0/TeXu8erP+15H34eg+0ttja3fd6Hn6R1DzP0vtnCcMLrYbr+521389xpYvNpBfsEB7f727zfPNyWTuBckIA1whyTNrj8Mo9uEKNJXgSigeSBYJUVsKe598LSmVEfp2gGvkwPbtgqJCbP+yDmFsv+3T3MEz5i3+1mejwX+/TYO1t0vt3HnIADCdgGzheaWnzx8mvjHj6IRk0uX09z7xM8kVyNDWrOi08iThaDhByrHiTP6QQMfgaJb8fp3vfnULktikkukR4vZ98K2Fihun0Qn8U+I7bY79vNAG/rHTiQgOVytdzOcoWXXxv38EE0am7pgs8mgwTMcoqEOk0FliNguPV0fB65hfSiw4IPcQE+LtZ39gl8Y31IwBy6h1ZYo64nYM/7OF/SmU4VmLv6I0GRYNg+FElrSQ6RghDldga7OA/bt08I2LQiXB5C/JYaIikBW0Yv9+i1BawPdlt14Yp7/QrMEjp7v+MWck2g1o6nIjY8rxUBC/0exycBSxG9b/+1BcxhIgGzn/wheVBxlazAYCt5m55IaEdRagXn4T7sowKWW/Uh3vztOoYHDlSBAZFjSwnYMfw+cjaTNjjgEwZ53u9H8gcVWFihQdD2Dwa3S0P1F7UHX7hCnDhre5+PAwnvbDoBo0pzZmdtJL4fh0ViEr8X5OfGr264sc4FD+ORgK1xlHecc+F6c2AOAwTs9W8hJ7mMRKotYK6fzs05zr5KgTYbBQyVnRtXEQHz1agTMDun5uZMSRztJ5GPLQLmxdyJrotD6tcNiA5qdTMCErDNkH3+BCZt8AYCPf3O0Xu+RjHt21UYmHQHXBCwcD+O98uprckhbDgBm1c3aPK5pff/lhinw0cCVoQmzgVVYEUgrW+ESRt684kzyYtANJA8qAxQ3WB7j+ew6RPW+zK5TQp8ifflz52MgxsXFjBgYDFdfSdEKeTgtvAJqcMrOUAerNbXEOBckICtoXWS40za4JJP/GgSjomH5IFgIXmxvXl4EKXw+3VOZG7Gilj/0yG0zRSBZH4722UqMGAQxW0maok+3Relb+bWJdqM4IKDibhvBl4nAAHOBQkYUDn5kkmDq7FvkSMpIVBIHmwjebENW1lLmi+Knj8Kzf05/vIxIWDwCb7Gll2H7/HdzbOwgGWNdaHP1wPfNbTitf47TzfepEJneaRGIwKcCxKwRsKCSdviMpIHgnNIwMw4WZ2biAcEzItaeQF7wa9ZtRW7pYxUV724deY++9Qizgw4UAUWx2frXs4FCdhW9D7Unknb4gKSp4yAbenZmPADhdTZr9fL+PfTPGm7P2ehGkrZXNoPTLxIxoRr3JdRYS31ZY+5/nKFf83glx/nXJCANRIMTNoWl5E8ywK2/DWALf1N2qLSOSoCiwK23Xdg8q6K6N39TTi44AbnwoUF7FrMMWlbRobkWRQwCM3CJ2lb+nRtYbemgKGPDb4DE4tpzhvYuXFtXHH9qQLbiFy8OeeCBCyO0en2MmlHnIvNgWFf8YoE4lJRwPb4vm0ObP7ToK34S8C2IrbcnnNBAraM1WmOMmllnfJfx2ivQGjZ97IsfpM1zgUJWCPMM2mNuCw3hUAVBDgXJGBVIC5vlEkrb10WhUA7CHAuSMAa4Y1Ja8RluSkEqiDAuSABqwJxeaNMWnnrsigE2kGAc0EC1ghvTFojLstNIVAFAc4FCVgViMsbZdLKW5dFIdAOApwLErBGeGPSGnFZbgqBKghwLkQFzDbQWxgoBhQDZ40BKGNUwHBQy/MgYANJLyEgBExfXAGHWVYoUQDNuZbi5Vx8yJvPIcC5IAH7HA+bembSNp2oxkLgYghwLkjAGiGXSWvEZbkpBKogwLkgAasCcXmjTFp567IoBNpBgHNBAtYIb0xaIy7LTSFQBQHOBQlYFYjLG2XSyluXRSHQDgKcCxKwRnhj0hpxWW4KgSoIcC5IwKpAXN4ok1beuiwKgXYQ4FyQgDXCG5PWiMtyUwhUQYBzQQJWBeLyRpm0Ldbxf+x4MAX+Qx7bW2xtbvuG/8Tf7JNOaB4BzgUJWCN0MmmDy4n/gw9Eo66A4ZFmnYk+4zXwZTfUi49V22YVeFg8896JsdmH/Ha5Nmy7yANyt7mu1iMCnAuXE7DXywZWR8HZme7+NOPD7psNAiZtGETjAgZxWxIS8HZGAXM+5YqYBKxU8nEuXErAFq+uRx/tVQr9nXaYtK8RMHDmxKKgCKRspvaHvOW2C8/T9mEEOBcuJWDGBlV3N4/ny1Vc/AzA9h4b5rlm0oa9J6jA1pIYVRaEyA9neQ12cR62S96GpWym9oce57YLz9P2YQQ4F64lYAlo3jpxnfDh6G4mbbDlBcwem73H5EdVikn7olisCdTa8RQo4Xk1xCJlM7U/9DW3XXietg8jwLnwVQJ21QpsJl5W0N4gYBDD2y0x0R0KUW7o4jwQVkMsUjZT+0Pfc9uF52n7MALfJWAXCTQmbYgAX4Ehz/v9SP5AwEKRQ0W2P5rwCeRQ/UXtwReuECfO2t7n4wirxn5qgG3Y9ZmdnJH4vkI8lrajY3NxFal+Q1/77YLzdzlDvXAbzoXLV2CoEqJB2BDJTNrgtk/GSS5DNGoLmOunM12foJEqDG04oSfO2pHMxwHOXNOYWLiDW0j0fS0JVngsHjtbbUnAtjC11JZz4doChgQak3kJlLMfY9IGX30CTXI5GHNYzUAc4kmZi8K0b/SB21ZnJfDF7Z+sTG1NDmHDCVglEShlv5QdjFvLKAKcC9cVsIsFE5M2sJpI/EA0IC4QrBICBptesLwvk1u7wJdoNEYqsFm72lyWsl/KzgwA7WAEOBcuKmCYn4nc1jASDa0zaYPbJBp8i4b14BaymIBBlMKJe5e8w/xU/8VhtF2sgP04JpUkc+NsqwJjWL51nXPhggKWkRANMs+kwf3ng39xMJ1MhmChWsL2oQrseR/nu24G9uBLvxyF5v4cf/eQEDD4ZMeUenddZ7r+pzp385SATWD+9g3OhYsJmBevaII1zDyTtmUYEAvgcUjA7O//rOgkS6XAswMC5oWtjIBh3N5uWjxTbSyGpewESGlzAwKcC5cSsNXgWryV2YDgB5oyaVu6LytgW3o2xiQELLTyer2Mfz/Nk7b7tgUqsNXYWKgGIWgSsJC5z2xzLlxIwDDvtXBllYC5CgIV2RCCHrvp/oMBmilgq70sClgl31edUoNPIXBRAfsUnO/pl0nb0mNWBQahKflbQ+sk7B69cCwJGPoo7fsWkNX2rQhwLlyoAnsrhm/vjEk70jlupbjSwr7sua1cByAuFQWsmu+5Y1S7tyPAuSABezv8+zpk0vZZSJ3lP/jInZtPWXr//pZ9fz9aV+mRc0EC1girTFojLstNIVAFAc4FCVgViMsbZdLKW5dFIdAOApwLErBGeGPSGnFZbgqBKghwLkjAqkBc3iiTVt66LAqBdhDgXJCANcIbk9aIy3JTCFRBgHNBAlYF4vJGmbTy1mVRCLSDAOeCBKwR3pi0RlyWm0KgCgKcC1EBsw30FgaKAcXAWWMAyhgVMBzU8jwI2EDSSwgIAdMXV8BhlhVKFEBzrqV4ORcf8uZzCHAuSMA+x8Omnpm0TSeqsRC4GAKcCxKwRshl0hpxWW4KgSoIcC5IwKpAXN4ok1beuiwKgXYQ4FyQgDXCG5PWiMtyUwhUQYBzQQJWBeLyRpm08tZlUQi0gwDnggSsEd6YtEZclptCoAoCnAsSsCoQlzfKpJW3LotCoB0EOBckYI3wxqQ14rLcFAJVEOBckIBVgbi8USZti/Wsh3psMbilbcZ/4j/v6Yfz2jHzm//Hf4sbanstBDgXJGCNcMukDS4n/g8+EI3iAgb7gbhAaCYig7bJh3r4MeD8xWV7f9rfSHS15SbnwvUE7PU0j8lVvTPd/WHwtPu2qPLeMmnDXp/8k7wOROPdAjZ5slHgix8N1hJjwOFxiTFMbAdttPk9CHAuXEvA3PMDp7cew1W9M49XuyQzacMoEskfiAaSH5URHkOG7TKI+IfLLonpvK/EGIKGGIMELADmSzc5Fy4oYJ25P1/GadXrae7dKGiT7GqLfSZt8DyR/J8QMPQZPlwW+3UL2VawndxbzoVrCVgK+NVESp14nv1M2uCVFzB7bPYeRQPVCyqu8hWY9wN9ONQycN8yiX9vuYR2oGjlKAKcC18hYEjilm9BmLQhALxwzMTLCtq7BAwiFVZf1kkcS1ZgkVB20wB384wc1i4hwLlwbQF7vQxf4Ru+g5z8idsQwl7AJuMKRMOJd1ClzaqlPXnhxGaoACd+WHvwhfueNQo6djYlYAEy2hwRuLiA+cT2lckwL9ZyBDBpwzj8OCeaANEIKjCPxSA2hwXMzi2yMPXrFmdCGb5wu/vT4DY29GnL9mH/yU2ttoUA58IFKzCf2D4hOtP6/AmTNoSbH2dUNAIBQ8JDPLC9K3RdlYRbVe+L9dPZhoAFt5DwwfMTmcNj0Yusuz52DUAntYwA58IFBWxKzev5MN2YAC0HPZM2jNCLxjsF7PW8Ozwxzxb640QsIWBThrQlBLYhwLlweQHroUEixSaat2H3sdZM2uCEFzB7bPauUIE9H/Szn6Cqgk/DnOM4fwXco20JSjtX+bibriP7uOh0d/Pgr8XQaVr9TgQ4FyRgjcQAkwaXJ4ISiBiqTUziYxu3b9iGraxlf+u44XY8R8C4ogvGMBXle/O/psjCWI1WEeBcuJSA2eTsHk//JVYLBU82T+61VnE6VQMmbYtjRQVsS8e27aqA0QcBnf25l/v68djTy9gpgCt8EXkrdGqfRoBz4UICtnZL1fbH8kxamtr5kVMLmPswYOVnXqtCOB+39lwXAc6FCwmYJWz43hcm7e1Ab5295Qmqsga5ZdK2uJ8nYL4S2nVrmXJoVXh8v/YDAVVgKSC1nxHgXLiYgPEwr7XOpG0ZWZaAQWhKf8gBu0uT+NlzYCtV2hZQ1LZpBDgXJGCNUMmkHXE5NomPfcV/apUjYHYwi59CXqOCPsKZzp0iwLkgAZtic9otJq2sk37usOHPOMpCImunRoBzQQJ2aqq8c0ya36s1IfB9CHAuSMAa4Z9Ja8RluSkEqiDAuSABqwJxeaNMWnnrsigE2kGAc0EC1ghvTFojLstNIVAFAc4FCVgViMsbZdLKW5dFIdAOApwLErBGeGPSGnFZbgqBKghwLkjAqkBc3iiTVt66LAqBdhDgXIgKmG2gtzBQDCgGzhoDkNuogOGgludBwAaSXkJACJjJ8yFmWaFEOWeIiJdz8iKv3o8A54IE7P347+qRSdtlQCcJgYsgwLkgAWuEVCatEZflphCoggDnggSsCsTljTJp5a3LohBoBwHOBQlYI7wxaY24LDeFQBUEOBckYFUgLm+USStvXRaFQDsIcC5IwBrhjUlrxGW5KQSqIMC5IAGrAnF5o0xaeeuyKATaQYBzQQLWCG9MWiMuy00hUAUBzgUJWBWIyxtl0nZZz/1/+jXj7lFob3xMXcE+8ZCT4v//v4abjhdDgHNBAlYM1rqGmLR4T3hEWeLpPScTsOe9m/7e1j5WDT7Sb3H7/+lfFDD/n/4Wo9ib/+tfAhaPnpb2ci5cXsBcwJZ+ZNibGWfS4l0fELCIcMyE4D4+W3NRTOKezfdGRMcK2CMQtdvNlBAwftaliwdWtbmD2nNiBDgXri1gLtnslfmNtzwVyGfS4uYrCxie7egwPYKnFzDWEYgLC04/1p194nFxsT50CxmPohb2ci5cWMB8kgzVxJGE+zytTFrUm7UkR5UFIYoaieyEXZyH7UMXBM9NTFzSAka3iHxixG1j4oIOkZSARUFrYifnwmUFDIF6fzxM18+NXFzA1gRq7XgqdMPzWhGw0O9xfIgLCViK8PPvv76AIcnsVRrrhyqGz5PKpMW8we3S7VZ4Eh9CgIqnCJ57K7Dci5C3H1ZzErBY9LS1j3PhghUYgncM9iIJ93mCmbS5N7hdGm6xwqTt20OI+JM6iJIzCOzGyXNj9X+YWHc2HZ5bbudcB+OK78eOq38nJvF7QX5urKLdWOeCh/GoAgs5aWebc+FyAoYAdbnpEm4ezO1QNv0XypnfSNiuG2+XI1UY2kAw7NKBBIteWHAIlR22fUV7RMC8MDoBsxXy8z76T7btJ5GbpgG8mDvRxfBIkOdjp0ZaPTUCFxawMXgx4WxpuLyATUUHAn5jDCwOELBw/yRUp7Ymh7Bxajy9/7Pxj/47fJwiY2BatoLAZQVsqBaC6uPUCZcfMkwan+US0gkTJTEn6UkFDBWer8Sm1ddkvxsjI4B1GvfCfKfDi7GBCS2bQIBz4Tq3kEhQvkWKrrd5K8mkuShzY06J9nCb+LInoG2mCCTzu/AFYZOApYTp9TT3DnNpy/xKwFz0NLvCuXAZAXOBGRUtvqovB/hZWWXSeh9pvig214Nb5/uzl6+kgOXg1tm5tV4g7uZZWMCy8F7o8/WgebNFcR56cuNNKnSWR2r0QQQ4Fy4jYEk8F4I/ec4JDzBpg3vjfF9uIiYqMJfQq8JvLwLlBewFv3L7D7np+e3M/TEKdXg82HbjzcUtOF+bn0eAc0EC9nk+sjxg0rJOCBtBKFaqlNfrZfz7aZ603ZssfEFwgpIjYCu+h0OObbv+JGAxeJrYx7kgAWuCspWvUeSMIVPAVk0tCtjyVxhitt8tKO/uLzZm7TuGwHcJ2DGsTnM2k7bLqXcIGPpITbZHHHeCklOB3W4mOt8XsZva5fpTBZaC6PT7OReuX4Gdno48B5m0vDOCVhCXo7dhCxWY+0RxgzhsmwOTgAWsfuUm54IErJEQYNLO6bL/HtYG/TrnUOTVqRHgXJCAnZoq7xyT5vdqTQh8HwKcCxKwRvhn0hpxWW4KgSoIcC5IwKpAXN4ok1beuiwKgXYQ4FyQgDXCG5PWiMtyUwhUQYBzQQJWBeLyRpm08tZlUQi0gwDnggSsEd6YtEZclptCoAoCnAsSsCoQlzfKpJW3LotCoB0EOBeiAmYb6C0MFAOKgbPGAOQ2KmA4qOV5ELCBpJcQEALT3wXPskKJcs4QES/n5EVevR8BzgUJ2Pvx39Ujk7bLgE4SAhdBgHNBAtYIqUxaIy7LTSFQBQHOBQlYFYjLG2XSyluXRSHQDgKcCxKwRnhj0hpxWW4KgSoIcC5IwKpAXN4ok1beuiwKgXYQ4FyQgDXCG5PWiMtyUwhUQYBzQQJWBeLyRpm08tZlUQi0gwDnggSsEd6YtEZclptCoAoCnAsSsCoQlzfKpG2xjodY4GEY+N96bG+xtbntG/6Hf7NPuScs/Pd/rgm0Awc3/dc2IDm05FyQgB2C8n0nM2lDr4n/oA9EA8kDwSorYHiMWmeiz5UNfNmNViExed676W98u4d5wkf6/W+vM4t9euwtL7E3axU4OCpgzk6iz7kfCV7M09z7J63HfZ/bOdfT7K1/ePm1cQ8fRKN2lkioBDEcVe0Mqvd0zotPosmwkJDj04cQ9KcTMPi5lIz3p+mft70oJrlEerxcgloBewSidruZEgIGvK134OA0AubwTOTJjBMJWG6UHWwnATMQhisIGB4B5xLuSCJ5AWPBh7iw4PRBuLNPVLixPo4KmEuOlG+p/e7EcSW3XXjeSbb5Yn7RCixVOp+EgR1uMGnD6fGEfKuArSVCIKbZw4bdUwgYVSmsStHB4AI6jT+IpAQsCtrmnZwLErDN8H3mBCZt8MALmD02e7+jAlsTqLXjKSjD8yBoG574PTft8WIdgrikKzDClk+cd2DCiweaoA8JGBA5tuRcuKiAHbnVOAZurbOZtKEPn5Az8bKC9gYBw+3S7TatOBwGoRC5AysrOA+C8VEBy40lz0cohhKwFb43HuZcuKiA0VXzdjNddzfPfjZ4I1Inas6kDW75hEGe9/uR/IGAhSIXJtn2oeJ2acA6ag++cIU4cdb2Oh8HEt7ZdAJGvM7srI3A9+OwSEzi94L8fJiu9ztTwNxY5+0xnmMVWMR/xjWx7jBkeGJ4Js4fsJqPic29e51z4SsEDAG7OebfzcxCf0za0MwH9GRcSKTaAub66cZEj1RhaMPJMXHWjmQ+DlR2rmks4dzBBdCCQ05InD/3/msUg1CRONpPIh9bBMyLeUwwXL87fPZD8DghnnOWMbQDuWIAAAewSURBVH8Y8xwbt0O37n4EpdY4Fy4mYDGIXgYJcTYiYt6m9jFpQxsf0JO8gGgEAoZABhbYTvW3vH/at0vQsU93buCL2z9ZmdqaHMKGE7BzVQKDe95/3LbDbSwdPhOicPTgshQ2pewcHE7O6ZwLXyBgFhJcISNVQg5iJ2jDpA3u+MSZ5EUgGkgeCFYJAYNNn7Del8ltUuBLHEZ/7mQc3LhwcgEDi+nqOxRl9ouqx6WLo8MrOcCJ0W0bpbApZWeb97tacy58iYBlJMkuKN93EpM29OrHFE3CWhUYRCmcuHcJcDNWxPopR7TNFIFkfjvbZSqwTQKWun160bfZ7RzrQihIwBbA2XGIc+FLBOyKFZiJfoscYoaKC8mDbSQvtjfFz/M+znfdTPT8UWju+MQkIWDwCb7Gll3Xma7/uYv9AGbLfNSmEaUbL/T5engcfBW6ZGr8tn9SodPnrh5Z8HP1XG5Qyg7brLR+XQGzJPSfONJHjpMr5WOoDCoBW9Msk7alH4gFBOeQgOFWPDcRDwiYF7XyAvaCXzm3kLEKrE/2ztyjPwCdswMOJrfX82bJPeDMY5Jx6xuMzfJfyk7S0Tcd4Fy4VgXmriIxgtud/7JxwaRtiRMkTxkB29KznXq8D3NMi7eQxrxeL3o/zZO2+x4dr8u3arneAZMsQVjxPadP11+u8AdGSwlPKTuBe2/f5Fy4loDZD+WfD3Pv+Ae6nekwJ/N2qMt1yKRtsYrkWRYw3GInbg23dMhtMwWMT4muLwrYdt+Byd6KKOrjws50f9t9X+jmaw5xLlxOwK7KIpO2ZYxInkUBg9DEbpe2dBa2hd2jVcySgKGPDb4DE4tpzhvYhcPL3Xb9hRXYDt9z+7xyO84FCVgjTDNpR1zGbQQnJfYVr0iQoBUFbI/v2+bAjlelKQHb4/sR7q9yLueCBKwRVpm0si77r2OEBULZfmpYk+81UD27Tc4FCdjZ2Rr9Y9IacVluCoEqCHAuSMCqQFzeKJNW3rosCoF2EOBckIA1whuT1ojLclMIVEGAc0ECVgXi8kaZtPLWZVEItIMA54IErBHemLRGXJabQqAKApwLErAqEJc3yqSVty6LQqAdBDgXJGCN8MakNeKy3BQCVRDgXIgKmG2gtzBQDCgGzhoDUMaogOGgludBwAaSXkJACEz/2GCWFUqUc4aIeDknL/Lq/QhwLkjA3o//rh6ZtF0GdJIQuAgCnAsSsEZIZdIacVluCoEqCHAuSMCqQFzeKJNW3rosCoF2EOBckIA1whuT1ojLclMIVEGAc0ECVgXi8kaZtPLWZVEItIMA54IErBHemLRGXJabQqAKApwLErAqEJc3yqSVty6LQqAdBDgXJGCN8MakNeKy3BQCVRDgXJCAVYG4vFEmbZf1jP+nf975aU7LP6Ph/9Tf5Y9OEgI7EeBckIDtBPHdpzFprm+IUuK3qxORQdvkAzb8/8vbvlbf7f2BvoNNK20jwLlwWQGbPx/SJmWZB6N+gn4mzfUPUUoJDosM2mYIGJ/m+hpXUk/YCdtpWwjUQoBz4YICtlRJXEzAohHiH5Y6ESIJWBQt7WwPgUsLmHvW3q0z98fLvNrjJ+oxkxZtgJ0QqrDaxP6MCsz2tfqeqCM611II1EeAc+FaFZh7gvPNXC2/mLR0iPjqczL/ZU9YFTDbJH8S314c9BICn0CAc+FSAubmZ5JVxifgLtMnk5a0CJEKqy97Ao5twcZdENq99U5ipQPNIsC5cCkBw+1j93hOq4muM/dn2xUDkxaNPCc2w+3frAKFgPHt4axRYNnZlIAFyGjzgwhwLlxIwPztkx1g7D27rfogCVu7ZtJm5778xL0ftxVtapkQMIi+Py+O3dLxlnElhLTaCAKcCxcVsGnF9XLJ25lWp26YtEmcuSrpZm797eFUyJ24AIPgFlICNkFTGw0gwLlwSQFzSUtkIFFjx6jZaVeZNDhphblDtTkRpoiIJQQMtrQUAq0gwLlwIQGz89SJ+R9jDCb4ryJgzwd9YjgRL4Tha5wHHOevcgXs9TLPx910HdkfRbLr7ubxvM5XU4CUlm0hcFkBg0jdJpM/AzkQt6sImOlvHYfvumWFX46AcUWHyi66vJvGPxPJgkyNzonAZQVsSOqhCvNCZSsKVBMXnAPLjbFVAaMPArqHeb7CT21fZvh51jjJH7lI5LqidkLgCALXFTC6VbSDDN9e1I7A95lzmbRdHqwJmPswYEXk1+zsck4nCYF8BDgXLjUHBgj6ye2OBGycu8HxFpdM2i7/V4VHFdguXHXS2xHgXLikgL0d0Td0yKTt6m5VwIZv67tPNSMVrPVheK9Uabsc1ElCIA8BzgUJWB5mH2/FpO1yJkfArOHFTyHthwbPy/xAfheOOunjCHAuSMA+TkeeA0xa3hlqJQSuiQDnggSsEY6ZtEZclptCoAoCnAsSsCoQlzfKpJW3LotCoB0EOBckYI3wxqQ14rLcFAJVEOBckIBVgbi8USatvHVZFALtIMC5IAFrhDcmrRGX5aYQqIIA54IErArE5Y0yaeWty6IQaAcBzgUJWCO8MWmNuCw3hUAVBDgXogJmG+gtDBQDioGzxgCUcSZgOKClEBACQuDsCEjAzs6Q/BMCQiCJwP8BG+WJ1WXm+VkAAAAASUVORK5CYII=)\n",
        "- 향상도= P(A|B) / P(A) * P(B)\n"
      ]
    },
    {
      "cell_type": "code",
      "metadata": {
        "id": "rmssukK8oTOm"
      },
      "source": [
        "향상도 구하기 주관식 (16회)\n",
        "향상도 = (사과 딸기가 함께 판매되는 확률) / (사과 판매 확률) * (딸기 판매 확률)\n",
        "       = (3/6) / ((4/6) * (3/6))\n",
        "       = 1/3"
      ],
      "execution_count": null,
      "outputs": []
    },
    {
      "cell_type": "markdown",
      "metadata": {
        "id": "5i4Vu22ToYcf"
      },
      "source": [
        "### 37.향상도 계산 - 2\n",
        "![image.png](data:image/png;base64,iVBORw0KGgoAAAANSUhEUgAAARMAAAExCAYAAABfzUaFAAAgAElEQVR4Ae19O7LDOBLku8xER4du0kYbHaFzjDfWGLpD22O2oxP0AcYeS+6eYA+wJjdAMQtA4kOApCSKzBehED+FQiGrKlGE+MifQX9CQAgIgQ0Q+NlAh1QIASEgBAaRiYJACAiBTRBIyOTn52fQRxgoBhQDLTEQslCWTP7P//1/gz7C4Owx4JLp7BjUxu/wCf/ivWEYq5KaAp0TyZwlBkQm9VgXmajq0mzbGAMiE5GJkqUxWc5SYSwdp8hEZCIyEZlsEgMiE5HJJoG0dDZTu3oAfhM+IpO6Lx0+4V+8pwVYEZGqGosBkYnIxILhm2ZB2VoP3E/gIzKp+0SVyRtn3r//9WvmBsA/hj9DG/7zx1Pml38Pf4fHg+0/f8/pyd9U9Y9//U9kGmC3hoReSSYWGxW/F21HzPz+1+jrP39/xkKT7//77+Ef442pvw7//G+dLIr9T/iKTDYKtDmg3XkLmOiu4l4y+d/wz1/yxOGcmXymAGuxTzL1ZOoiE0vSjE+cn375dzSJWGy8m0xARD8UhwvyQmSyALSXJh2cWwwqTya//acc/BacIpPNKrNNyYSS1/xFfkeVkUwSP78O/4T/ETMLKpNQfy2eWmJeZPJqMpmboYJqYixLERgUVN6ZIhOPRZlMXyHTRSaluEI8kH/7yeRnsORHzPSSCWyxGFx3qSMyKTl9q+OJwwpl78/P0Esm6WyV0a3K5DOVSSF+jDTIL3acSCZHiqgm1pDJ3//5Y1or+Rl+fv9r+NPW81zFs2ydTWRScHrOiW85hlnGZouns8O+EUwtZPKbFmB3RCblqvJdZPL3f/8afvvFL+D/4/e/bKE/XNj/x+//Hv7sXJAVmbyRTP7+z7+H36LF01+HxGkNZBISy7ht1c/6RbRE9xvx2XvfLllW2Wi+Tf1UIhNfMaRVZ1dlYn1Dz6/Db5kKJKpYxgmt/dJHZPKmZLFgCSsO2w4cBqc3lLsW2CKTdUneGAPryOSv4bfJ3+PlrPkMyT19R373lYzrO/5kFmBJJv5peOr/lz/Gy5jSbQfPmPrfMJKKm/gie+prVCKTxkCyxF0k74MivuwIjvPKPDmx59ImDjofhHFw1QNj3XiPqdvhuhQXP5lMVUknmVgVkos/TEBVMnm9T0QmOee84JgPJp/cPunnKxORyeuTYY4oFpNJkOwlUrD4iCaRzGSTi03oL/ya867YEZnknPOiY11rJlFQfT6R5hLtDOcXkUnwq0mtMuwlk7//6y5F/hr+dOseIhMlSDYBERgik8WXFFlcN5ggesnECML97E8/BbONJhv53Vcmru/sx8kjZgqVCfcV7dvlVrooHMk14OfsC//iPf3X8EsC2v0898/ff/W/8yNQfsn8usNOROCgzcz3P/71/H+N3sCQfDrZtZPJ/0b/IvlrFQlwzpNJ4V8wXJz88uvw2+9/DOMaHGJCZJI6DQAf8Tv8LR/BlvsuBiACZ4ZETOfMjHhEjF81Jodpq+6RHNwvJ433apTIpKk/xITI5ERkYiXlzzijJD/P/fd/gyebdWWnBafIpJkA5hK3h0zmdPF581d0mdOYGyKTRqC4zP/mfZHJZonNyfiOfZFJPWcdPuFfvKc1k82D31cehQW16fKleJnTSKY206ky2cyHIhORyWbBtNXst2oBVmTyMX/ulkwoJnBfSdOEZNXyustqlxuqTMgRWxGG9NRnsW/E55Vk8o14sM0iE5HJx2Z6Dsa974tM6hOEyERkIjJpjAGRichEydKYLHuvDD5tn8hEZCIyEZlsEgMiE5HJJoH06VlR/dcD+R34iEzqPnD4hH/x3nSfiRPSRxgoBhQDczEwSyahgLaFwFkRcImkvzICjE+CFguUVemMEDg2AsqFun8ZH5FJHS+dPTECnCwnhiI7dMZHZJKFSQeFwJDcLi5MYgREJjEe2hMCRQQ4WYqCJz3B+KgyOWkgaNjzCHCyzLc4lwTjIzI5l/812g4EOFk6mp5ClPERmZzC7RrkEgQ4WZboOHIbxkdk8mlvP27DZbxJ8DrcV9ryuF2eNxte12paachBmnOyHGRYmw2D8RGZbAatV3S/TkmNO4kvt+F+vyZ3FY85XyWTx3C71O/CDHlDZOJ9sMUWJ8sWOo+kg/ERmWzu3QwBODJB1QCC+fkZtiCTy+1hIxCZGBSbbHCybKIUSh734TpOFJchcCHORt+P+3W4BJPK5XId7t7tkazb6ZVPFDQeYHxEJo3AtYt5MslVDWHyjzqrlUm51/v1WbHk+vgJD5ZV6MwMApwsM+Ltp83nzod1MrEJIpiEnF2ldr3y7UankoyPyCTFaOWRpWQSXM7MksF9uGYCygJptv3KIZ6kOSfLJsN2Vcbku2e1USGTgHT8JOTjK5k0euVXDojxEZmsBDRt7p0d5jQS3QfF1DIIgOeM8zMkQcKdYP3lchvCahd9zLZnfdrPIsDJkhXqPTj62xEI4qRMJuZP8vMwzEwmjfK9prM84yMyYYRW7yNIpjWRSR8Co0wmrb/meP2sC32ITFY7cVTAybKNVmiBH8tkgktZ9vMwoG0cY73ysGTpN+MjMlmKZLGdd7QDe/wUFmDH695750/DqEp+UvIRmRSdsugEJ8siJcVGiJMSmeB8TBhQlxJHrzw0Lf9mfEQmy7EstrSkBpm4xLdr5WBtxP2ic+shE5S3P0M6Ww2D9RteXxWt1Ik5BDhZ5uT7ziP5S2QCX+fPw9c+Dnrl+6zNSTM+IpMcSrs8huD7GX6Sa+KnwQgwXeZs40BOlm20Qgv8mSeL0rqItZ5uNRCZAJGDf6MUdUE5+ykQxBMiBJ7Tk17eAEaRCZDY5vuzZOJ9nis0EVueTHrl12PE+KgyWY9pUQMcPkskI9kUSMJubnIVSUFmskBkUnTFohOcLIuUFBsh+UuVyTAgfjxhQBnaxuspvfLQtvSb8RGZLEVyq3b203BKFI8b7kkoX9qEZohMQjTWb3OyrNcYagAhlMmk7M/8+kivfGjNkm3GR2SyBMXGNu62Zgd42yclk2G6J+E6d7/1ZE85mBoNlliEACdLdHL1zjyZPP3/jJ+r3T//sIolWTuziclVLLgDqSK/cgyMj8hkJaC15pbcLYRSXTOp9eLPWX+5i2wvpq1GBDhZGps1ijWQifs/m8z/dD0np3xF0yvfaGxWjPERmWRh2uagOfZNyf3u/rZBab9aOFm2tbSNTFyfvf+41yu/dFyMj8hkKZIN7Sy5WyqTn/y9Iw3dmIj19ybyso4PusHJctBhLh4W4yMyWQzlfMO+NRORyTyi75XgZHlv7/vvjfERmezfZ7LwQwhwsnzIjN12y/iITHbrKhn2aQQ4WT5tz976Z3xEJnvzkOzZDQKcLLsxbCeGMD4ik504RmbsDwFOlv1Z+FmLGB+RyWf9od53jAAny45N/YhpjI/I5CNuUKffgAAnyzfY/E4bGZ8smTghfYSBYkAxMBcDIXllySQU0LYQOCsCLpH0V0aA8UnQYoGyKp0RAsdGQLlQ9y/jIzKp46WzJ0aAk+XEUGSHzviITLIw6aAQGMZ1Q+FQRkBkUsZGZ4RAhAAnS3RSOwnZqjJRUAiBAgIikwIw02HGR2RSx0tnT4wAJ8uJocgOnfERmWRh0kEhoDWTuRgQmcwh9O7zeE7s2sc22vM/M8+SffeYDtIfJ8tBhrXZMBgfVSabQVtSlH+SuEmLTAyKvW1wsuzNvk/bw/iITF7ukRVkAqKp/XvD9T6MzyFXZbK5JzlZNu3A3oeUfzB02FfvM1175cO+erYZH5FJD3qLZF9MJrg8Epks8k6tESdLTbbrnPnK/e9PnUzsub7JhJJv1yvfZTcJMz4iEwJo810LnMJaBqoPkEKrAdCLdtivvD60VbXknghwsmyCi73A/jJcLjNkYj4Nnw+Mp9r/DMk7pXvlVw6I8RGZrAR0tvkcWcydL3XA7SyQCqRV0qPjRQQ4WYqCPSdGP7mqAqSQrzCcSqsyMGFYP/lqt1fe1C3cYHxEJguBbG2G978Wy1kmhXbFz8dE4LUWIpNW5JrlOFmaGzYJzpMJYkfvGm4C9OhCmEGez8VIg2Jwb6dOnx0DgjB4EHj+RdWYhUynkUnwDI5EjynURgMCnyWT1OehySnR9MqH2pZtMz6qTJbh2NYKRHG5DJdxAS1T0kImXGBLSCANFASTiYpM2nzSIcXJ0tG0QRQ+zcTE2BoTUf58MpkMvfINJs6IMD4ikxnAlp9GsDyrCTg/edk0yCS5Lg57jnWFZ2zbyERrJobJyg1OlpXqqDl8mieLoZscRCYE8HF2U/JA8NAqvMhkt07/LJn4eLHqM0AKlald5g698oGyhZuMjyqThUBWm4Eg+B4Cqx6ehDLebAZZVSZVSD9xkpNlWxuQ/KXKxC2nldba0NavoTnbeuXXjofxEZmsRZTb230E4b0BgdBEKNf7SCV+AZbIxCqbcC2Fti9uLWa8V+E63I2odJkToL1qk5NllbKkMQihTCYWA0lpkr+k6ZVPTOo8wPiITDoBnBefHJ0EQKFloTKxwCACcQ5MPyKTArqrDnOyrFKWNJ4nk8EmCFeBTJPP8LAKJFl/65VPbOo7wPiITPrw2166QCbc0ePxGPznPtyD/VHWAkmVCWO3dJ+TZamefLsGMglvXEsmkXxFU56E8vJ529qOMj4ikzbcXifVSCazBohMZiHqFeBk6W1fl28jE6ej9x/3euXrdpbPMj4ikzJW7zkjMnkPzgt64WRZoOLQTRgfkcmn3S0y+bQHiv1zshQFT3qC8RGZnDQQNOx5BDhZ5lucS4LxEZmcy/8abQcCnCwdTU8hyviITE7hdg1yCQKcLEt0HLkN4yMyObK3NbZVCHCyrFJ2wMaMj8jkgE7WkLZBgJNlG63H0cL4iEyO41uNZGMEOFk2Vv/16hifLJk4IX2EgWJAMTAXAyEjZskkFNC2EDgrAi6R9FdGgPFJ0GKBsiqdEQLHRkC5UPcv4yMyqeOlsydGgJPlxFBkh874iEyyMOmgENCLy+diQGQyh5DOC4EJAU4WARMjwPioMonx0Z4QMAQ4WeyENkYEGB+RiQJDCBQQ4GQpiJ32MOMjMjltKGjgcwhwsszJn+084yMy2XEE4BF8eJ1B+enjOx7EF5vGyfLFQ3mJ6YyPyOQlMM8pxSP74lcV2KtCpyfVi0zmcHzteU6W1/b2fdoZH5HJR3woMvkI7J2dcrJ0Nu8Qx6srCrfvF9508K5nvZYGwviITEpIvfS4yOSl8G6knJNlI7UZNf1kgqrV2Rh/tn8Kfcbg8RDjIzIpIfXS4yKTl8K7kXJOlo3UZtSATBqJwN5EEL7ozcfUT6GSyXS86hDjIzJZBefSxoHjk5nlZ8DLlTD7aAF2Kc7r2nGyrNNWa91HJogLxInX3KfHt1u2xfiITJbhuLKVyGQlgG9pzsnyuk5BAm0vUCv/qufj6h3FCeMjMnldhFQ0F5xOr72wGYiqF1QqlQ50agMEOFk2UFlQATKJ1z8uF/faV25SiJ1JrEw0rGf9PuMjMlmP6QINhYAQmSzA8nVNOFle11OeTFz/7hNXGZDNr69gAnrHhMP4iExeFyEVzX1kgsB456xTMf40pzhZ3jvw4AXlP+Hlj8jkvX7YfW8ik927aNjDIwhyxFGInQnQd044TLaqTD4S1T4gnEOSj+6A/YhXuFNOFj7/+n0fJ+GlTpkw8vKvspPxEZm8CukZvffbJSWRiVhwWcPXv+UgmulMpxchwMmySMmqRrnKZBgQF+n9JHn5VSZUGjM+IpMKWJ8+haABuYhM3usRTpaX9e5uQht/uQl+unnch+tlqlqnStX6D25au9rPPcEaC8tbw203GB+Rybb4bqpNZLIpnN3KOFm6FbQ2CMjB9Rl/6r/axLKubV6+1ZQeOcZHZNKD3ptlRSZvBpy642Sh05vuPu634XoJL30vw+V6H4JaJelP/+iXQKIDJQREJiVk3nP8nWTynhFt2wvjo8pkW3xfqk1rJi+FN1HOyZIInPwA4yMyOXlAaPhlBDhZypLnPMP4iEzOGQcadQMCnCwNTU4lwviITE7lfg22BwFOlp62Z5BlfEQmZ/C6xrgIAU6WRUoO3IjxEZkc2Nka2joEOFnWaTtea8ZHZHI8H2tEGyHAybKR2sOoYXyyZOKE9BEGigHFwFwMhMyYJZNQQNtC4KwIuETSXxkBxidBiwXKqnRGCBwbAeVC3b+Mj8ikjpfOnhgBTpYTQ5EdOuMjMsnCpINCYA9PWtu3F0Qm+/aPrNsRApwsOzJtF6YwPqpMduEWGbFHBDhZ9mjjJ21ifEQmn/SG+t41Apwsuzb2A8YxPiKTDzhBXX4HApws32H1+6xkfA5OJv5p3W7g6btZG4G3x+qF7y9pbEtieOBR+jBgEtxql17stVhtEQM8xHi6wSt8jPrizvbRkJNlH1btxwrG57Rkcr+Gj8h7Es0diRfcATzmRjGRnGOJsIK2I4HRG9m2JxMkc+HZnxjT2ocMFzFA/yKT/aT5eyw5KZlwomUI4HIbcq+f2IJM8HT5kXrwiovNZnAkM49xCqgameBchgBBhK6CGp9DWiQT6mezcb0nIWq9cLLUZNvOwVeF2/QL2PU+67VXvs32VIrxOUllwonmyST0H6qGMPlHCOcSKcV5PILHLOb62O4yBwHKY5yMAmHkKhOcq5EJ2s1hAF3hYAu4fMthTpb1dsNX7WSCmDRyN1/l/d0rv2ZMjI/I5O7hhCPKZBIEwWzSIHBip6OPzcikNclBCn649S3oRTvsR++9DVSITAIwSpv5mChJD4b5z+Bj0k+ESQz1yhc7bjshMhlx8g4JOQGJ7h03gRo4yWaIsGEOeyQXktFUTWs1c+1zOnPHCv2Y6Nx5E6QNbmcYFBahIb/VuMicT+xysqy3oY9MEI/pDwd5Pb3ya8fD+Kgy6apMComUeMWTFROTOXyjpMOlVPHlS0hyIrXEZD6AdrBTZMIILdgHCbTFEXzLMRQu+sM9zphe+QUDiJqITEY4fLJbpVFYgB2T9H4bLuO1alsQDEjEzCXBtmSC4HxefqVBN0ZY+myaMAIJD5yCnabTyKRwqYcxQ0EUdt+5w8myfhSxvxB7z1eDsnYfozlIU+Lolef++vcZn5NWJsHLn21B6zrc79eJNIKEcT/t3nrIxAeMJWLgJyRpcr0byDRvIoEvl8nueH1m1AMZG+fPkPadBiKC1QJZZNLslrKgjw0QSfhtWD8dN1xHn2V86m5ImH4V9DEG3a3yZStbz4hMWpFaJOeTMr3OfSpEEKQJ3duh78sFoenlyxmQCR+Puot1RaewY2RSqM7QT5wRaP2V35wsrxlE8MLxqJLtJYde+fWjYXxOW5kASszA4QxR3G5MyJ8oKNDT89uSfmXSmR6zyRNCRFRIcpOL7ZmsGm6XZzVWNEtkkgNuo2M5IvD+zPkEcesrk1759aaLTAhDOKVIIOHlQYkkHvfhOiXjz6Uwc0/9GgnkIoRsK+6CIPiN95bwz0uZ8WYzyIpMinCWTnCylOTWH88TAWLTEwZ62kYe2pZ+Mz6nr0yagLQkTYnicQvWWaoJ++xpNZkE6zppkI0X0+P6yfU+Uolb4n8uwJJtZkdElvFa0cWtxYwkeR3uFQzGkaGfNSTZ5Iz3CXGyvK7nXGUSXLommG4jv3Y8jM/pycTdeuxAafukZPK8segyXG9T8s54yJI4CZCZhnZ6CqTW9hjfAjLxmIhMDP41G46QXeX6CGIlqmpvz39dQB9G4D+DTQ5DsMZCPg1vcmuSRz8Lv0UmBJwldwuhsPNIV8uu9ddKBi1KazIFMuEmj8dj8J/7GPDYH2UtsDOE6gTQz7vGxQN4wT4ny+ouDMPc5FX/FcYTO9puI79mTIyPKpPN//Gu7p4ymaB0DW+drutqOoskX0uElggikybcC0KP+224XsL/WL8MF/wzZbHNdbrcfBJJ/r4U31j/6Oex2HDLL1SNzJ5JKEvulsrkZ32iW388gyPpS4u8S1GB3szYu1QWycST4Igxj6urk30J88y7L+s+bw3jc5LKZCoNMwnVt2byOjLByn30s+4W8SIyWYwiJ8tiRQdtyPgcnEy+xYu+gjrQxP4t4Bft5GQpCp70BOMjMjlpIGjY8whwssy3OJcE4yMyOZf/NdoOBDhZOpqeQpTxEZmcwu0a5BIEOFmW6DhyG8ZHZHJkb2tsqxDgZFml7ICNGR+RyQGdrCFtgwAnyzZaj6OF8cmSiRPSRxgoBhQDczEQUmOWTEIBbQuBsyLgEkl/ZQQYnwQtFiir0hkhcGwElAt1/zI+IpM6Xjp7YgQ4WU4MRXbojI/IJAuTDgqBYVw3FA5lBEQmZWx0RghECHCyRCe1k5CtKhMFhRAoICAyKQAzHWZ8RCZ1vHT2xAhwspwYiuzQGR+RSRYmHRQCWjOZiwGRSYKQ//d/B07pfTdJMz5QfHgQC87vFx+gNN+0SwL94MHUeKYK9ofhuA8+agGKk6WlzZlkGB9VJkOZTO7X8PF6T6K542FDwV3C4zNIqmRCfQRtRwJzbw3MvPN4+YOSfH+hXntO6/SQKJFJPfU5WerS5zvL+IhMjEz4Ab0+IZHwrmq545mxASFsQSa+Gqi94qA1YL3t68hk6g8EGilrteV75ThZNhnJ4z7coknKPQP2NuDNJLk+ep/p2iuf67PlGOMjMmkgkzCHeDY30KuViUklG7i0yPXx+cpkMldkkvht0QGLkdz//PBk9uwB8WYTmk1i28gvGsfUSGSSoIdZnJ2D4/lLkLCSGFXmAiVkiKRfdwBrEnHfFkCz7bNK3Zu48q/7BCk0X+ZM+tFusT0lO/d9nJNltbVjjFzGd+DYm3PC9+YwvkFM+Xjzvk0mm175lQNifFSZWOLFCV1KSCS6d+7kkcCRNotwcLDzkKT0oGv0kQQLty/uBwFnM1kwG4pMisiFJzhZwnObbs/FAcXH7CTUKL92DIyPyGRzMim8VybxnE94JiaRSQLWRw5wsrzKiJK/cQnM8VGa6Hrl146H8RGZNJCJA238FBZgf9wLxO+38R2/P63vvcFslJEvBVe78z1RRcUR+qTKxMY3jTMJXrSLlLVb862SnCybj+PhXvXpfzGM4S34cDIiJY5e+fWjYXxEJkUyCX5VAZm4xA9eHB4m4fXWQyZYK8m/h0dksj7Qt9DAybKFzrCq8PHzXEeJ9SNG+PL7KYUY8cTfKx/3tmSP8RGZVMhkCcDzbfwMUrpBDoGyxZpJNNuhwqDKBAGZznbTaNAuUjY/0m+X4GTZZjyB/22Syr34vpcceuXXj4bxEZk0kAmSzM8kwWKmBYS/FLKV+sRfYSCV11ZEJglwHznAyfIKI9y7hy/Zy0sfKzkOR0xiIggrnjb59aNhfEQmW5NJZg1kdFv4E+ClTCROdksyyRKgKpOmTOJkaWq0RAiVH8VOShhQnieaXnloW/rN+IhMGsikCWz7aTglisftarNP6dIm7GM9mQzZO3VBLJjN0A/2i8GIYM9NeaHhB9vmZHnZ8IAvkQn8k17u5i9peuXXjofxEZk0kIm7PRmJOP+dkskwEk3uujjvznJQ5OWXHkU/IpM8gpwsean2o46sL7f7EF0Gu4oVl8pM1jZBuRsn0cr9AlS4pO6Vbzc9K8n4iExayCTz/zhFUkluGMr6oXoQSZ7OSNVm3SfRj8gkDx0nS16q9ai/NMnGTuHSFz5K29R/5WmVb7U+J8f4iEx6yIRnjhzCGxyzAEr687MYCGBNd+gHujDjYd90ozJL7DGJQ25wsqwf5PO+Eiy4jgl/cRUrVSvUUe8/7vXKU3fNu4yPyMTIpFA6hguiKEdnvpNkbHbPUxBJnlQmSGq6tu5Ub+LoB/amZOLJawx8kYlhp4304VEikxYysSSu/CQcEAySc2nAIcmZTJDsfHxpP9wO+r39IhPGSPseAVUmHosv2/LX3CcrED7mJ06Wjxmy044ZH1UmO3WUzPo8Apwsn7doXxYwPiKTfflH1uwIAU6WHZm2C1MYH5HJLtwiI/aIACfLHm38pE2Mj8jkk95Q37tGgJNl18Z+wDjGR2TyASeoy+9AgJPlO6x+n5WMT5ZMnJA+wkAxoBiYi4GQurJkEgpoWwicFQGXSPorI8D4JGixQFmVzgiBYyOgXKj7l/ERmdTx0tkTI8DJcmIoskNnfEQmWZh0UAik/3siTGIERCYxHtoTAkUEOFmKgic9wfioMjlpIGjY8whwssy3OJcE4yMyOZf/NdoOBDhZOpqeQpTxEZmcwu0a5BIEOFmW6DhyG8ZHZNLwPJOmgMAzT9Y+ttGe45l5lmyTIe1CeG4Knl+i55nE2HGyxGe1x/iITJrJBA8Kyj97c9gVmRSefUI2ikzqhMDJUpc+31nGR2RiZFIgCYuRFWSCJK79m8J1eg7oJpXJVmQyDR72n+ypTJwsFgorNh7j+5P8+4Xde6ov8H1Bb+8zXXvlC93OHmZ8RCZ7IRNcHolMZoP4XQKcLGv7RSXo9CYf+J86KbfJT3698tRd1y7jIzJpJZO5JMfsXQiKopegF+2wv+qh0apMinh3nOBk6WiaF3W+vVyH2/1h785xVQSIJSn8LBbCF9x73ybPAu6Vz1vZfJTxEZm0kgmcjqRnyOfOszz2uZ0FxJoF2CDgKrMgZrHyAuxkJGxMoh2DOOY3J8urRpkufD97gn/St0DmL7l75deOh/ERmTSSCRzurnFveLla6A0kXIlsQtlwG+2QqCKTEJ2PbnOyvMoYxBZCAP3gOMgex0svKe+V9/qWbTE+IpMmMsFM8LzWTZ07DPZrTlgJcHRYX+51j08HYjYxnUYmwXU1hJt97iuTqCmIayI89O2CIvyYLegP7SJlOHncb06Wl4zU/M2VaMGHkxEpcfTKrx8N4yMysQQvVBwOcyTT5TK9gDwjC5kwMZPkSx2OoDBRC64gwe1kawCk/YwtYaPIpAlITpamRp1C8H9C4AMmsEysBetk7vEAABBQSURBVC+G8+165TsNzYgzPiKTWTKJE9Nmc76coUTNYO9CYLhdniRR5AcjE56p8hrzRwv9kI0YCwKyGNhoVzQ6b8W3H+Vk2Xw8wJVjaeyolxx65dePhvERmViC12cAvwjmEzVaTa8GBhzn2xbzUmQCsD7+zcmyqUGzfq7HSkr8vfLrR8P4iExqZAKC4EVXC4SfwRHKuB4L2ewsA8fVHT5Kme5tKhPn8ORDlzmqTOCf+JuTJT67Zq9eRUBzShg4k4+jXnloW/rN+IhMSmRyv07rI+Fv/AHsU9Jf79NPOwUywaVEktBBkl/cWsx4+XMd7puQyTDcb+FdljGhgDxgG/aLwYixFcupAJcDbXKybDO0PBHkdMM/UQU8CubJqFc+12fPMcZHZFIiEyyAtSYQEo4qE3NwQB5lYtmOTFqCAraJTPJocbLkpXqOeiIB5tXWNrG4X/9wP8JjAOn7S+9JS698tfP5k4yPyKRIJvNgRhIFMolk3BLs4xF87sM92B9lLSDWXOZwr/l9kUkeFxzlZMHxpd9GAqWJhSYi1w98lE5AM2t8SR95+aVjce0YH5HJm8lk1nlVMkF5W7j0mlUeCyBQMUsi2LFv0iDK1irNGn73BifLutF436XEMF2GZsjE9dn7j3u98kvHxfiITIxM6g6dBRwJVwiI2fYQqJEJ+lj1fzvoyM96II+UTCgBRCYePG2pMkljwF/HjjPGUjJAoi9tD8MqZIJkTxfk0HjdN/SDXAasG6FkFpmsA/hgrVWZfK1DPemdLKc/5jFOlo8ZstOOGR9d5uzUUTLr8whwsnzeon1ZwPiITPblH1mzIwQ4WXZk2i5MYXxEJrtwi4zYIwKcLHu08ZM2MT4ik096Q33vGgFOll0b+wHjGB+RyQecoC6/AwFOlu+w+n1WMj5ZMnFC+ggDxYBiYC4GQurKkkkooG0hcFYEXCLpr4wA45OgxQJlVTojBI6NgHKh7l/GR2RSx0tnT4wAJ8uJocgOnfERmWRh0kEhkP5XrDCJERCZxHhoTwgUEeBkKQqe9ATjo8rkpIGgYc8jwMky3+JcEoyPyORc/tdoOxDgZOloegpRxkdkcgq3a5BLEOBkWaLjyG0Yny8jE/9v+G4gyTMwWz1XeWZIqwrI4WllL3nGyBuekYJxbPUNPPBMlG9+Rgony1YYHUUP43MYMrlf6Wnsl9twRzIGd/SOzwKpkgkRVtB2JLAf/2pPFxRInmVkgieZFZ7PCftf+MCl9sD2uETPUyEbgYfIpB3Zb5U8CJlw8vlAR8K7qiX3uoctyASJ8lEyQRJnyM4wwDt9quTZGsoe43VkMvUH+yNlrba8R46TZdNeH/fhOr7ehGM57aX3ma698mmPbUcYny+tTNgB+UDnWdIgWphcKNnD+Ecfb69MkIw1MkFFs3C8hte4kcfYv4f5Nr6MDHiAcIEZ9k0n7A/BtJP72OBk2cwq84f73x+O5bgX4GkThPk7365XPu6tb4/xOTmZBP/INRvU+UsSc95s+4yjLKgKr7VAwoEUMiqyh6AX7bC/6kHUIpMs1r0H7eVuePFanhRGtea38G0E3g/JBNYr32s7yYtMHCAB6Mb4c2RQSOxVZFLQaT6bO2+CtMHtbLwF0qLm+d0giG12DMh4Ii7ggUpElQmhOfrCEQjwLJMJsEx/aJiZ2DCJWNd5eTu9cENk4oDrTi44Ppwhnh4wh8+RUcZhSLRiqcukkNGRPYR2sKl7vDmtHgMj4JBURCY50CrHgGeZTBAfIGavDG3jHwN65b2+ZVuHJxML9MIC7Ji499v0HuHGmRrJmblMWE4mmC2es3saMMNg6xFh0oIgzP9pYMEm02lkElQSiR5TWNhI+xkFgQ2Riflhst1sgXa067YDCl7/zcmybY/As0QmOB8TBmxIiaNXHpqWfzM+B1kzCX6itcS7jj8NX2zfJ9L11kMmPumThFjz0zCSyb20fLQxE1SQCceQJF8aRAg0ExWZLMoYTpZFSoqN4LeM38c2iLv8+WTCsHcctcoXDWs+wfgchkyaEegShMPLN8jBqcliWLUfr9clvOnga12QCR+PdMe6olPYMTJprMTQLvou9EM2YiwgXhAb9k0l2hnj2ZndbHCybGsY8Mwnv38BWv4849wvv340jM/hyATB6wY6+2lM0p/M5Q1cAaf2kIm1sf4RWD9DpAcJZ3LoNfz2bYt5KTIJAWve5mRpbtgkCL/lyWIIXlub8yvi3JM09LVeFjUZWRVifM5NJiWSsBuKXEVSn82NGHIez7kCBMH3F1jCPwnl4dpCdmdkkiXpyUbggSBPg34CBWNrxS2H5YuPcbJs2x2Sv0Qmzv2l9TS0jYmjV37teBifw5FJE0CWuClRPG7XaQ2jfGkT9oHkiSqKUCDctnsM0l+FRrHJrut9pJIimViflerr4tZixjssr8O9Mt7QvLnt3B3FIBaQB2zDfjHARSbDbeYOWGCZxlZ+PaVXfs7fc+cPTybuVmIE+Px3SibPn40vw/U2JfQMomUH5hpOQdA6G2MsVJlYnxUy8WPfjkxyI+JjsE1kwsjwPqqLcmXib2FwFQji8WEVS3L/iU0ajfJsUuf+8cnkRv/wV0s4StJOLEdxJE86eyzRRm0KZEJSw+PxCD734R7sT0b2/RTOHXTsAw+RyRxoDWQS/lqYxHGehIC/n0ywdpiXn7Oydv48ZNI6+9fQajhnzkv6QylauKRp0N22ZtKgyGasTCVmPymusDMwAXiITAJQspttZOKa9v7jXq981ryGgwchk4ltM5UFgjllZjB0/I2gb8AuK2L9MZmgqigt8ma10UHoyIyTJOu7NTJBH2vsDHoHHsA1XTPxJDv6iHELdH16k5Pl0/bsrX/G50sXYCtkYskRk0aJXBD0Sx2F5OHLHCQRH+/qB2N5IZlsYmdlUNDvcRaZVOD6qlNfTibfgjVK2Pinu/1Z/y12fgY5TpbPWLHfXhmfL6tM9gusLDseApwsxxvhuhExPiKTdXiq9YER4GQ58FAXDY3xEZksglGNzoAAJ8sZxtwzRsZHZNKDnmRPhQAny6kG3zBYxkdk0gCaRM6JACfLOVEoj5rxyZKJE9JHGCgGFANzMRBSTZZMQgFtC4GzIuASSX9lBBifBC0WKKvSGSFwbASUC3X/Mj4ikzpeOntiBDhZTgxFduiMj8gkC5MOCoFhXDcUDmUERCZlbHRGCEQIcLJEJ7WTkK0qEwWFECggIDIpADMdZnxEJnW8dPbECHCynBiK7NAZH5FJFiYdFAJaM5mLgVOTSenZI3OgjefxgKHp2SLpczqatMwKmY1LnmGC559MDxzawkazp/UhRsCJn74/O/L9CXCy7M/Cz1rE+Hx5ZUIP2uE7d6+3AY/hdbDXEyPV5R/oMzZ+Pke1l0wsuQp3U7rXmAYxYTa+jEzScbqgsA+92sPsaSUTENpGT24LoHn7JifL2w3YeYeMz7HJhBKynhhpkr2FTCjpzEayHVWGJb0RwGW4gY2QyNXKJB1nrDN+8LDZ00gmoZ2NTXabMpwsiwy1dzDFuM7pMtwpPp7tZnxYAH7rZ8MyPl9OJjmX+KeHRWQwW5nkdAXHUGH0ViaBimiT9OGcBVEzmQRPc2siE/RE32hL/Zo9hQCNtGBMIdGFpWEkvP8dTpZuiyM8Osgkald/CHg8EUwVZsZX5kfzDarRDrsIAMbneGSCpBiv2T2xRKAz2NYGAPtvIyQ4eCMyMeeSLXackpr8OO6iCjAVGMd0AOdtDDkl4zGPE8uaPdZJXsk46yFQr/fBv7DLVU7fySicLPmRF47aC9fwMrTWpPW+eMZsjUwadSJ2f8I3EAT9zPi2MMKj32fiy79nUgSAIdDdN4OHJAxlpm1LLjhkEzLxdrEplrxvJBPrM1NS2zk2dIqwx1jG+3cVXa53W6e6X8Pjt+HbOGUVmYzx4pIdvm5LfOB9vd0q7zpCnPfpTF7aZa85adPDpML4HKgygdOeVUUY1AABjkrIBAL4BnGEv0jg2BZkYuSVzjpmI5GJn+l91fScudZd5riKItKDcTKxMpkE7Z7tL8Fb5wDk9M6XSNeywPUa37fFybKsZ8Rlw7iBvcMa2xmCH4wE0vjJ2ViuUGFbEEM5BYVjjM8xyMQWudz7gS/Bu4KvUYlticqJQWABfEc61gYJsZpMMKtMJacFDZFERCbe6Uh8/51ZgIWt07dVV9E43Wsmw8phWsUt2ZNgNo3j8sS4fiHz8C+SisYVGbS7HU6WZQbCd3NkArmJIMwPOcLwMeTj4Ge4uF/iEkdAb54wEOv5GKmPmPH5ejKJrtXxs2ZILi6hptLbiCFJjAA0c+LT+dYGCbqSTLw+Dpo2MqmZbm8AhK0FMokwc9fRFaVmb0UmQO9Qm5wsywaHZK6TCXA2mC0O28kExGI6RoNBPPn+0e/JyQROKl3WPIb77TpWKQAXwJUvcwB8Riecu4ZMgksD2MQBajZGM7gfa6ndM26mS5ZJKDfr4Ngz8PKXJqFNZk/QcayDSJCIDAHO30uCN7TrHdvO5vV/8F0+mZ/6UeUF90Uh3rKXOTmrgheaR20Q0/n+4d8l/mB8ErRYIGf2Xo6NQExldotNAC5LJq6aQSJcniQ0JgBKRzh3KZnY6n64op5abTY2ksn40vL7fbi7+hZkVSGTp8xlrEaSijg1x1/miUwy6LQcmieTJzlTsiPeImKY6w8xHOpC/7rMmUOv67wlapAYTkFU9iOJzZlu5nXrEtPq+gIysX5nLilGW27TOgbsGEfoA2IkOJBe+O3kW8ikC7G5u4Yzygy3XHmekd/xoW0mVvguTPBg0PBZ6Mvsdgue6CsmDlSSafWRlw+sq24yPl9dmUQjhVOiJIwksrOszebOgdx2WnsZnYAkmWTKDgr7fAy3cJHzNl8LGPGQLXY8DDS32Hy5DNfrdbg63cCgVpmE5kGe+gpFrF8i4FAm2gZOXTNqpGE3O5wsywxDwubJxPAN/ZrdbiGTXGVSmxDy8q3jZHxORSZ5kJ7Ozv2UHMkjSbrIZHKkuxSb55GxOwuuSoJHdoU7IIcNySRU37QNnEQmE1x1MiliWsPRnRsvv4OgCn904NgxXa5iQZtgjYXli0bFJ0QmMR7te3BIJ5m0d/CUFJn0IvY6eU6WZT29iEyy1ct0SQ6+CAy2uEra5SumoGlxk/FRZVKEik6ITAiQwi5wUmUyAfQCMhnX+W7D9eLvE3LrenPV9bg2ePG/vuXvSyn4NXP4+GSSMK8Hzw3++VnAxkiSI1YmhgvwyX83LZsAJ5FJJv2Odei4ZGJBnE8ETyTu/AIyoThoW4ClRg27Vo4uvI4Nu5i1sQuz+BeCsJ9o23S2LBhGLXe3w8myOwM/bBDjc5zLnA8Dq+6PhwAny/FGuG5EjI/IZB2ean1gBDhZDjzURUNjfEQmi2BUozMgwMlyhjH3jJHxEZn0oCfZUyHAyXKqwTcMlvERmTSAJpFzIsDJck4UyqNmfEQmZax05uQIcLKcHI5k+IxPlkyckD7CQDGgGJiLgZBhEjIJT2pbCAgBIdCKgMikFSnJCQEhUEVAZFKFRyeFgBBoRUBk0oqU5ISAEKgi8P8BsZGiSLx/cX8AAAAASUVORK5CYII=)"
      ]
    },
    {
      "cell_type": "code",
      "metadata": {
        "id": "eYHkfFuwoU9O"
      },
      "source": [
        "향상도 구하기 객관식 (19회)\n",
        "- 딸기, 사과를 동시 구입할 확률 / (딸기 구입확률 * 사과 구입확률)\n",
        "= (600/1450) / ( (1000/1450) * (900/1450) )\n",
        "= 0.96"
      ],
      "execution_count": null,
      "outputs": []
    },
    {
      "cell_type": "markdown",
      "metadata": {
        "id": "88F0u4GEnTQ5"
      },
      "source": [
        "### 38.신뢰도 구하기\n",
        "![image.png](data:image/png;base64,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)\n"
      ]
    },
    {
      "cell_type": "code",
      "metadata": {
        "id": "Kt77asw-nYn6"
      },
      "source": [
        "빵 -> 우유의 신뢰도는?\n",
        "= (빵, 우유가 함께 구입됨) / 빵 구매\n",
        "= 3 / 4 = 0.75"
      ],
      "execution_count": null,
      "outputs": []
    },
    {
      "cell_type": "markdown",
      "metadata": {
        "id": "5m92CBfKqnPi"
      },
      "source": [
        "### 39.Apriori 알고리즘\n",
        "- 연관규칙의 대표적인 알고리즘으로 현재도 많이 사용됨\n",
        "- 기본 개념은 데이터들에 대한 발생 빈도를 기반으로 각 게이터 간의 연관관계를 밝히기 위한 방법임"
      ]
    },
    {
      "cell_type": "markdown",
      "metadata": {
        "id": "HE0m2pBErfbP"
      },
      "source": [
        "### 40.FP-Growth\n",
        "-  연관분석의 대표적 알고리즘 apriori 단점을 보완하기 위해 트리와 노드링크라는 특별한 자료구조를 사용하는 알고리즘"
      ]
    },
    {
      "cell_type": "code",
      "metadata": {
        "id": "fTC5tfOjrg56"
      },
      "source": [
        "FP-Growth를 찾는 문제 (17회)"
      ],
      "execution_count": null,
      "outputs": []
    },
    {
      "cell_type": "markdown",
      "metadata": {
        "id": "DUOZ-94Hngjg"
      },
      "source": [
        "### 41.SOM (Self-Organizing Maps, 자기조직화지도)\n",
        "- 차원축소와 군집화를 동시에 수행하는 기법\n",
        "- 입력 벡터를 훈련집합에서 match 되도록 가중치가 조정되는 인공신경세포 격자에 기초한 Unsupervised Learning의 방법\n",
        "- 주요 기능 중 데이터의 특징을 파악하여 유사 데이터를 클러스터링 함\n",
        "- 대표적 **비지도학습**\n",
        "- 한개의 입력과 한개의 출력층\n",
        "- 입력층과 출력층이 완전 연결\n",
        "- 출력 뉴런들은 승자 뉴런이 되기 위해 경쟁하고 오직 승자만 학습한다"
      ]
    },
    {
      "cell_type": "code",
      "metadata": {
        "id": "hnDtYO6Cn74d"
      },
      "source": [
        "SOM의 설명으로 틀린 것 (18회)\n",
        "- 역전파 알고리즘 사용한다해서 틀림 (역전파 알고리즘은 AI의 인공신경망꺼임)"
      ],
      "execution_count": null,
      "outputs": []
    },
    {
      "cell_type": "markdown",
      "metadata": {
        "id": "btR7kblyoBqE"
      },
      "source": [
        "### 42.SOM Process\n",
        "1. SOM 맵의 노드에 대한 연결강도로 초기화한다\n",
        "2. 입력 벡터와 경쟁층 노드 간의 유크리드 거리를 계산하여 입력벡터와 가장 짧은 노드를 선택한다\n",
        "3. 선택된 노드와 이웃 노드의 가중치(연결강도)를 수정한다.\n",
        "4. 2번 단계로 가서 반복하면서 연결강도는 입력 패턴과 가장 유사한 경쟁층 뉴런이 승자가 된다. 결국 승자 독식 구조로 인해 경쟁층에는 승자 뉴런만이 나타난다.\n",
        "- 신경망은 역전파 알고리즘이지만, SOM은 전방패스를 사용하여 속도가 매우 빠르다."
      ]
    },
    {
      "cell_type": "markdown",
      "metadata": {
        "id": "iaadQnY8pA7x"
      },
      "source": [
        "### 43.BMU (Best Matching Unit)\n",
        "- SOM Process에서 입력 벡터와 경쟁층 노드 간의 유크리드 거리를 계산하여 그 중에서 제일 가까운 Neuron을 무엇이라 하는가?"
      ]
    },
    {
      "cell_type": "code",
      "metadata": {
        "id": "gVq1uki_pKSz"
      },
      "source": [
        "주관식 문제로 출제 (17회)"
      ],
      "execution_count": null,
      "outputs": []
    },
    {
      "cell_type": "markdown",
      "metadata": {
        "id": "k2TjKJydpP2K"
      },
      "source": [
        "### 44.SOM vs 신경망 모형\n",
        "1. 신경망 모형은 연속적인 layer로 구성, SOM은 2차원 그리드(격자) 구성\n",
        "2. 신경망 모형은 에러를 수정하는 학습, SOM은 경쟁 학습 실시\n",
        "3. SOM은 비지도학습"
      ]
    },
    {
      "cell_type": "markdown",
      "metadata": {
        "id": "A9PjpdaTKBDR"
      },
      "source": [
        "### 45.순차 패턴 분석\n",
        "- 연관규칙 분석과 유사한 아이디어에서 출발하지만 시간 또는 순서에 따른 사건의 규칙을 찾는다는 점에서 다른 분석"
      ]
    },
    {
      "cell_type": "code",
      "metadata": {
        "id": "AOTZlnjlKBDR"
      },
      "source": [
        "순차 패턴 분석의 의미를 적어 주고 순차 패턴 분석 찾기 (22회)"
      ],
      "execution_count": null,
      "outputs": []
    },
    {
      "cell_type": "markdown",
      "metadata": {
        "id": "aE9v_mdXHOM7"
      },
      "source": [
        "## C.그래프"
      ]
    },
    {
      "cell_type": "markdown",
      "metadata": {
        "id": "Rf9CTgT_pns7"
      },
      "source": [
        "### 46.Boxplot 해석\n",
        "1.  중위수는 상자의 선으로 표시되며 데이터 중심의 일반적인 측도로, 관측치의 절반은 이 값보다 작거나 같고 절반은 이 값보다 크거나 같다\n",
        "2. 사분위 간 범위 상자는 데이터의 중간 50%를 나타내며, 제1사분위수와 제3사분위수 값을 거리를 보여준다\n",
        "3. 수염은 상자의 양쪽에서 연결되며, 특이치를 제외하고 데이터 값의 하위 25%와 상위 25%를 범위를 나타낸다\n",
        "4. 상자박스는 그룹간 분포 차이를 비교할 수 있으며, 그 차이는 **통계적으로 유의미함을 보일 수는 없다**\n",
        "5. 상자그림은 그룹 간 분포 차이를 비교할 수 있다\n",
        "6. 상자그림에서 IQR은 제3사분위수 - 제1사분위수를 의미한다\n",
        "   - IQR(InterQuartile Range)로 표시하며 확률분포, 또는 자료값의 산포도를 나타내는 측도의 하나, 확률분포 또는 자료의 가운데 50%가 포함되는 범위를 \"사분위수 범위\"라고 한다\n",
        "7. 이상치 판단에 적합하다\n",
        "   - Q3+1.5*IQR 보다 큰 것\n",
        "   - Q1+1.5*IQR 보다 작은 것\n",
        "   - 평균으로부터 3*표준편차 밖의 값들 => ESD 알고리즘\n",
        "   - 이상치로 판단된 경우 **제거 여부는 해당 분야의 전문가와 상의**하여 판별해야 한다\n",
        "8. 상항(최댓값)과 하한(최솟값)은?\n",
        "   - Q1(1사분위수)= 4, Q3(3사분위수)=12\n",
        "   - 하한 = -8, 상한 = 22  (IQR * 1.5)"
      ]
    },
    {
      "cell_type": "code",
      "metadata": {
        "id": "sJPVxiTHpqjf"
      },
      "source": [
        "4번에서 분포 차이가 통계적으로 유의미함을 보여준다해서 틀린 것 찾기(16회)\n",
        "7번에서 이상치 판단에 적합하지 않다고 해서 틀린 것 찾기 (20회)\n",
        "6번에서 '사분위수 범위' 찾기 (21회)\n",
        "8번 구하기 (21회)\n",
        "7번 이상치 판단 방법 (22회)\n",
        "7번 ESD알고리즘 주관식 문제 (22회)\n",
        "7번 이상치 관련 틀린 것 찾기 (23회)\n",
        "- 이상치를 판단하고 제거한다해서 틀림"
      ],
      "execution_count": null,
      "outputs": []
    },
    {
      "cell_type": "markdown",
      "metadata": {
        "id": "hla9TJQ0rEpl"
      },
      "source": [
        "### 47.산포도 척도\n",
        "- 변동계수는 분포의 퍼짐 정도를 비교하게 해줌\n",
        "- IQR은 제3범위수 - 1사범위수를 의미함\n",
        "- 평균절대편차는  - 각 측정값과 평균 사이의 거리의 평균\n",
        "- 사분위수는 데이터 표본을 4개의 동일한 부분으로 나눈 값"
      ]
    },
    {
      "cell_type": "code",
      "metadata": {
        "id": "aYlQf0VkrHvK"
      },
      "source": [
        "적절하지 않을 것 찾기 (17회)\n",
        "- 평균절대편차에 대한 틀린 설명이 출제됨"
      ],
      "execution_count": null,
      "outputs": []
    },
    {
      "cell_type": "markdown",
      "metadata": {
        "id": "j3QLwpZFrIny"
      },
      "source": [
        "### 48.히스토그램\n",
        "- 히스토그램은 분포의 봉우리와 산포를 확인할 수 있다\n",
        "- 히스토그램에서 양쪽 끝의 고립된 막대가 특이치를 의미함\n",
        "- 연속형 자료에 적합하며, 범주형 자료는 막대 그래프 사용\n",
        "- 히스토그램은 표본 크기가 20전후일 때 사용, 표본 크기가 너무 작으면 각 막대에 데이터 분포를 정확하게 표시하기에 충분한 데이터 점이 포함되지 않을 수 있음"
      ]
    },
    {
      "cell_type": "code",
      "metadata": {
        "id": "yrR-ppNWrK5q"
      },
      "source": [
        "틀린 것 찾기 (17회)\n",
        "- 표본 크기와 관계가 없다해서 틀림"
      ],
      "execution_count": null,
      "outputs": []
    },
    {
      "cell_type": "markdown",
      "metadata": {
        "id": "2nEuenXlwqBK"
      },
      "source": [
        "## 이건 앞쪽인데..."
      ]
    },
    {
      "cell_type": "markdown",
      "metadata": {
        "id": "YgNfHmAHq2xR"
      },
      "source": [
        "### 데이터 정규성 확인 방법\n",
        "- Shapiro-Wilks test\n",
        "- Q-Q plot\n",
        "- histogram"
      ]
    },
    {
      "cell_type": "code",
      "metadata": {
        "id": "N-SuK9N1q45G"
      },
      "source": [
        "아닌 것 고르기 (18회)\n",
        "- Durbin-Watson :회귀 모형에 대한 가정의 독립성 검정에 사용되는 방법"
      ],
      "execution_count": null,
      "outputs": []
    },
    {
      "cell_type": "markdown",
      "metadata": {
        "id": "dSq7vOC_wsGh"
      },
      "source": [
        "### SQL\n",
        "- 관계형 데이터베이스 관리 시스템(DBMS)의 데이터를 관리하기 위해 설계된 특수 목적의 프로그래밍 언어로 챔벌린과 보이스가 개발되었던 프로그래밍 언어"
      ]
    },
    {
      "cell_type": "code",
      "metadata": {
        "id": "SpFPpIVfwuXP"
      },
      "source": [
        "주관식 문제 (17회)"
      ],
      "execution_count": null,
      "outputs": []
    },
    {
      "cell_type": "markdown",
      "metadata": {
        "id": "huE9T2kOwvgn"
      },
      "source": [
        "### 데이터 웨어하우스\n",
        "- 방대한 조직 내에서 **분산 운영되는 각각의 데이터 베이스 관리 시스템**들을 효율적으로 통합하여 조정, 관리하기 때문에 효율적인 의사결정 시스템을 위한 기초를 제공하는 정보관리시스템"
      ]
    },
    {
      "cell_type": "code",
      "metadata": {
        "id": "b0TzGgolwvSz"
      },
      "source": [
        "데이터 웨어하우스를 선택하는 객관식 문제 (17회)"
      ],
      "execution_count": null,
      "outputs": []
    }
  ]
}